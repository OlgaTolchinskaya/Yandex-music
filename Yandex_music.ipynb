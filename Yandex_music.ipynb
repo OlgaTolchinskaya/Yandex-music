{
 "cells": [
  {
   "cell_type": "markdown",
   "metadata": {
    "deletable": false,
    "editable": false,
    "id": "E0vqbgi9ay0H"
   },
   "source": [
    "# Яндекс Музыка"
   ]
  },
  {
   "cell_type": "markdown",
   "metadata": {
    "deletable": false,
    "editable": false,
    "id": "VUC88oWjTJw2"
   },
   "source": [
    "Сравнение Москвы и Петербурга окружено мифами. Например:\n",
    " * Москва — мегаполис, подчинённый жёсткому ритму рабочей недели;\n",
    " * Петербург — культурная столица, со своими вкусами.\n",
    "\n",
    "На данных Яндекс Музыки вы сравните поведение пользователей двух столиц.\n",
    "\n",
    "**Цель исследования** — проверьте три гипотезы:\n",
    "1. Активность пользователей зависит от дня недели. Причём в Москве и Петербурге это проявляется по-разному.\n",
    "2. В понедельник утром в Москве преобладают одни жанры, а в Петербурге — другие. Так же и вечером пятницы преобладают разные жанры — в зависимости от города. \n",
    "3. Москва и Петербург предпочитают разные жанры музыки. В Москве чаще слушают поп-музыку, в Петербурге — русский рэп.\n",
    "\n",
    "**Ход исследования**\n",
    "\n",
    "Данные о поведении пользователей вы получите из файла `yandex_music_project.csv`. О качестве данных ничего не известно. Поэтому перед проверкой гипотез понадобится обзор данных. \n",
    "\n",
    "Вы проверите данные на ошибки и оцените их влияние на исследование. Затем, на этапе предобработки вы поищете возможность исправить самые критичные ошибки данных.\n",
    " \n",
    "Таким образом, исследование пройдёт в три этапа:\n",
    " 1. Обзор данных.\n",
    " 2. Предобработка данных.\n",
    " 3. Проверка гипотез.\n",
    "\n"
   ]
  },
  {
   "cell_type": "markdown",
   "metadata": {
    "deletable": false,
    "editable": false,
    "id": "Ml1hmfXC_Zcs"
   },
   "source": [
    "## Обзор данных\n",
    "\n",
    "Составьте первое представление о данных Яндекс Музыки.\n",
    "\n",
    "\n"
   ]
  },
  {
   "cell_type": "markdown",
   "metadata": {
    "deletable": false,
    "editable": false,
    "id": "57eAOGIz_Zcs",
    "tags": [
     "start_task"
    ]
   },
   "source": [
    "**Задание 1**\n",
    "\n",
    "Основной инструмент аналитика — `pandas`. Импортируйте эту библиотеку."
   ]
  },
  {
   "cell_type": "code",
   "execution_count": 1,
   "metadata": {
    "deletable": false,
    "id": "AXN7PHPN_Zcs"
   },
   "outputs": [],
   "source": [
    "import pandas as pd # импорт библиотеки pandas"
   ]
  },
  {
   "cell_type": "markdown",
   "metadata": {
    "deletable": false,
    "editable": false,
    "id": "SG23P8tt_Zcs",
    "tags": [
     "start_task"
    ]
   },
   "source": [
    "**Задание 2**\n",
    "\n",
    "Прочитайте файл `yandex_music_project.csv` из папки `/datasets` и сохраните его в переменной `df`:"
   ]
  },
  {
   "cell_type": "code",
   "execution_count": 2,
   "metadata": {
    "deletable": false,
    "id": "fFVu7vqh_Zct"
   },
   "outputs": [],
   "source": [
    "df = pd.read_csv('/datasets/yandex_music_project.csv') # чтение файла с данными и сохранение в df"
   ]
  },
  {
   "cell_type": "markdown",
   "metadata": {
    "deletable": false,
    "editable": false,
    "id": "rDoOMd3uTqnZ",
    "tags": [
     "start_task"
    ]
   },
   "source": [
    "**Задание 3**\n",
    "\n",
    "\n",
    "Выведите на экран первые десять строк таблицы:"
   ]
  },
  {
   "cell_type": "code",
   "execution_count": 3,
   "metadata": {
    "deletable": false,
    "id": "oWTVX3gW_Zct"
   },
   "outputs": [
    {
     "name": "stdout",
     "output_type": "stream",
     "text": [
      "     userID                        Track            artist   genre  \\\n",
      "0  FFB692EC            Kamigata To Boots  The Mass Missile    rock   \n",
      "1  55204538  Delayed Because of Accident  Andreas Rönnberg    rock   \n",
      "2    20EC38            Funiculì funiculà       Mario Lanza     pop   \n",
      "3  A3DD03C9        Dragons in the Sunset        Fire + Ice    folk   \n",
      "4  E2DC1FAE                  Soul People        Space Echo   dance   \n",
      "5  842029A1                    Преданная         IMPERVTOR  rusrap   \n",
      "6  4CB90AA5                         True      Roman Messer   dance   \n",
      "7  F03E1C1F             Feeling This Way   Polina Griffith   dance   \n",
      "8  8FA1D3BE     И вновь продолжается бой               NaN  ruspop   \n",
      "9  E772D5C0                    Pessimist               NaN   dance   \n",
      "\n",
      "             City        time        Day  \n",
      "0  Saint-Petersburg  20:28:33  Wednesday  \n",
      "1            Moscow  14:07:09     Friday  \n",
      "2  Saint-Petersburg  20:58:07  Wednesday  \n",
      "3  Saint-Petersburg  08:37:09     Monday  \n",
      "4            Moscow  08:34:34     Monday  \n",
      "5  Saint-Petersburg  13:09:41     Friday  \n",
      "6            Moscow  13:00:07  Wednesday  \n",
      "7            Moscow  20:47:49  Wednesday  \n",
      "8            Moscow  09:17:40     Friday  \n",
      "9  Saint-Petersburg  21:20:49  Wednesday  \n"
     ]
    }
   ],
   "source": [
    "print(df.head(10)) # получение первых 10 строк таблицы df"
   ]
  },
  {
   "cell_type": "markdown",
   "metadata": {
    "deletable": false,
    "editable": false,
    "id": "EO73Kwic_Zct",
    "tags": [
     "start_task"
    ]
   },
   "source": [
    "**Задание 4**\n",
    "\n",
    "\n",
    "Одной командой получить общую информацию о таблице c помощью метода `info()`:"
   ]
  },
  {
   "cell_type": "code",
   "execution_count": 4,
   "metadata": {
    "deletable": false,
    "id": "DSf2kIb-_Zct"
   },
   "outputs": [
    {
     "name": "stdout",
     "output_type": "stream",
     "text": [
      "<class 'pandas.core.frame.DataFrame'>\n",
      "RangeIndex: 65079 entries, 0 to 65078\n",
      "Data columns (total 7 columns):\n",
      " #   Column    Non-Null Count  Dtype \n",
      "---  ------    --------------  ----- \n",
      " 0     userID  65079 non-null  object\n",
      " 1   Track     63848 non-null  object\n",
      " 2   artist    57876 non-null  object\n",
      " 3   genre     63881 non-null  object\n",
      " 4     City    65079 non-null  object\n",
      " 5   time      65079 non-null  object\n",
      " 6   Day       65079 non-null  object\n",
      "dtypes: object(7)\n",
      "memory usage: 3.5+ MB\n"
     ]
    }
   ],
   "source": [
    "df.info() # получение общей информации о данных в таблице df"
   ]
  },
  {
   "cell_type": "markdown",
   "metadata": {
    "deletable": false,
    "editable": false,
    "id": "TaQ2Iwbr_Zct"
   },
   "source": [
    "Итак, в таблице семь столбцов. Тип данных во всех столбцах — `object`.\n",
    "\n",
    "Согласно документации к данным:\n",
    "* `userID` — идентификатор пользователя;\n",
    "* `Track` — название трека;  \n",
    "* `artist` — имя исполнителя;\n",
    "* `genre` — название жанра;\n",
    "* `City` — город пользователя;\n",
    "* `time` — время начала прослушивания;\n",
    "* `Day` — день недели.\n",
    "\n",
    "Количество значений в столбцах различается. Значит, в данных есть пропущенные значения."
   ]
  },
  {
   "cell_type": "markdown",
   "metadata": {
    "deletable": false,
    "editable": false,
    "id": "rAfziTBDmf2h",
    "tags": [
     "start_task"
    ]
   },
   "source": [
    "**Задание 5**\n",
    "\n",
    "**Вопрос со свободной формой ответа**\n",
    "\n",
    "В названиях колонок видны нарушения стиля:\n",
    "* Строчные буквы сочетаются с прописными.\n",
    "* Встречаются пробелы.\n",
    "\n",
    "Какое третье нарушение?"
   ]
  },
  {
   "cell_type": "code",
   "execution_count": 5,
   "metadata": {
    "id": "jD8EXEIvmf2h"
   },
   "outputs": [],
   "source": [
    "# отсутствует нижнее подчеркивание между словами.  Напишите ваш ответ здесь комментарием. Не удаляйте символ #. Не меняйте тип этой ячейки на Markdown."
   ]
  },
  {
   "cell_type": "markdown",
   "metadata": {
    "deletable": false,
    "editable": false,
    "id": "MCB6-dXG_Zct"
   },
   "source": [
    "**Выводы**\n",
    "\n",
    "В каждой строке таблицы — данные о прослушанном треке. Часть колонок описывает саму композицию: название, исполнителя и жанр. Остальные данные рассказывают о пользователе: из какого он города, когда он слушал музыку. \n",
    "\n",
    "Предварительно можно утверждать, что данных достаточно для проверки гипотез. Но встречаются пропуски в данных, а в названиях колонок — расхождения с хорошим стилем.\n",
    "\n",
    "Чтобы двигаться дальше, нужно устранить проблемы в данных."
   ]
  },
  {
   "cell_type": "markdown",
   "metadata": {
    "deletable": false,
    "editable": false,
    "id": "SjYF6Ub9_Zct"
   },
   "source": [
    "## Предобработка данных\n",
    "Исправьте стиль в заголовках столбцов, исключите пропуски. Затем проверьте данные на дубликаты."
   ]
  },
  {
   "cell_type": "markdown",
   "metadata": {
    "deletable": false,
    "editable": false,
    "id": "dIaKXr29_Zct",
    "tags": [
     "start_task"
    ]
   },
   "source": [
    "### Стиль заголовков\n",
    "\n",
    "**Задание 6**\n",
    "\n",
    "Выведите на экран названия столбцов:"
   ]
  },
  {
   "cell_type": "code",
   "execution_count": 6,
   "metadata": {
    "deletable": false,
    "id": "oKOTdF_Q_Zct"
   },
   "outputs": [
    {
     "name": "stdout",
     "output_type": "stream",
     "text": [
      "Index(['  userID', 'Track', 'artist', 'genre', '  City  ', 'time', 'Day'], dtype='object')\n"
     ]
    }
   ],
   "source": [
    "print(df.columns) # перечень названий столбцов таблицы df"
   ]
  },
  {
   "cell_type": "markdown",
   "metadata": {
    "deletable": false,
    "editable": false,
    "id": "zj5534cv_Zct",
    "tags": [
     "start_task"
    ]
   },
   "source": [
    "**Задание 7**\n",
    "\n",
    "\n",
    "Приведите названия в соответствие с хорошим стилем:\n",
    "* несколько слов в названии запишите в «змеином_регистре»,\n",
    "* все символы сделайте строчными,\n",
    "* устраните пробелы.\n",
    "\n",
    "Для этого переименуйте колонки так:\n",
    "* `'  userID'` → `'user_id'`;\n",
    "* `'Track'` → `'track'`;\n",
    "* `'  City  '` → `'city'`;\n",
    "* `'Day'` → `'day'`."
   ]
  },
  {
   "cell_type": "code",
   "execution_count": 7,
   "metadata": {
    "deletable": false,
    "id": "ISlFqs5y_Zct"
   },
   "outputs": [],
   "source": [
    "df = df.rename(columns={'  userID': 'user_id','Track': 'track', '  City  ': 'city', 'Day' : 'day'})        # переименование столбцов"
   ]
  },
  {
   "cell_type": "markdown",
   "metadata": {
    "deletable": false,
    "editable": false,
    "id": "1dqbh00J_Zct",
    "tags": [
     "start_task"
    ]
   },
   "source": [
    "**Задание 8**\n",
    "\n",
    "\n",
    "Проверьте результат. Для этого ещё раз выведите на экран названия столбцов:"
   ]
  },
  {
   "cell_type": "code",
   "execution_count": 8,
   "metadata": {
    "deletable": false,
    "id": "d4NOAmTW_Zct"
   },
   "outputs": [
    {
     "name": "stdout",
     "output_type": "stream",
     "text": [
      "Index(['user_id', 'track', 'artist', 'genre', 'city', 'time', 'day'], dtype='object')\n"
     ]
    }
   ],
   "source": [
    "print(df.columns) # проверка результатов - перечень названий столбцов"
   ]
  },
  {
   "cell_type": "markdown",
   "metadata": {
    "deletable": false,
    "editable": false,
    "id": "5ISfbcfY_Zct",
    "tags": [
     "start_task"
    ]
   },
   "source": [
    "### Пропуски значений\n",
    "\n",
    "**Задание 9**\n",
    "\n",
    "Сначала посчитайте, сколько в таблице пропущенных значений. Для этого достаточно двух методов `pandas`:"
   ]
  },
  {
   "cell_type": "code",
   "execution_count": 9,
   "metadata": {
    "deletable": false,
    "id": "RskX29qr_Zct",
    "scrolled": true
   },
   "outputs": [
    {
     "name": "stdout",
     "output_type": "stream",
     "text": [
      "user_id       0\n",
      "track      1231\n",
      "artist     7203\n",
      "genre      1198\n",
      "city          0\n",
      "time          0\n",
      "day           0\n",
      "dtype: int64\n"
     ]
    }
   ],
   "source": [
    "print(df.isna().sum()) # подсчёт пропусков"
   ]
  },
  {
   "cell_type": "markdown",
   "metadata": {
    "deletable": false,
    "editable": false,
    "id": "qubhgnlO_Zct"
   },
   "source": [
    "Не все пропущенные значения влияют на исследование. Так в `track` и `artist` пропуски не важны для вашей работы. Достаточно заменить их явными обозначениями.\n",
    "\n",
    "Но пропуски в `genre` могут помешать сравнению музыкальных вкусов в Москве и Санкт-Петербурге. На практике было бы правильно установить причину пропусков и восстановить данные. Такой возможности нет в учебном проекте. Придётся:\n",
    "* заполнить и эти пропуски явными обозначениями;\n",
    "* оценить, насколько они повредят расчётам. "
   ]
  },
  {
   "cell_type": "markdown",
   "metadata": {
    "deletable": false,
    "editable": false,
    "id": "fSv2laPA_Zct",
    "tags": [
     "start_task"
    ]
   },
   "source": [
    "**Задание 10**\n",
    "\n",
    "Замените пропущенные значения в столбцах `track`, `artist` и `genre` на строку `'unknown'`. Для этого создайте список `columns_to_replace`, переберите его элементы циклом `for` и для каждого столбца выполните замену пропущенных значений:"
   ]
  },
  {
   "cell_type": "code",
   "execution_count": 10,
   "metadata": {
    "deletable": false,
    "id": "KplB5qWs_Zct"
   },
   "outputs": [],
   "source": [
    "columns_to_replace = ['track', 'artist', 'genre'] # перебор названий столбцов в цикле и замена пропущенных значений на 'unknown'\n",
    "for data in columns_to_replace:     \n",
    "    df[data] = df[data].fillna('unknown')\n",
    "    \n",
    "    "
   ]
  },
  {
   "cell_type": "markdown",
   "metadata": {
    "deletable": false,
    "editable": false,
    "id": "Ilsm-MZo_Zct",
    "tags": [
     "start_task"
    ]
   },
   "source": [
    "**Задание 11**\n",
    "\n",
    "Убедитесь, что в таблице не осталось пропусков. Для этого ещё раз посчитайте пропущенные значения."
   ]
  },
  {
   "cell_type": "code",
   "execution_count": 11,
   "metadata": {
    "deletable": false,
    "id": "Tq4nYRX4_Zct"
   },
   "outputs": [
    {
     "name": "stdout",
     "output_type": "stream",
     "text": [
      "user_id    0\n",
      "track      0\n",
      "artist     0\n",
      "genre      0\n",
      "city       0\n",
      "time       0\n",
      "day        0\n",
      "dtype: int64\n"
     ]
    }
   ],
   "source": [
    "print(df.isna().sum())"
   ]
  },
  {
   "cell_type": "markdown",
   "metadata": {
    "deletable": false,
    "editable": false,
    "id": "BWKRtBJ3_Zct",
    "tags": [
     "start_task"
    ]
   },
   "source": [
    "### Дубликаты\n",
    "\n",
    "**Задание 12**\n",
    "\n",
    "Посчитайте явные дубликаты в таблице одной командой:"
   ]
  },
  {
   "cell_type": "code",
   "execution_count": 12,
   "metadata": {
    "deletable": false,
    "id": "36eES_S0_Zct"
   },
   "outputs": [
    {
     "name": "stdout",
     "output_type": "stream",
     "text": [
      "3826\n"
     ]
    }
   ],
   "source": [
    "print(df.duplicated().sum()) # подсчёт явных дубликатов"
   ]
  },
  {
   "cell_type": "markdown",
   "metadata": {
    "deletable": false,
    "editable": false,
    "id": "Ot25h6XR_Zct",
    "tags": [
     "start_task"
    ]
   },
   "source": [
    "**Задание 13**\n",
    "\n",
    "Вызовите специальный метод `pandas`, чтобы удалить явные дубликаты:"
   ]
  },
  {
   "cell_type": "code",
   "execution_count": 13,
   "metadata": {
    "deletable": false,
    "id": "exFHq6tt_Zct"
   },
   "outputs": [],
   "source": [
    "df = df.drop_duplicates() # удаление явных дубликатов"
   ]
  },
  {
   "cell_type": "markdown",
   "metadata": {
    "deletable": false,
    "editable": false,
    "id": "Im2YwBEG_Zct",
    "tags": [
     "start_task"
    ]
   },
   "source": [
    "**Задание 14**\n",
    "\n",
    "Ещё раз посчитайте явные дубликаты в таблице — убедитесь, что полностью от них избавились:"
   ]
  },
  {
   "cell_type": "code",
   "execution_count": 14,
   "metadata": {
    "deletable": false,
    "id": "-8PuNWQ0_Zct"
   },
   "outputs": [
    {
     "name": "stdout",
     "output_type": "stream",
     "text": [
      "0\n"
     ]
    }
   ],
   "source": [
    "print(df.duplicated().sum()) # проверка на отсутствие дубликатов"
   ]
  },
  {
   "cell_type": "markdown",
   "metadata": {
    "deletable": false,
    "editable": false,
    "id": "QlFBsxAr_Zct"
   },
   "source": [
    "Теперь избавьтесь от неявных дубликатов в колонке `genre`. Например, название одного и того же жанра может быть записано немного по-разному. Такие ошибки тоже повлияют на результат исследования."
   ]
  },
  {
   "cell_type": "markdown",
   "metadata": {
    "deletable": false,
    "editable": false,
    "id": "eSjWwsOh_Zct",
    "tags": [
     "start_task"
    ]
   },
   "source": [
    "**Задание 15**\n",
    "\n",
    "Выведите на экран список уникальных названий жанров, отсортированный в алфавитном порядке. Для этого:\n",
    "1. извлеките нужный столбец датафрейма; \n",
    "2. примените к нему метод сортировки;\n",
    "3. для отсортированного столбца вызовите метод, который вернёт уникальные значения из столбца."
   ]
  },
  {
   "cell_type": "code",
   "execution_count": 15,
   "metadata": {
    "deletable": false,
    "id": "JIUcqzZN_Zct"
   },
   "outputs": [
    {
     "name": "stdout",
     "output_type": "stream",
     "text": [
      "['acid' 'acoustic' 'action' 'adult' 'africa' 'afrikaans' 'alternative'\n",
      " 'alternativepunk' 'ambient' 'americana' 'animated' 'anime' 'arabesk'\n",
      " 'arabic' 'arena' 'argentinetango' 'art' 'audiobook' 'author' 'avantgarde'\n",
      " 'axé' 'baile' 'balkan' 'beats' 'bigroom' 'black' 'bluegrass' 'blues'\n",
      " 'bollywood' 'bossa' 'brazilian' 'breakbeat' 'breaks' 'broadway'\n",
      " 'cantautori' 'cantopop' 'canzone' 'caribbean' 'caucasian' 'celtic'\n",
      " 'chamber' 'chanson' 'children' 'chill' 'chinese' 'choral' 'christian'\n",
      " 'christmas' 'classical' 'classicmetal' 'club' 'colombian' 'comedy'\n",
      " 'conjazz' 'contemporary' 'country' 'cuban' 'dance' 'dancehall' 'dancepop'\n",
      " 'dark' 'death' 'deep' 'deutschrock' 'deutschspr' 'dirty' 'disco' 'dnb'\n",
      " 'documentary' 'downbeat' 'downtempo' 'drum' 'dub' 'dubstep' 'eastern'\n",
      " 'easy' 'electronic' 'electropop' 'emo' 'entehno' 'epicmetal' 'estrada'\n",
      " 'ethnic' 'eurofolk' 'european' 'experimental' 'extrememetal' 'fado'\n",
      " 'fairytail' 'film' 'fitness' 'flamenco' 'folk' 'folklore' 'folkmetal'\n",
      " 'folkrock' 'folktronica' 'forró' 'frankreich' 'französisch' 'french'\n",
      " 'funk' 'future' 'gangsta' 'garage' 'german' 'ghazal' 'gitarre' 'glitch'\n",
      " 'gospel' 'gothic' 'grime' 'grunge' 'gypsy' 'handsup' \"hard'n'heavy\"\n",
      " 'hardcore' 'hardstyle' 'hardtechno' 'hip' 'hip-hop' 'hiphop' 'historisch'\n",
      " 'holiday' 'hop' 'horror' 'house' 'hymn' 'idm' 'independent' 'indian'\n",
      " 'indie' 'indipop' 'industrial' 'inspirational' 'instrumental'\n",
      " 'international' 'irish' 'jam' 'japanese' 'jazz' 'jewish' 'jpop' 'jungle'\n",
      " 'k-pop' 'karadeniz' 'karaoke' 'kayokyoku' 'korean' 'laiko' 'latin'\n",
      " 'latino' 'leftfield' 'local' 'lounge' 'loungeelectronic' 'lovers'\n",
      " 'malaysian' 'mandopop' 'marschmusik' 'meditative' 'mediterranean'\n",
      " 'melodic' 'metal' 'metalcore' 'mexican' 'middle' 'minimal'\n",
      " 'miscellaneous' 'modern' 'mood' 'mpb' 'muslim' 'native' 'neoklassik'\n",
      " 'neue' 'new' 'newage' 'newwave' 'nu' 'nujazz' 'numetal' 'oceania' 'old'\n",
      " 'opera' 'orchestral' 'other' 'piano' 'podcasts' 'pop' 'popdance'\n",
      " 'popelectronic' 'popeurodance' 'poprussian' 'post' 'posthardcore'\n",
      " 'postrock' 'power' 'progmetal' 'progressive' 'psychedelic' 'punjabi'\n",
      " 'punk' 'quebecois' 'ragga' 'ram' 'rancheras' 'rap' 'rave' 'reggae'\n",
      " 'reggaeton' 'regional' 'relax' 'religious' 'retro' 'rhythm' 'rnb' 'rnr'\n",
      " 'rock' 'rockabilly' 'rockalternative' 'rockindie' 'rockother' 'romance'\n",
      " 'roots' 'ruspop' 'rusrap' 'rusrock' 'russian' 'salsa' 'samba' 'scenic'\n",
      " 'schlager' 'self' 'sertanejo' 'shanson' 'shoegazing' 'showtunes' 'singer'\n",
      " 'ska' 'skarock' 'slow' 'smooth' 'soft' 'soul' 'soulful' 'sound'\n",
      " 'soundtrack' 'southern' 'specialty' 'speech' 'spiritual' 'sport'\n",
      " 'stonerrock' 'surf' 'swing' 'synthpop' 'synthrock' 'sängerportrait'\n",
      " 'tango' 'tanzorchester' 'taraftar' 'tatar' 'tech' 'techno' 'teen'\n",
      " 'thrash' 'top' 'traditional' 'tradjazz' 'trance' 'tribal' 'trip'\n",
      " 'triphop' 'tropical' 'türk' 'türkçe' 'ukrrock' 'unknown' 'urban' 'uzbek'\n",
      " 'variété' 'vi' 'videogame' 'vocal' 'western' 'world' 'worldbeat' 'ïîï'\n",
      " 'электроника']\n"
     ]
    }
   ],
   "source": [
    "print(df['genre'].sort_values().unique()) # Просмотр уникальных названий жанров"
   ]
  },
  {
   "cell_type": "markdown",
   "metadata": {
    "deletable": false,
    "editable": false,
    "id": "qej-Qmuo_Zct",
    "tags": [
     "start_task"
    ]
   },
   "source": [
    "**Задание 16**\n",
    "\n",
    "Просмотрите список и найдите неявные дубликаты названия `hiphop`. Это могут быть названия с ошибками или альтернативные названия того же жанра.\n",
    "\n",
    "Вы увидите следующие неявные дубликаты:\n",
    "* *hip*,\n",
    "* *hop*,\n",
    "* *hip-hop*.\n",
    "\n",
    "Чтобы очистить от них таблицу используйте метод `replace()` с двумя аргументами: списком строк-дубликатов (включащий *hip*, *hop* и *hip-hop*) и строкой с правильным значением. Вам нужно исправить колонку `genre` в таблице `df`: заменить каждое значение из списка дубликатов на верное. Вместо `hip`, `hop` и `hip-hop` в таблице должно быть значение `hiphop`:"
   ]
  },
  {
   "cell_type": "code",
   "execution_count": 16,
   "metadata": {
    "deletable": false,
    "id": "ErNDkmns_Zct"
   },
   "outputs": [],
   "source": [
    "duplicates = ['hip', 'hop', 'hip-hop'] # список неправильных имён\n",
    "name = 'hiphop' # правильное имя\n",
    "df['genre'] = df['genre'].replace(duplicates, name) # Устранение неявных дубликатов"
   ]
  },
  {
   "cell_type": "markdown",
   "metadata": {
    "deletable": false,
    "editable": false,
    "id": "zQKF16_RG15m",
    "tags": [
     "start_task"
    ]
   },
   "source": [
    "**Задание 17**\n",
    "\n",
    "Проверьте, что заменили неправильные названия:\n",
    "\n",
    "*   hip,\n",
    "*   hop,\n",
    "*   hip-hop.\n",
    "\n",
    "Выведите отсортированный список уникальных значений столбца `genre`:"
   ]
  },
  {
   "cell_type": "code",
   "execution_count": 17,
   "metadata": {
    "deletable": false,
    "id": "wvixALnFG15m"
   },
   "outputs": [
    {
     "name": "stdout",
     "output_type": "stream",
     "text": [
      "['acid' 'acoustic' 'action' 'adult' 'africa' 'afrikaans' 'alternative'\n",
      " 'alternativepunk' 'ambient' 'americana' 'animated' 'anime' 'arabesk'\n",
      " 'arabic' 'arena' 'argentinetango' 'art' 'audiobook' 'author' 'avantgarde'\n",
      " 'axé' 'baile' 'balkan' 'beats' 'bigroom' 'black' 'bluegrass' 'blues'\n",
      " 'bollywood' 'bossa' 'brazilian' 'breakbeat' 'breaks' 'broadway'\n",
      " 'cantautori' 'cantopop' 'canzone' 'caribbean' 'caucasian' 'celtic'\n",
      " 'chamber' 'chanson' 'children' 'chill' 'chinese' 'choral' 'christian'\n",
      " 'christmas' 'classical' 'classicmetal' 'club' 'colombian' 'comedy'\n",
      " 'conjazz' 'contemporary' 'country' 'cuban' 'dance' 'dancehall' 'dancepop'\n",
      " 'dark' 'death' 'deep' 'deutschrock' 'deutschspr' 'dirty' 'disco' 'dnb'\n",
      " 'documentary' 'downbeat' 'downtempo' 'drum' 'dub' 'dubstep' 'eastern'\n",
      " 'easy' 'electronic' 'electropop' 'emo' 'entehno' 'epicmetal' 'estrada'\n",
      " 'ethnic' 'eurofolk' 'european' 'experimental' 'extrememetal' 'fado'\n",
      " 'fairytail' 'film' 'fitness' 'flamenco' 'folk' 'folklore' 'folkmetal'\n",
      " 'folkrock' 'folktronica' 'forró' 'frankreich' 'französisch' 'french'\n",
      " 'funk' 'future' 'gangsta' 'garage' 'german' 'ghazal' 'gitarre' 'glitch'\n",
      " 'gospel' 'gothic' 'grime' 'grunge' 'gypsy' 'handsup' \"hard'n'heavy\"\n",
      " 'hardcore' 'hardstyle' 'hardtechno' 'hiphop' 'historisch' 'holiday'\n",
      " 'horror' 'house' 'hymn' 'idm' 'independent' 'indian' 'indie' 'indipop'\n",
      " 'industrial' 'inspirational' 'instrumental' 'international' 'irish' 'jam'\n",
      " 'japanese' 'jazz' 'jewish' 'jpop' 'jungle' 'k-pop' 'karadeniz' 'karaoke'\n",
      " 'kayokyoku' 'korean' 'laiko' 'latin' 'latino' 'leftfield' 'local'\n",
      " 'lounge' 'loungeelectronic' 'lovers' 'malaysian' 'mandopop' 'marschmusik'\n",
      " 'meditative' 'mediterranean' 'melodic' 'metal' 'metalcore' 'mexican'\n",
      " 'middle' 'minimal' 'miscellaneous' 'modern' 'mood' 'mpb' 'muslim'\n",
      " 'native' 'neoklassik' 'neue' 'new' 'newage' 'newwave' 'nu' 'nujazz'\n",
      " 'numetal' 'oceania' 'old' 'opera' 'orchestral' 'other' 'piano' 'podcasts'\n",
      " 'pop' 'popdance' 'popelectronic' 'popeurodance' 'poprussian' 'post'\n",
      " 'posthardcore' 'postrock' 'power' 'progmetal' 'progressive' 'psychedelic'\n",
      " 'punjabi' 'punk' 'quebecois' 'ragga' 'ram' 'rancheras' 'rap' 'rave'\n",
      " 'reggae' 'reggaeton' 'regional' 'relax' 'religious' 'retro' 'rhythm'\n",
      " 'rnb' 'rnr' 'rock' 'rockabilly' 'rockalternative' 'rockindie' 'rockother'\n",
      " 'romance' 'roots' 'ruspop' 'rusrap' 'rusrock' 'russian' 'salsa' 'samba'\n",
      " 'scenic' 'schlager' 'self' 'sertanejo' 'shanson' 'shoegazing' 'showtunes'\n",
      " 'singer' 'ska' 'skarock' 'slow' 'smooth' 'soft' 'soul' 'soulful' 'sound'\n",
      " 'soundtrack' 'southern' 'specialty' 'speech' 'spiritual' 'sport'\n",
      " 'stonerrock' 'surf' 'swing' 'synthpop' 'synthrock' 'sängerportrait'\n",
      " 'tango' 'tanzorchester' 'taraftar' 'tatar' 'tech' 'techno' 'teen'\n",
      " 'thrash' 'top' 'traditional' 'tradjazz' 'trance' 'tribal' 'trip'\n",
      " 'triphop' 'tropical' 'türk' 'türkçe' 'ukrrock' 'unknown' 'urban' 'uzbek'\n",
      " 'variété' 'vi' 'videogame' 'vocal' 'western' 'world' 'worldbeat' 'ïîï'\n",
      " 'электроника']\n"
     ]
    }
   ],
   "source": [
    "print(df['genre'].sort_values().unique()) # Проверка на неявные дубликаты"
   ]
  },
  {
   "cell_type": "markdown",
   "metadata": {
    "deletable": false,
    "editable": false,
    "id": "jz6a9-7HQUDd"
   },
   "source": [
    "**Выводы**\n",
    "\n",
    "Предобработка обнаружила три проблемы в данных:\n",
    "\n",
    "- нарушения в стиле заголовков,\n",
    "- пропущенные значения,\n",
    "- дубликаты — явные и неявные.\n",
    "\n",
    "Вы исправили заголовки, чтобы упростить работу с таблицей. Без дубликатов исследование станет более точным.\n",
    "\n",
    "Пропущенные значения вы заменили на `'unknown'`. Ещё предстоит увидеть, не повредят ли исследованию пропуски в колонке `genre`.\n",
    "\n",
    "Теперь можно перейти к проверке гипотез. "
   ]
  },
  {
   "cell_type": "markdown",
   "metadata": {
    "deletable": false,
    "editable": false,
    "id": "WttZHXH0SqKk"
   },
   "source": [
    "## Проверка гипотез"
   ]
  },
  {
   "cell_type": "markdown",
   "metadata": {
    "deletable": false,
    "editable": false,
    "id": "Im936VVi_Zcu"
   },
   "source": [
    "### Сравнение поведения пользователей двух столиц"
   ]
  },
  {
   "cell_type": "markdown",
   "metadata": {
    "deletable": false,
    "editable": false,
    "id": "nwt_MuaL_Zcu"
   },
   "source": [
    "Первая гипотеза утверждает, что пользователи по-разному слушают музыку в Москве и Санкт-Петербурге. Проверьте это предположение по данным о трёх днях недели — понедельнике, среде и пятнице. Для этого:\n",
    "\n",
    "* Разделите пользователей Москвы и Санкт-Петербурга.\n",
    "* Сравните, сколько треков послушала каждая группа пользователей в понедельник, среду и пятницу.\n"
   ]
  },
  {
   "cell_type": "markdown",
   "metadata": {
    "deletable": false,
    "editable": false,
    "id": "8Dw_YMmT_Zcu",
    "tags": [
     "start_task"
    ]
   },
   "source": [
    "**Задание 18**\n",
    "\n",
    "Для тренировки сначала выполните каждый из расчётов по отдельности. \n",
    "\n",
    "Оцените активность пользователей в каждом городе. Сгруппируйте данные по городу и посчитайте прослушивания в каждой группе.\n",
    "\n"
   ]
  },
  {
   "cell_type": "code",
   "execution_count": 18,
   "metadata": {
    "deletable": false,
    "id": "0_Qs96oh_Zcu"
   },
   "outputs": [
    {
     "name": "stdout",
     "output_type": "stream",
     "text": [
      "city\n",
      "Moscow              42741\n",
      "Saint-Petersburg    18512\n",
      "Name: time, dtype: int64\n"
     ]
    }
   ],
   "source": [
    "print(df.groupby('city')['time'].count()) # Подсчёт прослушиваний в каждом городе"
   ]
  },
  {
   "cell_type": "markdown",
   "metadata": {
    "deletable": false,
    "editable": false,
    "id": "dzli3w8o_Zcu",
    "tags": [
     "start_task"
    ]
   },
   "source": [
    "В Москве прослушиваний больше, чем в Петербурге. Из этого не следует, что московские пользователи чаще слушают музыку. Просто самих пользователей в Москве больше.\n",
    "\n",
    "**Задание 19**\n",
    "\n",
    "Теперь сгруппируйте данные по дню недели и посчитайте прослушивания в понедельник, среду и пятницу. Учтите, что в данных есть информация о прослушиваниях только за эти дни.\n"
   ]
  },
  {
   "cell_type": "code",
   "execution_count": 19,
   "metadata": {
    "deletable": false,
    "id": "uZMKjiJz_Zcu"
   },
   "outputs": [
    {
     "name": "stdout",
     "output_type": "stream",
     "text": [
      "day\n",
      "Friday       21840\n",
      "Monday       21354\n",
      "Wednesday    18059\n",
      "Name: time, dtype: int64\n"
     ]
    }
   ],
   "source": [
    "print(df.groupby('day')['time'].count()) # Подсчёт прослушиваний в каждый из трёх дней"
   ]
  },
  {
   "cell_type": "markdown",
   "metadata": {
    "deletable": false,
    "editable": false,
    "id": "cC2tNrlL_Zcu"
   },
   "source": [
    "В среднем пользователи из двух городов менее активны по средам. Но картина может измениться, если рассмотреть каждый город в отдельности."
   ]
  },
  {
   "cell_type": "markdown",
   "metadata": {
    "deletable": false,
    "editable": false,
    "id": "POzs8bGa_Zcu",
    "tags": [
     "start_task"
    ]
   },
   "source": [
    "**Задание 20**\n",
    "\n",
    "\n",
    "Вы видели, как работает группировка по городу и по дням недели. Теперь напишите функцию, которая объединит два эти расчёта.\n",
    "\n",
    "Создайте функцию `number_tracks()`, которая посчитает прослушивания для заданного дня и города. Ей понадобятся два параметра:\n",
    "* день недели,\n",
    "* название города.\n",
    "\n",
    "В функции сохраните в переменную строки исходной таблицы, у которых значение:\n",
    "  * в колонке `day` равно параметру `day`,\n",
    "  * в колонке `city` равно параметру `city`.\n",
    "\n",
    "Для этого примените последовательную фильтрацию с логической индексацией (или сложные логические выражения в одну строку, если вы уже знакомы с ними).\n",
    "\n",
    "Затем посчитайте значения в столбце `user_id` получившейся таблицы. Результат сохраните в новую переменную. Верните эту переменную из функции."
   ]
  },
  {
   "cell_type": "code",
   "execution_count": 20,
   "metadata": {
    "deletable": false,
    "id": "Nz3GdQB1_Zcu"
   },
   "outputs": [
    {
     "data": {
      "text/plain": [
       "15740"
      ]
     },
     "execution_count": 20,
     "metadata": {},
     "output_type": "execute_result"
    }
   ],
   "source": [
    "# <создание функции number_tracks()>\n",
    "def number_tracks(day, city):\n",
    "    track_list = df[(df['city'] == city) & (df['day'] == day)]\n",
    "    #track_list = df[df['day'] == day]\n",
    "    #track_list = df[df['city'] == city]\n",
    "    track_list_count = track_list['user_id'].count()\n",
    "    return track_list_count\n",
    "\n",
    "number_tracks(day='Monday', city='Moscow')\n",
    "\n",
    "# datas = ['Monday', 'Wednesday', 'Friday']\n",
    "# cities = ['Moscow', 'Saint-Petersburg']\n",
    "# for data in datas:\n",
    "#    for city in cities: \n",
    "#         number_tracks(day = datas, city = cities)\n",
    "#print(number_tracks)                \n",
    "                \n",
    "\n",
    "# Объявляется функция с двумя параметрами: day, city.\n",
    "# В переменной track_list сохраняются те строки таблицы df, для которых \n",
    "# значение в столбце 'day' равно параметру day и одновременно значение\n",
    "# в столбце 'city' равно параметру city (используйте последовательную фильтрацию\n",
    "# с помощью логической индексации или сложные логические выражения в одну строку, если вы уже знакомы с ними).\n",
    "# В переменной track_list_count сохраняется число значений столбца 'user_id',\n",
    "# рассчитанное методом count() для таблицы track_list.\n",
    "# Функция возвращает число - значение track_list_count.\n",
    "\n",
    "# Функция для подсчёта прослушиваний для конкретного города и дня.\n",
    "# С помощью последовательной фильтрации с логической индексацией она \n",
    "# сначала получит из исходной таблицы строки с нужным днём,\n",
    "# затем из результата отфильтрует строки с нужным городом,\n",
    "# методом count() посчитает количество значений в колонке user_id. \n",
    "# Это количество функция вернёт в качестве результата"
   ]
  },
  {
   "cell_type": "markdown",
   "metadata": {
    "deletable": false,
    "editable": false,
    "id": "ytf7xFrFJQ2r",
    "tags": [
     "start_task"
    ]
   },
   "source": [
    "**Задание 21**\n",
    "\n",
    "Вызовите `number_tracks()` шесть раз, меняя значение параметров — так, чтобы получить данные для каждого города в каждый из трёх дней."
   ]
  },
  {
   "cell_type": "code",
   "execution_count": 21,
   "metadata": {
    "deletable": false,
    "id": "rJcRATNQ_Zcu"
   },
   "outputs": [
    {
     "name": "stdout",
     "output_type": "stream",
     "text": [
      "15740\n"
     ]
    }
   ],
   "source": [
    "print(number_tracks(city = \"Moscow\", day = 'Monday'))  # количество прослушиваний в Москве по понедельникам"
   ]
  },
  {
   "cell_type": "code",
   "execution_count": 22,
   "metadata": {
    "deletable": false,
    "id": "hq_ncZ5T_Zcu"
   },
   "outputs": [
    {
     "name": "stdout",
     "output_type": "stream",
     "text": [
      "5614\n"
     ]
    }
   ],
   "source": [
    "print(number_tracks(city = 'Saint-Petersburg', day = 'Monday')) # количество прослушиваний в Санкт-Петербурге по понедельникам"
   ]
  },
  {
   "cell_type": "code",
   "execution_count": 23,
   "metadata": {
    "deletable": false,
    "id": "_NTy2VPU_Zcu"
   },
   "outputs": [
    {
     "name": "stdout",
     "output_type": "stream",
     "text": [
      "11056\n"
     ]
    }
   ],
   "source": [
    "print(number_tracks(city = \"Moscow\", day = 'Wednesday')) # количество прослушиваний в Москве по средам"
   ]
  },
  {
   "cell_type": "code",
   "execution_count": 24,
   "metadata": {
    "deletable": false,
    "id": "j2y3TAwo_Zcu"
   },
   "outputs": [
    {
     "name": "stdout",
     "output_type": "stream",
     "text": [
      "7003\n"
     ]
    }
   ],
   "source": [
    "print(number_tracks(city = \"Saint-Petersburg\", day = 'Wednesday')) # количество прослушиваний в Санкт-Петербурге по средам"
   ]
  },
  {
   "cell_type": "code",
   "execution_count": 25,
   "metadata": {
    "deletable": false,
    "id": "vYDw5u_K_Zcu"
   },
   "outputs": [
    {
     "name": "stdout",
     "output_type": "stream",
     "text": [
      "15945\n"
     ]
    }
   ],
   "source": [
    "print(number_tracks(city = \"Moscow\", day = 'Friday'))"
   ]
  },
  {
   "cell_type": "code",
   "execution_count": 26,
   "metadata": {
    "deletable": false,
    "id": "8_yzFtW3_Zcu",
    "scrolled": true
   },
   "outputs": [
    {
     "name": "stdout",
     "output_type": "stream",
     "text": [
      "5895\n"
     ]
    }
   ],
   "source": [
    "print(number_tracks(city = \"Saint-Petersburg\", day = 'Friday')) # количество прослушиваний в Санкт-Петербурге по пятницам"
   ]
  },
  {
   "cell_type": "markdown",
   "metadata": {
    "deletable": false,
    "editable": false,
    "id": "7QXffbO-_Zcu",
    "tags": [
     "start_task"
    ]
   },
   "source": [
    "**Задание 22**\n",
    "\n",
    "Создайте c помощью конструктора `pd.DataFrame` таблицу, где\n",
    "* названия колонок — `['city', 'monday', 'wednesday', 'friday']`;\n",
    "* данные — результаты, которые вы получили с помощью `number_tracks`."
   ]
  },
  {
   "cell_type": "code",
   "execution_count": 27,
   "metadata": {
    "deletable": false,
    "id": "APAcLpOr_Zcu"
   },
   "outputs": [
    {
     "name": "stdout",
     "output_type": "stream",
     "text": [
      "               city  monday  wednesday  friday\n",
      "0            Moscow   15740      11056   15945\n",
      "1  Saint-Petersburg    5614       7003    5895\n"
     ]
    }
   ],
   "source": [
    "columns = ['city', 'monday', 'wednesday', 'friday']\n",
    "number_tracks = [\n",
    "    ['Moscow', 15740, 11056, 15945],\n",
    "    ['Saint-Petersburg', 5614, 7003, 5895]\n",
    "]\n",
    "info = pd.DataFrame(data = number_tracks, columns = columns) # Таблица с результатами\n",
    "print(info)"
   ]
  },
  {
   "cell_type": "markdown",
   "metadata": {
    "deletable": false,
    "editable": false,
    "id": "-EgPIHYu_Zcu"
   },
   "source": [
    "**Выводы**\n",
    "\n",
    "Данные показывают разницу поведения пользователей:\n",
    "\n",
    "- В Москве пик прослушиваний приходится на понедельник и пятницу, а в среду заметен спад.\n",
    "- В Петербурге, наоборот, больше слушают музыку по средам. Активность в понедельник и пятницу здесь почти в равной мере уступает среде.\n",
    "\n",
    "Значит, данные говорят в пользу первой гипотезы."
   ]
  },
  {
   "cell_type": "markdown",
   "metadata": {
    "deletable": false,
    "editable": false,
    "id": "atZAxtq4_Zcu"
   },
   "source": [
    "### Музыка в начале и в конце недели"
   ]
  },
  {
   "cell_type": "markdown",
   "metadata": {
    "deletable": false,
    "editable": false,
    "id": "eXrQqXFH_Zcu"
   },
   "source": [
    "Согласно второй гипотезе, утром в понедельник в Москве преобладают одни жанры, а в Петербурге — другие. Так же и вечером пятницы преобладают разные жанры — в зависимости от города."
   ]
  },
  {
   "cell_type": "markdown",
   "metadata": {
    "deletable": false,
    "editable": false,
    "id": "S8UcW6Hw_Zcu",
    "tags": [
     "start_task"
    ]
   },
   "source": [
    "**Задание 23**\n",
    "\n",
    "Сохраните таблицы с данными в две переменные:\n",
    "* по Москве — в `moscow_general`;\n",
    "* по Санкт-Петербургу — в `spb_general`."
   ]
  },
  {
   "cell_type": "code",
   "execution_count": 28,
   "metadata": {
    "deletable": false,
    "id": "qeaFfM_P_Zcu",
    "scrolled": true
   },
   "outputs": [
    {
     "data": {
      "text/plain": [
       "type[        user_id                          track                   artist  \\\n",
       "1      55204538    Delayed Because of Accident         Andreas Rönnberg   \n",
       "4      E2DC1FAE                    Soul People               Space Echo   \n",
       "6      4CB90AA5                           True             Roman Messer   \n",
       "7      F03E1C1F               Feeling This Way          Polina Griffith   \n",
       "8      8FA1D3BE       И вновь продолжается бой                  unknown   \n",
       "...         ...                            ...                      ...   \n",
       "65073  83A474E7  I Worship Only What You Bleed  The Black Dahlia Murder   \n",
       "65074  729CBB09                        My Name                   McLean   \n",
       "65076  C5E3A0D5                      Jalopiina                  unknown   \n",
       "65077  321D0506                  Freight Train            Chas McDevitt   \n",
       "65078  3A64EF84      Tell Me Sweet Little Lies             Monica Lopez   \n",
       "\n",
       "              genre    city      time        day  \n",
       "1              rock  Moscow  14:07:09     Friday  \n",
       "4             dance  Moscow  08:34:34     Monday  \n",
       "6             dance  Moscow  13:00:07  Wednesday  \n",
       "7             dance  Moscow  20:47:49  Wednesday  \n",
       "8            ruspop  Moscow  09:17:40     Friday  \n",
       "...             ...     ...       ...        ...  \n",
       "65073  extrememetal  Moscow  21:07:12     Monday  \n",
       "65074           rnb  Moscow  13:32:28  Wednesday  \n",
       "65076    industrial  Moscow  20:09:26     Friday  \n",
       "65077          rock  Moscow  21:43:59     Friday  \n",
       "65078       country  Moscow  21:59:46     Friday  \n",
       "\n",
       "[42741 rows x 7 columns]]"
      ]
     },
     "execution_count": 28,
     "metadata": {},
     "output_type": "execute_result"
    }
   ],
   "source": [
    "moscow_general = df[df['city'] == 'Moscow']# получение таблицы moscow_general из тех строк таблицы df, \n",
    "# для которых значение в столбце 'city' равно 'Moscow'\n",
    "type[moscow_general]"
   ]
  },
  {
   "cell_type": "code",
   "execution_count": 29,
   "metadata": {
    "deletable": false,
    "id": "ORaVRKto_Zcu"
   },
   "outputs": [],
   "source": [
    "spb_general = df[df['city'] == 'Saint-Petersburg']# получение таблицы spb_general из тех строк таблицы df,\n",
    "# для которых значение в столбце 'city' равно 'Saint-Petersburg'\n",
    "\n"
   ]
  },
  {
   "cell_type": "markdown",
   "metadata": {
    "deletable": false,
    "editable": false,
    "id": "MEJV-CX2_Zcu",
    "tags": [
     "start_task"
    ]
   },
   "source": [
    "**Задание 24**\n",
    "\n",
    "Создайте функцию `genre_weekday()` с четырьмя параметрами:\n",
    "* таблица (датафрейм) с данными,\n",
    "* день недели,\n",
    "* начальная временная метка в формате 'hh:mm', \n",
    "* последняя временная метка в формате 'hh:mm'.\n",
    "\n",
    "Функция должна вернуть информацию о топ-10 жанров тех треков, которые прослушивали в указанный день, в промежутке между двумя отметками времени."
   ]
  },
  {
   "cell_type": "code",
   "execution_count": 30,
   "metadata": {
    "deletable": false,
    "id": "laJT9BYl_Zcu"
   },
   "outputs": [],
   "source": [
    "#def genre_weekday(table, day, time1, time2) # Объявление функции genre_weekday() с параметрами table, day, time1, time2,\n",
    "# которая возвращает информацию о самых популярных жанрах в указанный день в\n",
    "# заданное время:\n",
    "#genre_df = table[table['day'] == day & table['time'] > time1 & table['time'] < time2] # 1 в переменную genre_df сохраняются те строки переданного датафрейма table, для\n",
    "#    которых одновременно:\n",
    "#    - значение в столбце day равно значению аргумента day\n",
    "#    - значение в столбце time больше значения аргумента time1\n",
    "#    - значение в столбце time меньше значения аргумента time2\n",
    "#    Используйте последовательную фильтрацию с помощью логической индексации.\n",
    "#genre_df_count = genre_df.groupby('genre')['user_id'].count()\n",
    "# 2) сгруппировать датафрейм genre_df по столбцу genre, взять один из его\n",
    "#    столбцов и посчитать методом count() количество записей для каждого из\n",
    "#    присутствующих жанров, получившийся Series записать в переменную\n",
    "#    genre_df_count\n",
    "#genre_df_sorted = (genre_df_count.sort_values(by='genre', ascending=False)) \n",
    "# 3) отсортировать genre_df_count по убыванию встречаемости и сохранить\n",
    "#    в переменную genre_df_sorted\n",
    "#return genre_df_sorted[:10]\n",
    "# 4) вернуть Series из 10 первых значений genre_df_sorted, это будут топ-10\n",
    "#    популярных жанров (в указанный день, в заданное время)\n",
    "\n",
    "def genre_weekday(df, day, time1, time2):\n",
    "    # последовательная фильтрация\n",
    "    # оставляем в genre_df только те строки df, у которых день равен day\n",
    "    genre_df = df[df['day'] == day] \n",
    "    genre_df = genre_df[genre_df['time'] > time1]\n",
    "    genre_df = genre_df[genre_df['time'] < time2] # ваш код здесь\n",
    "    # оставляем в genre_df только те строки genre_df, у которых время меньше time2\n",
    "    # ваш код здесь\n",
    "    # оставляем в genre_df только те строки genre_df, у которых время больше time1\n",
    "    # genre_df = # ваш код здесь\n",
    "    # сгруппируем отфильтрованный датафрейм по столбцу с названиями жанров, возьмём столбец genre и посчитаем кол-во строк для каждого жанра методом count()\n",
    "    genre_df_grouped = genre_df.groupby('genre')['genre'].count()\n",
    "    # print(genre_df_grouped)\n",
    "    # отсортируем результат по убыванию (чтобы в начале Series оказались самые популярные жанры)\n",
    "    genre_df_sorted = (genre_df_grouped.sort_values(ascending=False)) \n",
    "    # вернём Series с 10 самыми популярными жанрами в указанный отрезок времени заданного дня\n",
    "    return genre_df_sorted[:10]\n"
   ]
  },
  {
   "cell_type": "markdown",
   "metadata": {
    "deletable": false,
    "editable": false,
    "id": "la2s2_PF_Zcu",
    "tags": [
     "start_task"
    ]
   },
   "source": [
    "**Задание 25**\n",
    "\n",
    "\n",
    "Cравните результаты функции `genre_weekday()` для Москвы и Санкт-Петербурга в понедельник утром (с 7:00 до 11:00) и в пятницу вечером (с 17:00 до 23:00):"
   ]
  },
  {
   "cell_type": "code",
   "execution_count": 31,
   "metadata": {
    "deletable": false,
    "id": "yz7itPUQ_Zcu"
   },
   "outputs": [
    {
     "data": {
      "text/plain": [
       "genre\n",
       "pop            781\n",
       "dance          549\n",
       "electronic     480\n",
       "rock           474\n",
       "hiphop         286\n",
       "ruspop         186\n",
       "world          181\n",
       "rusrap         175\n",
       "alternative    164\n",
       "unknown        161\n",
       "Name: genre, dtype: int64"
      ]
     },
     "execution_count": 31,
     "metadata": {},
     "output_type": "execute_result"
    }
   ],
   "source": [
    "genre_weekday(df = moscow_general, day = 'Monday', time1 = '07:00', time2 = '11:00') # вызов функции для утра понедельника в Москве (вместо df — таблица moscow_general)\n",
    "# объекты, хранящие время, являются строками и сравниваются как строки\n",
    "# пример вызова: genre_weekday(moscow_general, 'Monday', '07:00', '11:00')"
   ]
  },
  {
   "cell_type": "code",
   "execution_count": 32,
   "metadata": {
    "deletable": false,
    "id": "kwUcHPdy_Zcu"
   },
   "outputs": [
    {
     "data": {
      "text/plain": [
       "genre\n",
       "pop            218\n",
       "dance          182\n",
       "rock           162\n",
       "electronic     147\n",
       "hiphop          80\n",
       "ruspop          64\n",
       "alternative     58\n",
       "rusrap          55\n",
       "jazz            44\n",
       "classical       40\n",
       "Name: genre, dtype: int64"
      ]
     },
     "execution_count": 32,
     "metadata": {},
     "output_type": "execute_result"
    }
   ],
   "source": [
    "genre_weekday(df = spb_general,  day = 'Monday', time1 = '07:00', time2 = '11:00') # вызов функции для вечера пятницы в Москве# вызов функции для утра понедельника в Петербурге (вместо df — таблица spb_general)"
   ]
  },
  {
   "cell_type": "code",
   "execution_count": 33,
   "metadata": {
    "deletable": false,
    "id": "EzXVRE1o_Zcu"
   },
   "outputs": [
    {
     "data": {
      "text/plain": [
       "genre\n",
       "pop            713\n",
       "rock           517\n",
       "dance          495\n",
       "electronic     482\n",
       "hiphop         273\n",
       "world          208\n",
       "ruspop         170\n",
       "alternative    163\n",
       "classical      163\n",
       "rusrap         142\n",
       "Name: genre, dtype: int64"
      ]
     },
     "execution_count": 33,
     "metadata": {},
     "output_type": "execute_result"
    }
   ],
   "source": [
    "genre_weekday(df = moscow_general, day = 'Friday', time1 = '17:00', time2 = '23:00') # вызов функции для вечера пятницы в Москве"
   ]
  },
  {
   "cell_type": "code",
   "execution_count": 34,
   "metadata": {
    "deletable": false,
    "id": "JZaEKu5v_Zcu"
   },
   "outputs": [
    {
     "data": {
      "text/plain": [
       "genre\n",
       "pop            256\n",
       "electronic     216\n",
       "rock           216\n",
       "dance          210\n",
       "hiphop          97\n",
       "alternative     63\n",
       "jazz            61\n",
       "classical       60\n",
       "rusrap          59\n",
       "world           54\n",
       "Name: genre, dtype: int64"
      ]
     },
     "execution_count": 34,
     "metadata": {},
     "output_type": "execute_result"
    }
   ],
   "source": [
    "genre_weekday(df = spb_general, day = 'Friday', time1 = '17:00', time2 = '23:00') # вызов функции для вечера пятницы в Москве# вызов функции для вечера пятницы в Петербурге"
   ]
  },
  {
   "cell_type": "markdown",
   "metadata": {
    "deletable": false,
    "editable": false,
    "id": "wrCe4MNX_Zcu"
   },
   "source": [
    "**Выводы**\n",
    "\n",
    "Если сравнить топ-10 жанров в понедельник утром, можно сделать такие выводы:\n",
    "\n",
    "1. В Москве и Петербурге слушают похожую музыку. Единственное отличие — в московский рейтинг вошёл жанр “world”, а в петербургский — джаз и классика.\n",
    "\n",
    "2. В Москве пропущенных значений оказалось так много, что значение `'unknown'` заняло десятое место среди самых популярных жанров. Значит, пропущенные значения занимают существенную долю в данных и угрожают достоверности исследования.\n",
    "\n",
    "Вечер пятницы не меняет эту картину. Некоторые жанры поднимаются немного выше, другие спускаются, но в целом топ-10 остаётся тем же самым.\n",
    "\n",
    "Таким образом, вторая гипотеза подтвердилась лишь частично:\n",
    "* Пользователи слушают похожую музыку в начале недели и в конце.\n",
    "* Разница между Москвой и Петербургом не слишком выражена. В Москве чаще слушают русскую популярную музыку, в Петербурге — джаз.\n",
    "\n",
    "Однако пропуски в данных ставят под сомнение этот результат. В Москве их так много, что рейтинг топ-10 мог бы выглядеть иначе, если бы не утерянные  данные о жанрах."
   ]
  },
  {
   "cell_type": "markdown",
   "metadata": {
    "deletable": false,
    "editable": false,
    "id": "JolODAqr_Zcu"
   },
   "source": [
    "### Жанровые предпочтения в Москве и Петербурге\n",
    "\n",
    "Гипотеза: Петербург — столица рэпа, музыку этого жанра там слушают чаще, чем в Москве.  А Москва — город контрастов, в котором, тем не менее, преобладает поп-музыка."
   ]
  },
  {
   "cell_type": "markdown",
   "metadata": {
    "deletable": false,
    "editable": false,
    "id": "DlegSvaT_Zcu",
    "tags": [
     "start_task"
    ]
   },
   "source": [
    "**Задание 26**\n",
    "\n",
    "Сгруппируйте таблицу `moscow_general` по жанру и посчитайте прослушивания треков каждого жанра методом `count()`. Затем отсортируйте результат в порядке убывания и сохраните его в таблице `moscow_genres`."
   ]
  },
  {
   "cell_type": "code",
   "execution_count": 35,
   "metadata": {
    "deletable": false,
    "id": "r19lIPke_Zcu"
   },
   "outputs": [],
   "source": [
    "moscow_general = moscow_general.groupby('genre')['genre'].count() \n",
    "moscow_genres = moscow_general.sort_values(ascending = False)\n",
    "# подсчёт числа значений 'genre' в этой группировке методом count(), \n",
    "# сортировка получившегося Series в порядке убывания и сохранение в moscow_genres\n",
    "#moscow_genres = moscow_genres.to_frame(name='genre')"
   ]
  },
  {
   "cell_type": "markdown",
   "metadata": {
    "deletable": false,
    "editable": false,
    "id": "6kMuomxTiIr8",
    "tags": [
     "start_task"
    ]
   },
   "source": [
    "**Задание 27**\n",
    "\n",
    "Выведите на экран первые десять строк `moscow_genres`:"
   ]
  },
  {
   "cell_type": "code",
   "execution_count": 36,
   "metadata": {
    "deletable": false,
    "id": "WhCSooF8_Zcv"
   },
   "outputs": [
    {
     "data": {
      "text/plain": [
       "genre\n",
       "pop            5892\n",
       "dance          4435\n",
       "rock           3965\n",
       "electronic     3786\n",
       "hiphop         2096\n",
       "classical      1616\n",
       "world          1432\n",
       "alternative    1379\n",
       "ruspop         1372\n",
       "rusrap         1161\n",
       "Name: genre, dtype: int64"
      ]
     },
     "execution_count": 36,
     "metadata": {},
     "output_type": "execute_result"
    }
   ],
   "source": [
    "moscow_genres.head(10) # просмотр первых 10 строк moscow_genres"
   ]
  },
  {
   "cell_type": "markdown",
   "metadata": {
    "deletable": false,
    "editable": false,
    "id": "cnPG2vnN_Zcv",
    "tags": [
     "start_task"
    ]
   },
   "source": [
    "**Задание 28**\n",
    "\n",
    "\n",
    "Теперь повторите то же и для Петербурга.\n",
    "\n",
    "Сгруппируйте таблицу `spb_general` по жанру. Посчитайте прослушивания треков каждого жанра. Результат отсортируйте в порядке убывания и сохраните в таблице `spb_genres`:\n"
   ]
  },
  {
   "cell_type": "code",
   "execution_count": 37,
   "metadata": {
    "deletable": false,
    "id": "gluLIpE7_Zcv"
   },
   "outputs": [],
   "source": [
    "spb_genres = spb_general.groupby('genre')['genre'].count() \n",
    "# одной строкой: группировка таблицы moscow_general по столбцу 'genre', \n",
    "spb_genres = spb_genres.sort_values(ascending = False) # одной строкой: группировка таблицы spb_general по столбцу 'genre', \n",
    "# подсчёт числа значений 'genre' в этой группировке методом count(), \n",
    "# сортировка получившегося Series в порядке убывания и сохранение в spb_genres"
   ]
  },
  {
   "cell_type": "markdown",
   "metadata": {
    "deletable": false,
    "editable": false,
    "id": "5Doha_ODgyQ8",
    "tags": [
     "start_task"
    ]
   },
   "source": [
    "**Задание 29**\n",
    "\n",
    "Выведите на экран первые десять строк `spb_genres`:"
   ]
  },
  {
   "cell_type": "code",
   "execution_count": 38,
   "metadata": {
    "deletable": false,
    "id": "uaGJHjVU_Zcv"
   },
   "outputs": [
    {
     "data": {
      "text/plain": [
       "genre\n",
       "pop            2431\n",
       "dance          1932\n",
       "rock           1879\n",
       "electronic     1736\n",
       "hiphop          960\n",
       "alternative     649\n",
       "classical       646\n",
       "rusrap          564\n",
       "ruspop          538\n",
       "world           515\n",
       "Name: genre, dtype: int64"
      ]
     },
     "execution_count": 38,
     "metadata": {},
     "output_type": "execute_result"
    }
   ],
   "source": [
    "spb_genres.head(10) "
   ]
  },
  {
   "cell_type": "markdown",
   "metadata": {
    "deletable": false,
    "editable": false,
    "id": "RY51YJYu_Zcv"
   },
   "source": [
    "**Выводы**"
   ]
  },
  {
   "cell_type": "markdown",
   "metadata": {
    "deletable": false,
    "editable": false,
    "id": "nVhnJEm__Zcv"
   },
   "source": [
    "Гипотеза частично подтвердилась:\n",
    "* Поп-музыка — самый популярный жанр в Москве, как и предполагала гипотеза. Более того, в топ-10 жанров встречается близкий жанр — русская популярная музыка.\n",
    "* Вопреки ожиданиям, рэп одинаково популярен в Москве и Петербурге. \n"
   ]
  },
  {
   "cell_type": "markdown",
   "metadata": {
    "deletable": false,
    "editable": false,
    "id": "ykKQ0N65_Zcv"
   },
   "source": [
    "## Итоги исследования"
   ]
  },
  {
   "cell_type": "markdown",
   "metadata": {
    "deletable": false,
    "editable": false,
    "id": "tjUwbHb3_Zcv"
   },
   "source": [
    "Вы проверили три гипотезы и установили:\n",
    "\n",
    "1. День недели по-разному влияет на активность пользователей в Москве и Петербурге. \n",
    "\n",
    "Первая гипотеза полностью подтвердилась.\n",
    "\n",
    "2. Музыкальные предпочтения не сильно меняются в течение недели — будь то Москва или Петербург. Небольшие различия заметны в начале недели, по понедельникам:\n",
    "* в Москве слушают музыку жанра “world”,\n",
    "* в Петербурге — джаз и классику.\n",
    "\n",
    "Таким образом, вторая гипотеза подтвердилась лишь отчасти. Этот результат мог оказаться иным, если бы не пропуски в данных.\n",
    "\n",
    "3. Во вкусах пользователей Москвы и Петербурга больше общего чем различий. Вопреки ожиданиям, предпочтения жанров в Петербурге напоминают московские.\n",
    "\n",
    "Третья гипотеза не подтвердилась. Если различия в предпочтениях и существуют, на основной массе пользователей они незаметны.\n",
    "\n",
    "**На практике исследования содержат проверки статистических гипотез.**\n",
    "Из данных одного сервиса не всегда можно сделать вывод о всех жителях города.\n",
    "Проверки статистических гипотез покажут, насколько они достоверны, исходя из имеющихся данных. \n",
    "С методами проверок гипотез вы ещё познакомитесь в следующих темах."
   ]
  }
 ],
 "metadata": {
  "ExecuteTimeLog": [
   {
    "duration": 43,
    "start_time": "2022-08-29T15:16:05.614Z"
   },
   {
    "duration": 391,
    "start_time": "2022-08-29T15:16:21.095Z"
   },
   {
    "duration": 445,
    "start_time": "2022-08-29T15:16:21.488Z"
   },
   {
    "duration": 9,
    "start_time": "2022-08-29T15:16:21.934Z"
   },
   {
    "duration": 26,
    "start_time": "2022-08-29T15:16:21.945Z"
   },
   {
    "duration": 11,
    "start_time": "2022-08-29T15:16:21.972Z"
   },
   {
    "duration": 10,
    "start_time": "2022-08-29T15:16:21.984Z"
   },
   {
    "duration": 10,
    "start_time": "2022-08-29T15:16:21.995Z"
   },
   {
    "duration": 8,
    "start_time": "2022-08-29T15:16:22.006Z"
   },
   {
    "duration": 4,
    "start_time": "2022-08-29T15:16:22.016Z"
   },
   {
    "duration": 6,
    "start_time": "2022-08-29T15:16:22.023Z"
   },
   {
    "duration": 8,
    "start_time": "2022-08-29T15:16:22.031Z"
   },
   {
    "duration": 6,
    "start_time": "2022-08-29T15:16:22.041Z"
   },
   {
    "duration": 7,
    "start_time": "2022-08-29T15:16:22.048Z"
   },
   {
    "duration": 8,
    "start_time": "2022-08-29T15:16:22.056Z"
   },
   {
    "duration": 4,
    "start_time": "2022-08-29T15:16:22.066Z"
   },
   {
    "duration": 6,
    "start_time": "2022-08-29T15:16:22.071Z"
   },
   {
    "duration": 5,
    "start_time": "2022-08-29T15:16:22.078Z"
   },
   {
    "duration": 5,
    "start_time": "2022-08-29T15:16:22.084Z"
   },
   {
    "duration": 6,
    "start_time": "2022-08-29T15:16:22.091Z"
   },
   {
    "duration": 6,
    "start_time": "2022-08-29T15:16:22.098Z"
   },
   {
    "duration": 6,
    "start_time": "2022-08-29T15:16:22.106Z"
   },
   {
    "duration": 5,
    "start_time": "2022-08-29T15:16:22.114Z"
   },
   {
    "duration": 5,
    "start_time": "2022-08-29T15:16:22.120Z"
   },
   {
    "duration": 4,
    "start_time": "2022-08-29T15:16:22.127Z"
   },
   {
    "duration": 6,
    "start_time": "2022-08-29T15:16:22.133Z"
   },
   {
    "duration": 5,
    "start_time": "2022-08-29T15:16:22.140Z"
   },
   {
    "duration": 6,
    "start_time": "2022-08-29T15:16:22.146Z"
   },
   {
    "duration": 5,
    "start_time": "2022-08-29T15:16:22.155Z"
   },
   {
    "duration": 4,
    "start_time": "2022-08-29T15:16:22.162Z"
   },
   {
    "duration": 73,
    "start_time": "2022-08-29T15:16:22.168Z"
   },
   {
    "duration": 0,
    "start_time": "2022-08-29T15:16:22.242Z"
   },
   {
    "duration": 0,
    "start_time": "2022-08-29T15:16:22.243Z"
   },
   {
    "duration": 0,
    "start_time": "2022-08-29T15:16:22.244Z"
   },
   {
    "duration": 0,
    "start_time": "2022-08-29T15:16:22.245Z"
   },
   {
    "duration": 0,
    "start_time": "2022-08-29T15:16:22.246Z"
   },
   {
    "duration": 0,
    "start_time": "2022-08-29T15:16:22.247Z"
   },
   {
    "duration": 0,
    "start_time": "2022-08-29T15:16:22.248Z"
   },
   {
    "duration": 0,
    "start_time": "2022-08-29T15:16:22.250Z"
   },
   {
    "duration": 2,
    "start_time": "2022-08-29T15:18:14.568Z"
   },
   {
    "duration": 179,
    "start_time": "2022-08-29T15:18:14.572Z"
   },
   {
    "duration": 6,
    "start_time": "2022-08-29T15:18:14.753Z"
   },
   {
    "duration": 26,
    "start_time": "2022-08-29T15:18:14.761Z"
   },
   {
    "duration": 3,
    "start_time": "2022-08-29T15:18:14.805Z"
   },
   {
    "duration": 6,
    "start_time": "2022-08-29T15:18:14.809Z"
   },
   {
    "duration": 4,
    "start_time": "2022-08-29T15:18:14.816Z"
   },
   {
    "duration": 7,
    "start_time": "2022-08-29T15:18:14.821Z"
   },
   {
    "duration": 5,
    "start_time": "2022-08-29T15:18:14.829Z"
   },
   {
    "duration": 4,
    "start_time": "2022-08-29T15:18:14.835Z"
   },
   {
    "duration": 5,
    "start_time": "2022-08-29T15:18:14.842Z"
   },
   {
    "duration": 5,
    "start_time": "2022-08-29T15:18:14.848Z"
   },
   {
    "duration": 4,
    "start_time": "2022-08-29T15:18:14.854Z"
   },
   {
    "duration": 17,
    "start_time": "2022-08-29T15:18:14.860Z"
   },
   {
    "duration": 5,
    "start_time": "2022-08-29T15:18:14.878Z"
   },
   {
    "duration": 5,
    "start_time": "2022-08-29T15:18:14.885Z"
   },
   {
    "duration": 5,
    "start_time": "2022-08-29T15:18:14.891Z"
   },
   {
    "duration": 9,
    "start_time": "2022-08-29T15:18:14.897Z"
   },
   {
    "duration": 5,
    "start_time": "2022-08-29T15:18:14.907Z"
   },
   {
    "duration": 5,
    "start_time": "2022-08-29T15:18:14.913Z"
   },
   {
    "duration": 7,
    "start_time": "2022-08-29T15:18:14.919Z"
   },
   {
    "duration": 5,
    "start_time": "2022-08-29T15:18:14.927Z"
   },
   {
    "duration": 10,
    "start_time": "2022-08-29T15:18:14.933Z"
   },
   {
    "duration": 5,
    "start_time": "2022-08-29T15:18:14.944Z"
   },
   {
    "duration": 7,
    "start_time": "2022-08-29T15:18:14.951Z"
   },
   {
    "duration": 5,
    "start_time": "2022-08-29T15:18:14.959Z"
   },
   {
    "duration": 5,
    "start_time": "2022-08-29T15:18:14.965Z"
   },
   {
    "duration": 4,
    "start_time": "2022-08-29T15:18:14.971Z"
   },
   {
    "duration": 4,
    "start_time": "2022-08-29T15:18:14.977Z"
   },
   {
    "duration": 89,
    "start_time": "2022-08-29T15:18:14.983Z"
   },
   {
    "duration": 0,
    "start_time": "2022-08-29T15:18:15.073Z"
   },
   {
    "duration": 0,
    "start_time": "2022-08-29T15:18:15.074Z"
   },
   {
    "duration": 0,
    "start_time": "2022-08-29T15:18:15.075Z"
   },
   {
    "duration": 0,
    "start_time": "2022-08-29T15:18:15.076Z"
   },
   {
    "duration": 0,
    "start_time": "2022-08-29T15:18:15.077Z"
   },
   {
    "duration": 0,
    "start_time": "2022-08-29T15:18:15.078Z"
   },
   {
    "duration": 0,
    "start_time": "2022-08-29T15:18:15.079Z"
   },
   {
    "duration": 0,
    "start_time": "2022-08-29T15:18:15.080Z"
   },
   {
    "duration": 3,
    "start_time": "2022-08-29T15:22:41.529Z"
   },
   {
    "duration": 162,
    "start_time": "2022-08-29T15:22:41.534Z"
   },
   {
    "duration": 6,
    "start_time": "2022-08-29T15:22:41.698Z"
   },
   {
    "duration": 29,
    "start_time": "2022-08-29T15:22:41.705Z"
   },
   {
    "duration": 3,
    "start_time": "2022-08-29T15:22:41.736Z"
   },
   {
    "duration": 5,
    "start_time": "2022-08-29T15:22:41.740Z"
   },
   {
    "duration": 11,
    "start_time": "2022-08-29T15:22:41.747Z"
   },
   {
    "duration": 4,
    "start_time": "2022-08-29T15:23:19.707Z"
   },
   {
    "duration": 22,
    "start_time": "2022-08-29T15:31:38.976Z"
   },
   {
    "duration": 27,
    "start_time": "2022-08-29T15:38:27.623Z"
   },
   {
    "duration": 2,
    "start_time": "2022-08-29T15:38:42.395Z"
   },
   {
    "duration": 15,
    "start_time": "2022-08-29T15:39:04.945Z"
   },
   {
    "duration": 16,
    "start_time": "2022-08-29T15:39:07.813Z"
   },
   {
    "duration": 17,
    "start_time": "2022-08-29T15:39:47.145Z"
   },
   {
    "duration": 3,
    "start_time": "2022-08-29T15:46:11.167Z"
   },
   {
    "duration": 3,
    "start_time": "2022-08-29T15:46:22.793Z"
   },
   {
    "duration": 2,
    "start_time": "2022-08-29T15:46:34.291Z"
   },
   {
    "duration": 175,
    "start_time": "2022-08-29T15:46:34.295Z"
   },
   {
    "duration": 7,
    "start_time": "2022-08-29T15:46:34.472Z"
   },
   {
    "duration": 32,
    "start_time": "2022-08-29T15:46:34.481Z"
   },
   {
    "duration": 2,
    "start_time": "2022-08-29T15:46:34.516Z"
   },
   {
    "duration": 7,
    "start_time": "2022-08-29T15:46:34.519Z"
   },
   {
    "duration": 10,
    "start_time": "2022-08-29T15:46:34.528Z"
   },
   {
    "duration": 3,
    "start_time": "2022-08-29T15:46:34.540Z"
   },
   {
    "duration": 24,
    "start_time": "2022-08-29T15:46:34.544Z"
   },
   {
    "duration": 39,
    "start_time": "2022-08-29T15:46:34.569Z"
   },
   {
    "duration": 2,
    "start_time": "2022-08-29T15:46:34.610Z"
   },
   {
    "duration": 6,
    "start_time": "2022-08-29T15:46:34.614Z"
   },
   {
    "duration": 4,
    "start_time": "2022-08-29T15:46:34.622Z"
   },
   {
    "duration": 8,
    "start_time": "2022-08-29T15:46:34.628Z"
   },
   {
    "duration": 5,
    "start_time": "2022-08-29T15:46:34.637Z"
   },
   {
    "duration": 7,
    "start_time": "2022-08-29T15:46:34.644Z"
   },
   {
    "duration": 5,
    "start_time": "2022-08-29T15:46:34.652Z"
   },
   {
    "duration": 9,
    "start_time": "2022-08-29T15:46:34.659Z"
   },
   {
    "duration": 4,
    "start_time": "2022-08-29T15:46:34.670Z"
   },
   {
    "duration": 8,
    "start_time": "2022-08-29T15:46:34.676Z"
   },
   {
    "duration": 6,
    "start_time": "2022-08-29T15:46:34.686Z"
   },
   {
    "duration": 10,
    "start_time": "2022-08-29T15:46:34.694Z"
   },
   {
    "duration": 4,
    "start_time": "2022-08-29T15:46:34.705Z"
   },
   {
    "duration": 7,
    "start_time": "2022-08-29T15:46:34.711Z"
   },
   {
    "duration": 7,
    "start_time": "2022-08-29T15:46:34.719Z"
   },
   {
    "duration": 6,
    "start_time": "2022-08-29T15:46:34.727Z"
   },
   {
    "duration": 6,
    "start_time": "2022-08-29T15:46:34.734Z"
   },
   {
    "duration": 5,
    "start_time": "2022-08-29T15:46:34.741Z"
   },
   {
    "duration": 7,
    "start_time": "2022-08-29T15:46:34.749Z"
   },
   {
    "duration": 134,
    "start_time": "2022-08-29T15:46:34.758Z"
   },
   {
    "duration": 0,
    "start_time": "2022-08-29T15:46:34.894Z"
   },
   {
    "duration": 0,
    "start_time": "2022-08-29T15:46:34.895Z"
   },
   {
    "duration": 0,
    "start_time": "2022-08-29T15:46:34.897Z"
   },
   {
    "duration": 0,
    "start_time": "2022-08-29T15:46:34.898Z"
   },
   {
    "duration": 0,
    "start_time": "2022-08-29T15:46:34.900Z"
   },
   {
    "duration": 0,
    "start_time": "2022-08-29T15:46:34.901Z"
   },
   {
    "duration": 0,
    "start_time": "2022-08-29T15:46:34.902Z"
   },
   {
    "duration": 0,
    "start_time": "2022-08-29T15:46:34.904Z"
   },
   {
    "duration": 355,
    "start_time": "2022-08-29T15:53:59.845Z"
   },
   {
    "duration": 160,
    "start_time": "2022-08-29T15:54:00.202Z"
   },
   {
    "duration": 7,
    "start_time": "2022-08-29T15:54:00.364Z"
   },
   {
    "duration": 39,
    "start_time": "2022-08-29T15:54:00.373Z"
   },
   {
    "duration": 3,
    "start_time": "2022-08-29T15:54:00.413Z"
   },
   {
    "duration": 6,
    "start_time": "2022-08-29T15:54:00.418Z"
   },
   {
    "duration": 16,
    "start_time": "2022-08-29T15:54:00.425Z"
   },
   {
    "duration": 17,
    "start_time": "2022-08-29T15:54:00.443Z"
   },
   {
    "duration": 37,
    "start_time": "2022-08-29T15:54:00.462Z"
   },
   {
    "duration": 25,
    "start_time": "2022-08-29T15:54:00.502Z"
   },
   {
    "duration": 35,
    "start_time": "2022-08-29T15:54:00.529Z"
   },
   {
    "duration": 12,
    "start_time": "2022-08-29T15:54:00.566Z"
   },
   {
    "duration": 11,
    "start_time": "2022-08-29T15:54:00.580Z"
   },
   {
    "duration": 13,
    "start_time": "2022-08-29T15:54:00.592Z"
   },
   {
    "duration": 7,
    "start_time": "2022-08-29T15:54:00.606Z"
   },
   {
    "duration": 17,
    "start_time": "2022-08-29T15:54:00.614Z"
   },
   {
    "duration": 23,
    "start_time": "2022-08-29T15:54:00.632Z"
   },
   {
    "duration": 9,
    "start_time": "2022-08-29T15:54:00.657Z"
   },
   {
    "duration": 15,
    "start_time": "2022-08-29T15:54:00.668Z"
   },
   {
    "duration": 8,
    "start_time": "2022-08-29T15:54:00.684Z"
   },
   {
    "duration": 11,
    "start_time": "2022-08-29T15:54:00.694Z"
   },
   {
    "duration": 6,
    "start_time": "2022-08-29T15:54:00.706Z"
   },
   {
    "duration": 6,
    "start_time": "2022-08-29T15:54:00.713Z"
   },
   {
    "duration": 6,
    "start_time": "2022-08-29T15:54:00.721Z"
   },
   {
    "duration": 11,
    "start_time": "2022-08-29T15:54:00.728Z"
   },
   {
    "duration": 19,
    "start_time": "2022-08-29T15:54:00.741Z"
   },
   {
    "duration": 19,
    "start_time": "2022-08-29T15:54:00.761Z"
   },
   {
    "duration": 8,
    "start_time": "2022-08-29T15:54:00.783Z"
   },
   {
    "duration": 17,
    "start_time": "2022-08-29T15:54:00.792Z"
   },
   {
    "duration": 101,
    "start_time": "2022-08-29T15:54:00.810Z"
   },
   {
    "duration": 0,
    "start_time": "2022-08-29T15:54:00.912Z"
   },
   {
    "duration": 0,
    "start_time": "2022-08-29T15:54:00.913Z"
   },
   {
    "duration": 0,
    "start_time": "2022-08-29T15:54:00.914Z"
   },
   {
    "duration": 0,
    "start_time": "2022-08-29T15:54:00.916Z"
   },
   {
    "duration": 0,
    "start_time": "2022-08-29T15:54:00.917Z"
   },
   {
    "duration": 0,
    "start_time": "2022-08-29T15:54:00.918Z"
   },
   {
    "duration": 0,
    "start_time": "2022-08-29T15:54:00.919Z"
   },
   {
    "duration": 0,
    "start_time": "2022-08-29T15:54:00.920Z"
   },
   {
    "duration": 370,
    "start_time": "2022-08-29T16:11:19.842Z"
   },
   {
    "duration": 161,
    "start_time": "2022-08-29T16:11:20.214Z"
   },
   {
    "duration": 7,
    "start_time": "2022-08-29T16:11:20.377Z"
   },
   {
    "duration": 43,
    "start_time": "2022-08-29T16:11:20.386Z"
   },
   {
    "duration": 2,
    "start_time": "2022-08-29T16:11:20.431Z"
   },
   {
    "duration": 9,
    "start_time": "2022-08-29T16:11:20.435Z"
   },
   {
    "duration": 20,
    "start_time": "2022-08-29T16:11:20.445Z"
   },
   {
    "duration": 22,
    "start_time": "2022-08-29T16:11:20.466Z"
   },
   {
    "duration": 25,
    "start_time": "2022-08-29T16:11:20.489Z"
   },
   {
    "duration": 19,
    "start_time": "2022-08-29T16:11:20.517Z"
   },
   {
    "duration": 34,
    "start_time": "2022-08-29T16:11:20.537Z"
   },
   {
    "duration": 12,
    "start_time": "2022-08-29T16:11:20.573Z"
   },
   {
    "duration": 11,
    "start_time": "2022-08-29T16:11:20.587Z"
   },
   {
    "duration": 8,
    "start_time": "2022-08-29T16:11:20.600Z"
   },
   {
    "duration": 16,
    "start_time": "2022-08-29T16:11:20.609Z"
   },
   {
    "duration": 5,
    "start_time": "2022-08-29T16:11:20.627Z"
   },
   {
    "duration": 6,
    "start_time": "2022-08-29T16:11:20.633Z"
   },
   {
    "duration": 10,
    "start_time": "2022-08-29T16:11:20.640Z"
   },
   {
    "duration": 20,
    "start_time": "2022-08-29T16:11:20.651Z"
   },
   {
    "duration": 15,
    "start_time": "2022-08-29T16:11:20.674Z"
   },
   {
    "duration": 29,
    "start_time": "2022-08-29T16:11:20.691Z"
   },
   {
    "duration": 10,
    "start_time": "2022-08-29T16:11:20.722Z"
   },
   {
    "duration": 8,
    "start_time": "2022-08-29T16:11:20.734Z"
   },
   {
    "duration": 11,
    "start_time": "2022-08-29T16:11:20.744Z"
   },
   {
    "duration": 26,
    "start_time": "2022-08-29T16:11:20.757Z"
   },
   {
    "duration": 8,
    "start_time": "2022-08-29T16:11:20.785Z"
   },
   {
    "duration": 8,
    "start_time": "2022-08-29T16:11:20.795Z"
   },
   {
    "duration": 14,
    "start_time": "2022-08-29T16:11:20.806Z"
   },
   {
    "duration": 10,
    "start_time": "2022-08-29T16:11:20.822Z"
   },
   {
    "duration": 188,
    "start_time": "2022-08-29T16:11:20.834Z"
   },
   {
    "duration": 0,
    "start_time": "2022-08-29T16:11:21.024Z"
   },
   {
    "duration": 0,
    "start_time": "2022-08-29T16:11:21.025Z"
   },
   {
    "duration": 0,
    "start_time": "2022-08-29T16:11:21.026Z"
   },
   {
    "duration": 0,
    "start_time": "2022-08-29T16:11:21.027Z"
   },
   {
    "duration": 0,
    "start_time": "2022-08-29T16:11:21.028Z"
   },
   {
    "duration": 1,
    "start_time": "2022-08-29T16:11:21.029Z"
   },
   {
    "duration": 0,
    "start_time": "2022-08-29T16:11:21.030Z"
   },
   {
    "duration": 0,
    "start_time": "2022-08-29T16:11:21.031Z"
   },
   {
    "duration": 22,
    "start_time": "2022-08-29T16:12:31.483Z"
   },
   {
    "duration": 401,
    "start_time": "2022-08-29T16:12:55.206Z"
   },
   {
    "duration": 159,
    "start_time": "2022-08-29T16:12:55.609Z"
   },
   {
    "duration": 9,
    "start_time": "2022-08-29T16:12:55.770Z"
   },
   {
    "duration": 40,
    "start_time": "2022-08-29T16:12:55.781Z"
   },
   {
    "duration": 3,
    "start_time": "2022-08-29T16:12:55.822Z"
   },
   {
    "duration": 6,
    "start_time": "2022-08-29T16:12:55.826Z"
   },
   {
    "duration": 17,
    "start_time": "2022-08-29T16:12:55.834Z"
   },
   {
    "duration": 6,
    "start_time": "2022-08-29T16:12:55.853Z"
   },
   {
    "duration": 27,
    "start_time": "2022-08-29T16:12:55.860Z"
   },
   {
    "duration": 18,
    "start_time": "2022-08-29T16:12:55.906Z"
   },
   {
    "duration": 22,
    "start_time": "2022-08-29T16:12:55.925Z"
   },
   {
    "duration": 4,
    "start_time": "2022-08-29T16:12:55.949Z"
   },
   {
    "duration": 4,
    "start_time": "2022-08-29T16:12:55.955Z"
   },
   {
    "duration": 4,
    "start_time": "2022-08-29T16:12:55.961Z"
   },
   {
    "duration": 6,
    "start_time": "2022-08-29T16:12:55.966Z"
   },
   {
    "duration": 34,
    "start_time": "2022-08-29T16:12:55.973Z"
   },
   {
    "duration": 10,
    "start_time": "2022-08-29T16:12:56.010Z"
   },
   {
    "duration": 9,
    "start_time": "2022-08-29T16:12:56.022Z"
   },
   {
    "duration": 10,
    "start_time": "2022-08-29T16:12:56.033Z"
   },
   {
    "duration": 8,
    "start_time": "2022-08-29T16:12:56.046Z"
   },
   {
    "duration": 22,
    "start_time": "2022-08-29T16:12:56.056Z"
   },
   {
    "duration": 10,
    "start_time": "2022-08-29T16:12:56.081Z"
   },
   {
    "duration": 13,
    "start_time": "2022-08-29T16:12:56.093Z"
   },
   {
    "duration": 12,
    "start_time": "2022-08-29T16:12:56.108Z"
   },
   {
    "duration": 20,
    "start_time": "2022-08-29T16:12:56.122Z"
   },
   {
    "duration": 14,
    "start_time": "2022-08-29T16:12:56.144Z"
   },
   {
    "duration": 10,
    "start_time": "2022-08-29T16:12:56.160Z"
   },
   {
    "duration": 10,
    "start_time": "2022-08-29T16:12:56.175Z"
   },
   {
    "duration": 6,
    "start_time": "2022-08-29T16:12:56.186Z"
   },
   {
    "duration": 85,
    "start_time": "2022-08-29T16:12:56.194Z"
   },
   {
    "duration": 0,
    "start_time": "2022-08-29T16:12:56.280Z"
   },
   {
    "duration": 0,
    "start_time": "2022-08-29T16:12:56.282Z"
   },
   {
    "duration": 0,
    "start_time": "2022-08-29T16:12:56.282Z"
   },
   {
    "duration": 0,
    "start_time": "2022-08-29T16:12:56.284Z"
   },
   {
    "duration": 0,
    "start_time": "2022-08-29T16:12:56.285Z"
   },
   {
    "duration": 0,
    "start_time": "2022-08-29T16:12:56.286Z"
   },
   {
    "duration": 0,
    "start_time": "2022-08-29T16:12:56.287Z"
   },
   {
    "duration": 0,
    "start_time": "2022-08-29T16:12:56.288Z"
   },
   {
    "duration": 6,
    "start_time": "2022-08-30T06:26:22.168Z"
   },
   {
    "duration": 6,
    "start_time": "2022-08-30T06:27:43.626Z"
   },
   {
    "duration": 374,
    "start_time": "2022-08-30T06:35:35.418Z"
   },
   {
    "duration": 223,
    "start_time": "2022-08-30T06:35:35.794Z"
   },
   {
    "duration": 8,
    "start_time": "2022-08-30T06:35:36.019Z"
   },
   {
    "duration": 41,
    "start_time": "2022-08-30T06:35:36.029Z"
   },
   {
    "duration": 3,
    "start_time": "2022-08-30T06:35:36.071Z"
   },
   {
    "duration": 9,
    "start_time": "2022-08-30T06:35:36.075Z"
   },
   {
    "duration": 18,
    "start_time": "2022-08-30T06:35:36.086Z"
   },
   {
    "duration": 6,
    "start_time": "2022-08-30T06:35:36.106Z"
   },
   {
    "duration": 25,
    "start_time": "2022-08-30T06:35:36.113Z"
   },
   {
    "duration": 21,
    "start_time": "2022-08-30T06:35:36.141Z"
   },
   {
    "duration": 31,
    "start_time": "2022-08-30T06:35:36.164Z"
   },
   {
    "duration": 77,
    "start_time": "2022-08-30T06:35:36.196Z"
   },
   {
    "duration": 12,
    "start_time": "2022-08-30T06:35:36.275Z"
   },
   {
    "duration": 13,
    "start_time": "2022-08-30T06:35:36.289Z"
   },
   {
    "duration": 33,
    "start_time": "2022-08-30T06:35:36.304Z"
   },
   {
    "duration": 11,
    "start_time": "2022-08-30T06:35:36.339Z"
   },
   {
    "duration": 9,
    "start_time": "2022-08-30T06:35:36.352Z"
   },
   {
    "duration": 15,
    "start_time": "2022-08-30T06:35:36.362Z"
   },
   {
    "duration": 16,
    "start_time": "2022-08-30T06:35:36.379Z"
   },
   {
    "duration": 11,
    "start_time": "2022-08-30T06:35:36.397Z"
   },
   {
    "duration": 9,
    "start_time": "2022-08-30T06:35:36.410Z"
   },
   {
    "duration": 17,
    "start_time": "2022-08-30T06:35:36.421Z"
   },
   {
    "duration": 12,
    "start_time": "2022-08-30T06:35:36.440Z"
   },
   {
    "duration": 10,
    "start_time": "2022-08-30T06:35:36.454Z"
   },
   {
    "duration": 8,
    "start_time": "2022-08-30T06:35:36.467Z"
   },
   {
    "duration": 6,
    "start_time": "2022-08-30T06:35:36.477Z"
   },
   {
    "duration": 7,
    "start_time": "2022-08-30T06:35:36.484Z"
   },
   {
    "duration": 7,
    "start_time": "2022-08-30T06:35:36.494Z"
   },
   {
    "duration": 4,
    "start_time": "2022-08-30T06:35:36.503Z"
   },
   {
    "duration": 68,
    "start_time": "2022-08-30T06:35:36.509Z"
   },
   {
    "duration": 0,
    "start_time": "2022-08-30T06:35:36.579Z"
   },
   {
    "duration": 0,
    "start_time": "2022-08-30T06:35:36.581Z"
   },
   {
    "duration": 0,
    "start_time": "2022-08-30T06:35:36.582Z"
   },
   {
    "duration": 0,
    "start_time": "2022-08-30T06:35:36.583Z"
   },
   {
    "duration": 0,
    "start_time": "2022-08-30T06:35:36.584Z"
   },
   {
    "duration": 0,
    "start_time": "2022-08-30T06:35:36.588Z"
   },
   {
    "duration": 0,
    "start_time": "2022-08-30T06:35:36.591Z"
   },
   {
    "duration": 0,
    "start_time": "2022-08-30T06:35:36.592Z"
   },
   {
    "duration": 68,
    "start_time": "2022-08-30T06:38:05.484Z"
   },
   {
    "duration": 388,
    "start_time": "2022-08-30T06:49:29.002Z"
   },
   {
    "duration": 151,
    "start_time": "2022-08-30T06:49:29.392Z"
   },
   {
    "duration": 7,
    "start_time": "2022-08-30T06:49:29.545Z"
   },
   {
    "duration": 36,
    "start_time": "2022-08-30T06:49:29.554Z"
   },
   {
    "duration": 2,
    "start_time": "2022-08-30T06:49:29.592Z"
   },
   {
    "duration": 14,
    "start_time": "2022-08-30T06:49:29.596Z"
   },
   {
    "duration": 15,
    "start_time": "2022-08-30T06:49:29.612Z"
   },
   {
    "duration": 5,
    "start_time": "2022-08-30T06:49:29.629Z"
   },
   {
    "duration": 23,
    "start_time": "2022-08-30T06:49:29.636Z"
   },
   {
    "duration": 30,
    "start_time": "2022-08-30T06:49:29.661Z"
   },
   {
    "duration": 21,
    "start_time": "2022-08-30T06:49:29.693Z"
   },
   {
    "duration": 60,
    "start_time": "2022-08-30T06:49:29.716Z"
   },
   {
    "duration": 2,
    "start_time": "2022-08-30T06:49:29.786Z"
   },
   {
    "duration": 16,
    "start_time": "2022-08-30T06:49:29.789Z"
   },
   {
    "duration": 10,
    "start_time": "2022-08-30T06:49:29.806Z"
   },
   {
    "duration": 8,
    "start_time": "2022-08-30T06:49:29.817Z"
   },
   {
    "duration": 8,
    "start_time": "2022-08-30T06:49:29.826Z"
   },
   {
    "duration": 6,
    "start_time": "2022-08-30T06:49:29.835Z"
   },
   {
    "duration": 7,
    "start_time": "2022-08-30T06:49:29.843Z"
   },
   {
    "duration": 5,
    "start_time": "2022-08-30T06:49:29.851Z"
   },
   {
    "duration": 11,
    "start_time": "2022-08-30T06:49:29.858Z"
   },
   {
    "duration": 9,
    "start_time": "2022-08-30T06:49:29.870Z"
   },
   {
    "duration": 7,
    "start_time": "2022-08-30T06:49:29.881Z"
   },
   {
    "duration": 9,
    "start_time": "2022-08-30T06:49:29.889Z"
   },
   {
    "duration": 17,
    "start_time": "2022-08-30T06:49:29.899Z"
   },
   {
    "duration": 19,
    "start_time": "2022-08-30T06:49:29.917Z"
   },
   {
    "duration": 9,
    "start_time": "2022-08-30T06:49:29.938Z"
   },
   {
    "duration": 7,
    "start_time": "2022-08-30T06:49:29.950Z"
   },
   {
    "duration": 13,
    "start_time": "2022-08-30T06:49:29.958Z"
   },
   {
    "duration": 49,
    "start_time": "2022-08-30T06:49:29.973Z"
   },
   {
    "duration": 0,
    "start_time": "2022-08-30T06:49:30.024Z"
   },
   {
    "duration": 0,
    "start_time": "2022-08-30T06:49:30.025Z"
   },
   {
    "duration": 0,
    "start_time": "2022-08-30T06:49:30.027Z"
   },
   {
    "duration": 0,
    "start_time": "2022-08-30T06:49:30.028Z"
   },
   {
    "duration": 0,
    "start_time": "2022-08-30T06:49:30.029Z"
   },
   {
    "duration": 0,
    "start_time": "2022-08-30T06:49:30.031Z"
   },
   {
    "duration": 0,
    "start_time": "2022-08-30T06:49:30.032Z"
   },
   {
    "duration": 0,
    "start_time": "2022-08-30T06:49:30.033Z"
   },
   {
    "duration": 67,
    "start_time": "2022-08-30T06:51:15.132Z"
   },
   {
    "duration": 61,
    "start_time": "2022-08-30T06:52:34.550Z"
   },
   {
    "duration": 60,
    "start_time": "2022-08-30T06:58:46.958Z"
   },
   {
    "duration": 7,
    "start_time": "2022-08-30T06:58:59.349Z"
   },
   {
    "duration": 7,
    "start_time": "2022-08-30T07:00:59.698Z"
   },
   {
    "duration": 41,
    "start_time": "2022-08-30T07:01:54.101Z"
   },
   {
    "duration": 11,
    "start_time": "2022-08-30T07:10:52.931Z"
   },
   {
    "duration": 39,
    "start_time": "2022-08-30T07:11:40.459Z"
   },
   {
    "duration": 41,
    "start_time": "2022-08-30T07:19:26.027Z"
   },
   {
    "duration": 11,
    "start_time": "2022-08-30T07:19:55.231Z"
   },
   {
    "duration": 11,
    "start_time": "2022-08-30T07:21:45.124Z"
   },
   {
    "duration": 4,
    "start_time": "2022-08-30T08:32:16.510Z"
   },
   {
    "duration": 3,
    "start_time": "2022-08-30T08:46:50.510Z"
   },
   {
    "duration": 3,
    "start_time": "2022-08-30T08:47:59.115Z"
   },
   {
    "duration": 3,
    "start_time": "2022-08-30T08:48:03.324Z"
   },
   {
    "duration": 3,
    "start_time": "2022-08-30T08:48:46.583Z"
   },
   {
    "duration": 5,
    "start_time": "2022-08-30T08:54:51.086Z"
   },
   {
    "duration": 8,
    "start_time": "2022-08-30T08:55:24.539Z"
   },
   {
    "duration": 7,
    "start_time": "2022-08-30T09:00:14.707Z"
   },
   {
    "duration": 5,
    "start_time": "2022-08-30T09:02:13.041Z"
   },
   {
    "duration": 16,
    "start_time": "2022-08-30T09:08:30.742Z"
   },
   {
    "duration": 25,
    "start_time": "2022-08-30T09:11:08.748Z"
   },
   {
    "duration": 432,
    "start_time": "2022-08-30T09:15:22.367Z"
   },
   {
    "duration": 167,
    "start_time": "2022-08-30T09:15:22.801Z"
   },
   {
    "duration": 8,
    "start_time": "2022-08-30T09:15:22.970Z"
   },
   {
    "duration": 49,
    "start_time": "2022-08-30T09:15:22.981Z"
   },
   {
    "duration": 3,
    "start_time": "2022-08-30T09:15:23.032Z"
   },
   {
    "duration": 7,
    "start_time": "2022-08-30T09:15:23.036Z"
   },
   {
    "duration": 25,
    "start_time": "2022-08-30T09:15:23.045Z"
   },
   {
    "duration": 11,
    "start_time": "2022-08-30T09:15:23.072Z"
   },
   {
    "duration": 33,
    "start_time": "2022-08-30T09:15:23.085Z"
   },
   {
    "duration": 17,
    "start_time": "2022-08-30T09:15:23.121Z"
   },
   {
    "duration": 23,
    "start_time": "2022-08-30T09:15:23.140Z"
   },
   {
    "duration": 76,
    "start_time": "2022-08-30T09:15:23.165Z"
   },
   {
    "duration": 78,
    "start_time": "2022-08-30T09:15:23.243Z"
   },
   {
    "duration": 64,
    "start_time": "2022-08-30T09:15:23.323Z"
   },
   {
    "duration": 40,
    "start_time": "2022-08-30T09:15:23.390Z"
   },
   {
    "duration": 17,
    "start_time": "2022-08-30T09:15:23.432Z"
   },
   {
    "duration": 57,
    "start_time": "2022-08-30T09:15:23.450Z"
   },
   {
    "duration": 14,
    "start_time": "2022-08-30T09:15:23.509Z"
   },
   {
    "duration": 16,
    "start_time": "2022-08-30T09:15:23.525Z"
   },
   {
    "duration": 92,
    "start_time": "2022-08-30T09:15:23.543Z"
   },
   {
    "duration": 0,
    "start_time": "2022-08-30T09:15:23.638Z"
   },
   {
    "duration": 0,
    "start_time": "2022-08-30T09:15:23.640Z"
   },
   {
    "duration": 0,
    "start_time": "2022-08-30T09:15:23.642Z"
   },
   {
    "duration": 0,
    "start_time": "2022-08-30T09:15:23.643Z"
   },
   {
    "duration": 0,
    "start_time": "2022-08-30T09:15:23.645Z"
   },
   {
    "duration": 0,
    "start_time": "2022-08-30T09:15:23.646Z"
   },
   {
    "duration": 0,
    "start_time": "2022-08-30T09:15:23.648Z"
   },
   {
    "duration": 0,
    "start_time": "2022-08-30T09:15:23.649Z"
   },
   {
    "duration": 0,
    "start_time": "2022-08-30T09:15:23.651Z"
   },
   {
    "duration": 0,
    "start_time": "2022-08-30T09:15:23.653Z"
   },
   {
    "duration": 0,
    "start_time": "2022-08-30T09:15:23.654Z"
   },
   {
    "duration": 0,
    "start_time": "2022-08-30T09:15:23.655Z"
   },
   {
    "duration": 0,
    "start_time": "2022-08-30T09:15:23.687Z"
   },
   {
    "duration": 0,
    "start_time": "2022-08-30T09:15:23.689Z"
   },
   {
    "duration": 0,
    "start_time": "2022-08-30T09:15:23.690Z"
   },
   {
    "duration": 0,
    "start_time": "2022-08-30T09:15:23.692Z"
   },
   {
    "duration": 0,
    "start_time": "2022-08-30T09:15:23.693Z"
   },
   {
    "duration": 0,
    "start_time": "2022-08-30T09:15:23.695Z"
   },
   {
    "duration": 51,
    "start_time": "2022-08-30T09:23:49.183Z"
   },
   {
    "duration": 45,
    "start_time": "2022-08-30T09:24:49.549Z"
   },
   {
    "duration": 7,
    "start_time": "2022-08-30T09:25:59.263Z"
   },
   {
    "duration": 422,
    "start_time": "2022-08-30T09:26:04.871Z"
   },
   {
    "duration": 168,
    "start_time": "2022-08-30T09:26:05.294Z"
   },
   {
    "duration": 8,
    "start_time": "2022-08-30T09:26:05.463Z"
   },
   {
    "duration": 33,
    "start_time": "2022-08-30T09:26:05.473Z"
   },
   {
    "duration": 2,
    "start_time": "2022-08-30T09:26:05.508Z"
   },
   {
    "duration": 8,
    "start_time": "2022-08-30T09:26:05.512Z"
   },
   {
    "duration": 15,
    "start_time": "2022-08-30T09:26:05.522Z"
   },
   {
    "duration": 7,
    "start_time": "2022-08-30T09:26:05.538Z"
   },
   {
    "duration": 44,
    "start_time": "2022-08-30T09:26:05.546Z"
   },
   {
    "duration": 17,
    "start_time": "2022-08-30T09:26:05.592Z"
   },
   {
    "duration": 25,
    "start_time": "2022-08-30T09:26:05.611Z"
   },
   {
    "duration": 71,
    "start_time": "2022-08-30T09:26:05.638Z"
   },
   {
    "duration": 78,
    "start_time": "2022-08-30T09:26:05.710Z"
   },
   {
    "duration": 59,
    "start_time": "2022-08-30T09:26:05.790Z"
   },
   {
    "duration": 51,
    "start_time": "2022-08-30T09:26:05.851Z"
   },
   {
    "duration": 10,
    "start_time": "2022-08-30T09:26:05.904Z"
   },
   {
    "duration": 47,
    "start_time": "2022-08-30T09:26:05.916Z"
   },
   {
    "duration": 22,
    "start_time": "2022-08-30T09:26:05.965Z"
   },
   {
    "duration": 30,
    "start_time": "2022-08-30T09:26:05.989Z"
   },
   {
    "duration": 108,
    "start_time": "2022-08-30T09:26:06.020Z"
   },
   {
    "duration": 0,
    "start_time": "2022-08-30T09:26:06.131Z"
   },
   {
    "duration": 0,
    "start_time": "2022-08-30T09:26:06.132Z"
   },
   {
    "duration": 0,
    "start_time": "2022-08-30T09:26:06.133Z"
   },
   {
    "duration": 0,
    "start_time": "2022-08-30T09:26:06.134Z"
   },
   {
    "duration": 0,
    "start_time": "2022-08-30T09:26:06.135Z"
   },
   {
    "duration": 0,
    "start_time": "2022-08-30T09:26:06.136Z"
   },
   {
    "duration": 0,
    "start_time": "2022-08-30T09:26:06.137Z"
   },
   {
    "duration": 0,
    "start_time": "2022-08-30T09:26:06.138Z"
   },
   {
    "duration": 0,
    "start_time": "2022-08-30T09:26:06.139Z"
   },
   {
    "duration": 0,
    "start_time": "2022-08-30T09:26:06.141Z"
   },
   {
    "duration": 0,
    "start_time": "2022-08-30T09:26:06.141Z"
   },
   {
    "duration": 0,
    "start_time": "2022-08-30T09:26:06.142Z"
   },
   {
    "duration": 0,
    "start_time": "2022-08-30T09:26:06.143Z"
   },
   {
    "duration": 0,
    "start_time": "2022-08-30T09:26:06.144Z"
   },
   {
    "duration": 0,
    "start_time": "2022-08-30T09:26:06.146Z"
   },
   {
    "duration": 0,
    "start_time": "2022-08-30T09:26:06.147Z"
   },
   {
    "duration": 0,
    "start_time": "2022-08-30T09:26:06.148Z"
   },
   {
    "duration": 0,
    "start_time": "2022-08-30T09:26:06.149Z"
   },
   {
    "duration": 8,
    "start_time": "2022-08-30T09:26:57.022Z"
   },
   {
    "duration": 20,
    "start_time": "2022-08-30T09:27:31.450Z"
   },
   {
    "duration": 369,
    "start_time": "2022-08-30T09:27:45.429Z"
   },
   {
    "duration": 163,
    "start_time": "2022-08-30T09:27:45.800Z"
   },
   {
    "duration": 9,
    "start_time": "2022-08-30T09:27:45.964Z"
   },
   {
    "duration": 43,
    "start_time": "2022-08-30T09:27:45.974Z"
   },
   {
    "duration": 6,
    "start_time": "2022-08-30T09:27:46.020Z"
   },
   {
    "duration": 8,
    "start_time": "2022-08-30T09:27:46.027Z"
   },
   {
    "duration": 16,
    "start_time": "2022-08-30T09:27:46.036Z"
   },
   {
    "duration": 11,
    "start_time": "2022-08-30T09:27:46.054Z"
   },
   {
    "duration": 34,
    "start_time": "2022-08-30T09:27:46.067Z"
   },
   {
    "duration": 23,
    "start_time": "2022-08-30T09:27:46.103Z"
   },
   {
    "duration": 22,
    "start_time": "2022-08-30T09:27:46.128Z"
   },
   {
    "duration": 92,
    "start_time": "2022-08-30T09:27:46.152Z"
   },
   {
    "duration": 93,
    "start_time": "2022-08-30T09:27:46.247Z"
   },
   {
    "duration": 79,
    "start_time": "2022-08-30T09:27:46.344Z"
   },
   {
    "duration": 45,
    "start_time": "2022-08-30T09:27:46.425Z"
   },
   {
    "duration": 23,
    "start_time": "2022-08-30T09:27:46.472Z"
   },
   {
    "duration": 48,
    "start_time": "2022-08-30T09:27:46.497Z"
   },
   {
    "duration": 11,
    "start_time": "2022-08-30T09:27:46.546Z"
   },
   {
    "duration": 28,
    "start_time": "2022-08-30T09:27:46.559Z"
   },
   {
    "duration": 26,
    "start_time": "2022-08-30T09:27:46.588Z"
   },
   {
    "duration": 16,
    "start_time": "2022-08-30T09:27:46.616Z"
   },
   {
    "duration": 61,
    "start_time": "2022-08-30T09:27:46.634Z"
   },
   {
    "duration": 0,
    "start_time": "2022-08-30T09:27:46.696Z"
   },
   {
    "duration": 0,
    "start_time": "2022-08-30T09:27:46.697Z"
   },
   {
    "duration": 0,
    "start_time": "2022-08-30T09:27:46.699Z"
   },
   {
    "duration": 0,
    "start_time": "2022-08-30T09:27:46.700Z"
   },
   {
    "duration": 0,
    "start_time": "2022-08-30T09:27:46.701Z"
   },
   {
    "duration": 0,
    "start_time": "2022-08-30T09:27:46.702Z"
   },
   {
    "duration": 0,
    "start_time": "2022-08-30T09:27:46.703Z"
   },
   {
    "duration": 0,
    "start_time": "2022-08-30T09:27:46.704Z"
   },
   {
    "duration": 0,
    "start_time": "2022-08-30T09:27:46.705Z"
   },
   {
    "duration": 0,
    "start_time": "2022-08-30T09:27:46.706Z"
   },
   {
    "duration": 0,
    "start_time": "2022-08-30T09:27:46.707Z"
   },
   {
    "duration": 0,
    "start_time": "2022-08-30T09:27:46.708Z"
   },
   {
    "duration": 0,
    "start_time": "2022-08-30T09:27:46.709Z"
   },
   {
    "duration": 0,
    "start_time": "2022-08-30T09:27:46.710Z"
   },
   {
    "duration": 0,
    "start_time": "2022-08-30T09:27:46.711Z"
   },
   {
    "duration": 0,
    "start_time": "2022-08-30T09:27:46.712Z"
   },
   {
    "duration": 14,
    "start_time": "2022-08-30T09:30:45.784Z"
   },
   {
    "duration": 17,
    "start_time": "2022-08-30T09:33:21.077Z"
   },
   {
    "duration": 21,
    "start_time": "2022-08-30T09:33:56.192Z"
   },
   {
    "duration": 52,
    "start_time": "2022-08-30T09:36:27.747Z"
   },
   {
    "duration": 50,
    "start_time": "2022-08-30T09:42:11.104Z"
   },
   {
    "duration": 73,
    "start_time": "2022-08-30T09:42:38.346Z"
   },
   {
    "duration": 405,
    "start_time": "2022-08-30T09:44:45.591Z"
   },
   {
    "duration": 168,
    "start_time": "2022-08-30T09:44:45.998Z"
   },
   {
    "duration": 8,
    "start_time": "2022-08-30T09:44:46.168Z"
   },
   {
    "duration": 60,
    "start_time": "2022-08-30T09:44:46.178Z"
   },
   {
    "duration": 3,
    "start_time": "2022-08-30T09:44:46.240Z"
   },
   {
    "duration": 7,
    "start_time": "2022-08-30T09:44:46.245Z"
   },
   {
    "duration": 29,
    "start_time": "2022-08-30T09:44:46.254Z"
   },
   {
    "duration": 10,
    "start_time": "2022-08-30T09:44:46.286Z"
   },
   {
    "duration": 41,
    "start_time": "2022-08-30T09:44:46.298Z"
   },
   {
    "duration": 23,
    "start_time": "2022-08-30T09:44:46.342Z"
   },
   {
    "duration": 37,
    "start_time": "2022-08-30T09:44:46.367Z"
   },
   {
    "duration": 98,
    "start_time": "2022-08-30T09:44:46.406Z"
   },
   {
    "duration": 83,
    "start_time": "2022-08-30T09:44:46.505Z"
   },
   {
    "duration": 75,
    "start_time": "2022-08-30T09:44:46.591Z"
   },
   {
    "duration": 52,
    "start_time": "2022-08-30T09:44:46.668Z"
   },
   {
    "duration": 10,
    "start_time": "2022-08-30T09:44:46.721Z"
   },
   {
    "duration": 54,
    "start_time": "2022-08-30T09:44:46.733Z"
   },
   {
    "duration": 16,
    "start_time": "2022-08-30T09:44:46.789Z"
   },
   {
    "duration": 11,
    "start_time": "2022-08-30T09:44:46.807Z"
   },
   {
    "duration": 83,
    "start_time": "2022-08-30T09:44:46.820Z"
   },
   {
    "duration": 0,
    "start_time": "2022-08-30T09:44:46.905Z"
   },
   {
    "duration": 0,
    "start_time": "2022-08-30T09:44:46.906Z"
   },
   {
    "duration": 0,
    "start_time": "2022-08-30T09:44:46.907Z"
   },
   {
    "duration": 0,
    "start_time": "2022-08-30T09:44:46.908Z"
   },
   {
    "duration": 0,
    "start_time": "2022-08-30T09:44:46.909Z"
   },
   {
    "duration": 0,
    "start_time": "2022-08-30T09:44:46.911Z"
   },
   {
    "duration": 0,
    "start_time": "2022-08-30T09:44:46.911Z"
   },
   {
    "duration": 0,
    "start_time": "2022-08-30T09:44:46.913Z"
   },
   {
    "duration": 0,
    "start_time": "2022-08-30T09:44:46.913Z"
   },
   {
    "duration": 0,
    "start_time": "2022-08-30T09:44:46.914Z"
   },
   {
    "duration": 0,
    "start_time": "2022-08-30T09:44:46.916Z"
   },
   {
    "duration": 0,
    "start_time": "2022-08-30T09:44:46.917Z"
   },
   {
    "duration": 0,
    "start_time": "2022-08-30T09:44:46.918Z"
   },
   {
    "duration": 0,
    "start_time": "2022-08-30T09:44:46.919Z"
   },
   {
    "duration": 0,
    "start_time": "2022-08-30T09:44:46.920Z"
   },
   {
    "duration": 0,
    "start_time": "2022-08-30T09:44:46.921Z"
   },
   {
    "duration": 0,
    "start_time": "2022-08-30T09:44:46.921Z"
   },
   {
    "duration": 0,
    "start_time": "2022-08-30T09:44:46.922Z"
   },
   {
    "duration": 8,
    "start_time": "2022-08-30T09:48:18.205Z"
   },
   {
    "duration": 3,
    "start_time": "2022-08-30T09:48:24.506Z"
   },
   {
    "duration": 14,
    "start_time": "2022-08-30T09:48:27.955Z"
   },
   {
    "duration": 14,
    "start_time": "2022-08-30T09:48:29.195Z"
   },
   {
    "duration": 13,
    "start_time": "2022-08-30T09:48:32.867Z"
   },
   {
    "duration": 16,
    "start_time": "2022-08-30T09:48:33.858Z"
   },
   {
    "duration": 14,
    "start_time": "2022-08-30T09:48:34.608Z"
   },
   {
    "duration": 16,
    "start_time": "2022-08-30T09:49:17.257Z"
   },
   {
    "duration": 386,
    "start_time": "2022-08-30T09:49:22.702Z"
   },
   {
    "duration": 171,
    "start_time": "2022-08-30T09:49:23.090Z"
   },
   {
    "duration": 9,
    "start_time": "2022-08-30T09:49:23.263Z"
   },
   {
    "duration": 35,
    "start_time": "2022-08-30T09:49:23.275Z"
   },
   {
    "duration": 3,
    "start_time": "2022-08-30T09:49:23.312Z"
   },
   {
    "duration": 4,
    "start_time": "2022-08-30T09:49:23.317Z"
   },
   {
    "duration": 13,
    "start_time": "2022-08-30T09:49:23.323Z"
   },
   {
    "duration": 5,
    "start_time": "2022-08-30T09:49:23.338Z"
   },
   {
    "duration": 50,
    "start_time": "2022-08-30T09:49:23.345Z"
   },
   {
    "duration": 18,
    "start_time": "2022-08-30T09:49:23.398Z"
   },
   {
    "duration": 23,
    "start_time": "2022-08-30T09:49:23.418Z"
   },
   {
    "duration": 84,
    "start_time": "2022-08-30T09:49:23.442Z"
   },
   {
    "duration": 77,
    "start_time": "2022-08-30T09:49:23.528Z"
   },
   {
    "duration": 58,
    "start_time": "2022-08-30T09:49:23.607Z"
   },
   {
    "duration": 47,
    "start_time": "2022-08-30T09:49:23.667Z"
   },
   {
    "duration": 10,
    "start_time": "2022-08-30T09:49:23.715Z"
   },
   {
    "duration": 37,
    "start_time": "2022-08-30T09:49:23.727Z"
   },
   {
    "duration": 12,
    "start_time": "2022-08-30T09:49:23.786Z"
   },
   {
    "duration": 11,
    "start_time": "2022-08-30T09:49:23.800Z"
   },
   {
    "duration": 81,
    "start_time": "2022-08-30T09:49:23.812Z"
   },
   {
    "duration": 0,
    "start_time": "2022-08-30T09:49:23.895Z"
   },
   {
    "duration": 0,
    "start_time": "2022-08-30T09:49:23.896Z"
   },
   {
    "duration": 0,
    "start_time": "2022-08-30T09:49:23.898Z"
   },
   {
    "duration": 0,
    "start_time": "2022-08-30T09:49:23.899Z"
   },
   {
    "duration": 0,
    "start_time": "2022-08-30T09:49:23.900Z"
   },
   {
    "duration": 0,
    "start_time": "2022-08-30T09:49:23.901Z"
   },
   {
    "duration": 0,
    "start_time": "2022-08-30T09:49:23.902Z"
   },
   {
    "duration": 0,
    "start_time": "2022-08-30T09:49:23.903Z"
   },
   {
    "duration": 0,
    "start_time": "2022-08-30T09:49:23.903Z"
   },
   {
    "duration": 0,
    "start_time": "2022-08-30T09:49:23.904Z"
   },
   {
    "duration": 0,
    "start_time": "2022-08-30T09:49:23.905Z"
   },
   {
    "duration": 0,
    "start_time": "2022-08-30T09:49:23.906Z"
   },
   {
    "duration": 0,
    "start_time": "2022-08-30T09:49:23.907Z"
   },
   {
    "duration": 0,
    "start_time": "2022-08-30T09:49:23.908Z"
   },
   {
    "duration": 0,
    "start_time": "2022-08-30T09:49:23.909Z"
   },
   {
    "duration": 0,
    "start_time": "2022-08-30T09:49:23.910Z"
   },
   {
    "duration": 0,
    "start_time": "2022-08-30T09:49:23.911Z"
   },
   {
    "duration": 0,
    "start_time": "2022-08-30T09:49:23.912Z"
   },
   {
    "duration": 16,
    "start_time": "2022-08-30T09:49:36.158Z"
   },
   {
    "duration": 15,
    "start_time": "2022-08-30T09:49:38.187Z"
   },
   {
    "duration": 15,
    "start_time": "2022-08-30T09:49:40.372Z"
   },
   {
    "duration": 15,
    "start_time": "2022-08-30T09:49:47.379Z"
   },
   {
    "duration": 15,
    "start_time": "2022-08-30T09:49:49.773Z"
   },
   {
    "duration": 14,
    "start_time": "2022-08-30T09:49:52.071Z"
   },
   {
    "duration": 428,
    "start_time": "2022-08-30T09:51:04.988Z"
   },
   {
    "duration": 212,
    "start_time": "2022-08-30T09:51:05.418Z"
   },
   {
    "duration": 8,
    "start_time": "2022-08-30T09:51:05.632Z"
   },
   {
    "duration": 34,
    "start_time": "2022-08-30T09:51:05.642Z"
   },
   {
    "duration": 2,
    "start_time": "2022-08-30T09:51:05.678Z"
   },
   {
    "duration": 7,
    "start_time": "2022-08-30T09:51:05.681Z"
   },
   {
    "duration": 17,
    "start_time": "2022-08-30T09:51:05.691Z"
   },
   {
    "duration": 8,
    "start_time": "2022-08-30T09:51:05.709Z"
   },
   {
    "duration": 29,
    "start_time": "2022-08-30T09:51:05.718Z"
   },
   {
    "duration": 45,
    "start_time": "2022-08-30T09:51:05.750Z"
   },
   {
    "duration": 25,
    "start_time": "2022-08-30T09:51:05.797Z"
   },
   {
    "duration": 90,
    "start_time": "2022-08-30T09:51:05.824Z"
   },
   {
    "duration": 98,
    "start_time": "2022-08-30T09:51:05.915Z"
   },
   {
    "duration": 93,
    "start_time": "2022-08-30T09:51:06.015Z"
   },
   {
    "duration": 44,
    "start_time": "2022-08-30T09:51:06.111Z"
   },
   {
    "duration": 11,
    "start_time": "2022-08-30T09:51:06.157Z"
   },
   {
    "duration": 65,
    "start_time": "2022-08-30T09:51:06.170Z"
   },
   {
    "duration": 15,
    "start_time": "2022-08-30T09:51:06.238Z"
   },
   {
    "duration": 36,
    "start_time": "2022-08-30T09:51:06.255Z"
   },
   {
    "duration": 38,
    "start_time": "2022-08-30T09:51:06.294Z"
   },
   {
    "duration": 28,
    "start_time": "2022-08-30T09:51:06.335Z"
   },
   {
    "duration": 30,
    "start_time": "2022-08-30T09:51:06.365Z"
   },
   {
    "duration": 19,
    "start_time": "2022-08-30T09:51:06.397Z"
   },
   {
    "duration": 23,
    "start_time": "2022-08-30T09:51:06.419Z"
   },
   {
    "duration": 29,
    "start_time": "2022-08-30T09:51:06.445Z"
   },
   {
    "duration": 29,
    "start_time": "2022-08-30T09:51:06.476Z"
   },
   {
    "duration": 14,
    "start_time": "2022-08-30T09:51:06.507Z"
   },
   {
    "duration": 3,
    "start_time": "2022-08-30T09:51:06.525Z"
   },
   {
    "duration": 5,
    "start_time": "2022-08-30T09:51:06.530Z"
   },
   {
    "duration": 80,
    "start_time": "2022-08-30T09:51:06.537Z"
   },
   {
    "duration": 0,
    "start_time": "2022-08-30T09:51:06.618Z"
   },
   {
    "duration": 0,
    "start_time": "2022-08-30T09:51:06.620Z"
   },
   {
    "duration": 0,
    "start_time": "2022-08-30T09:51:06.621Z"
   },
   {
    "duration": 0,
    "start_time": "2022-08-30T09:51:06.622Z"
   },
   {
    "duration": 0,
    "start_time": "2022-08-30T09:51:06.623Z"
   },
   {
    "duration": 0,
    "start_time": "2022-08-30T09:51:06.624Z"
   },
   {
    "duration": 0,
    "start_time": "2022-08-30T09:51:06.625Z"
   },
   {
    "duration": 0,
    "start_time": "2022-08-30T09:51:06.626Z"
   },
   {
    "duration": 414,
    "start_time": "2022-08-30T10:01:17.480Z"
   },
   {
    "duration": 181,
    "start_time": "2022-08-30T10:01:17.896Z"
   },
   {
    "duration": 9,
    "start_time": "2022-08-30T10:01:18.079Z"
   },
   {
    "duration": 34,
    "start_time": "2022-08-30T10:01:18.091Z"
   },
   {
    "duration": 3,
    "start_time": "2022-08-30T10:01:18.127Z"
   },
   {
    "duration": 10,
    "start_time": "2022-08-30T10:01:18.131Z"
   },
   {
    "duration": 14,
    "start_time": "2022-08-30T10:01:18.143Z"
   },
   {
    "duration": 7,
    "start_time": "2022-08-30T10:01:18.158Z"
   },
   {
    "duration": 38,
    "start_time": "2022-08-30T10:01:18.167Z"
   },
   {
    "duration": 17,
    "start_time": "2022-08-30T10:01:18.209Z"
   },
   {
    "duration": 23,
    "start_time": "2022-08-30T10:01:18.227Z"
   },
   {
    "duration": 93,
    "start_time": "2022-08-30T10:01:18.252Z"
   },
   {
    "duration": 69,
    "start_time": "2022-08-30T10:01:18.346Z"
   },
   {
    "duration": 56,
    "start_time": "2022-08-30T10:01:18.417Z"
   },
   {
    "duration": 47,
    "start_time": "2022-08-30T10:01:18.475Z"
   },
   {
    "duration": 11,
    "start_time": "2022-08-30T10:01:18.524Z"
   },
   {
    "duration": 58,
    "start_time": "2022-08-30T10:01:18.536Z"
   },
   {
    "duration": 11,
    "start_time": "2022-08-30T10:01:18.595Z"
   },
   {
    "duration": 11,
    "start_time": "2022-08-30T10:01:18.607Z"
   },
   {
    "duration": 22,
    "start_time": "2022-08-30T10:01:18.620Z"
   },
   {
    "duration": 14,
    "start_time": "2022-08-30T10:01:18.643Z"
   },
   {
    "duration": 39,
    "start_time": "2022-08-30T10:01:18.659Z"
   },
   {
    "duration": 14,
    "start_time": "2022-08-30T10:01:18.699Z"
   },
   {
    "duration": 12,
    "start_time": "2022-08-30T10:01:18.714Z"
   },
   {
    "duration": 15,
    "start_time": "2022-08-30T10:01:18.727Z"
   },
   {
    "duration": 43,
    "start_time": "2022-08-30T10:01:18.744Z"
   },
   {
    "duration": 61,
    "start_time": "2022-08-30T10:01:18.789Z"
   },
   {
    "duration": 0,
    "start_time": "2022-08-30T10:01:18.852Z"
   },
   {
    "duration": 0,
    "start_time": "2022-08-30T10:01:18.853Z"
   },
   {
    "duration": 0,
    "start_time": "2022-08-30T10:01:18.854Z"
   },
   {
    "duration": 0,
    "start_time": "2022-08-30T10:01:18.855Z"
   },
   {
    "duration": 0,
    "start_time": "2022-08-30T10:01:18.856Z"
   },
   {
    "duration": 0,
    "start_time": "2022-08-30T10:01:18.857Z"
   },
   {
    "duration": 0,
    "start_time": "2022-08-30T10:01:18.858Z"
   },
   {
    "duration": 0,
    "start_time": "2022-08-30T10:01:18.859Z"
   },
   {
    "duration": 0,
    "start_time": "2022-08-30T10:01:18.859Z"
   },
   {
    "duration": 0,
    "start_time": "2022-08-30T10:01:18.860Z"
   },
   {
    "duration": 0,
    "start_time": "2022-08-30T10:01:18.861Z"
   },
   {
    "duration": 413,
    "start_time": "2022-08-30T10:04:44.477Z"
   },
   {
    "duration": 170,
    "start_time": "2022-08-30T10:04:44.892Z"
   },
   {
    "duration": 8,
    "start_time": "2022-08-30T10:04:45.064Z"
   },
   {
    "duration": 34,
    "start_time": "2022-08-30T10:04:45.074Z"
   },
   {
    "duration": 4,
    "start_time": "2022-08-30T10:04:45.109Z"
   },
   {
    "duration": 11,
    "start_time": "2022-08-30T10:04:45.115Z"
   },
   {
    "duration": 22,
    "start_time": "2022-08-30T10:04:45.128Z"
   },
   {
    "duration": 6,
    "start_time": "2022-08-30T10:04:45.152Z"
   },
   {
    "duration": 30,
    "start_time": "2022-08-30T10:04:45.159Z"
   },
   {
    "duration": 16,
    "start_time": "2022-08-30T10:04:45.192Z"
   },
   {
    "duration": 29,
    "start_time": "2022-08-30T10:04:45.210Z"
   },
   {
    "duration": 73,
    "start_time": "2022-08-30T10:04:45.241Z"
   },
   {
    "duration": 75,
    "start_time": "2022-08-30T10:04:45.316Z"
   },
   {
    "duration": 56,
    "start_time": "2022-08-30T10:04:45.393Z"
   },
   {
    "duration": 48,
    "start_time": "2022-08-30T10:04:45.450Z"
   },
   {
    "duration": 11,
    "start_time": "2022-08-30T10:04:45.499Z"
   },
   {
    "duration": 38,
    "start_time": "2022-08-30T10:04:45.512Z"
   },
   {
    "duration": 10,
    "start_time": "2022-08-30T10:04:45.552Z"
   },
   {
    "duration": 10,
    "start_time": "2022-08-30T10:04:45.587Z"
   },
   {
    "duration": 22,
    "start_time": "2022-08-30T10:04:45.598Z"
   },
   {
    "duration": 13,
    "start_time": "2022-08-30T10:04:45.622Z"
   },
   {
    "duration": 26,
    "start_time": "2022-08-30T10:04:45.637Z"
   },
   {
    "duration": 26,
    "start_time": "2022-08-30T10:04:45.665Z"
   },
   {
    "duration": 16,
    "start_time": "2022-08-30T10:04:45.693Z"
   },
   {
    "duration": 18,
    "start_time": "2022-08-30T10:04:45.710Z"
   },
   {
    "duration": 13,
    "start_time": "2022-08-30T10:04:45.730Z"
   },
   {
    "duration": 88,
    "start_time": "2022-08-30T10:04:45.745Z"
   },
   {
    "duration": 0,
    "start_time": "2022-08-30T10:04:45.837Z"
   },
   {
    "duration": 0,
    "start_time": "2022-08-30T10:04:45.838Z"
   },
   {
    "duration": 0,
    "start_time": "2022-08-30T10:04:45.839Z"
   },
   {
    "duration": 0,
    "start_time": "2022-08-30T10:04:45.841Z"
   },
   {
    "duration": 0,
    "start_time": "2022-08-30T10:04:45.842Z"
   },
   {
    "duration": 0,
    "start_time": "2022-08-30T10:04:45.843Z"
   },
   {
    "duration": 0,
    "start_time": "2022-08-30T10:04:45.844Z"
   },
   {
    "duration": 0,
    "start_time": "2022-08-30T10:04:45.845Z"
   },
   {
    "duration": 0,
    "start_time": "2022-08-30T10:04:45.847Z"
   },
   {
    "duration": 0,
    "start_time": "2022-08-30T10:04:45.848Z"
   },
   {
    "duration": 0,
    "start_time": "2022-08-30T10:04:45.850Z"
   },
   {
    "duration": 12,
    "start_time": "2022-08-30T10:05:42.289Z"
   },
   {
    "duration": 71,
    "start_time": "2022-08-30T10:08:27.799Z"
   },
   {
    "duration": 12,
    "start_time": "2022-08-30T10:08:57.205Z"
   },
   {
    "duration": 12,
    "start_time": "2022-08-30T10:09:00.915Z"
   },
   {
    "duration": 42,
    "start_time": "2022-08-30T10:10:52.300Z"
   },
   {
    "duration": 8,
    "start_time": "2022-08-30T10:11:09.138Z"
   },
   {
    "duration": 6,
    "start_time": "2022-08-30T10:11:44.399Z"
   },
   {
    "duration": 7,
    "start_time": "2022-08-30T10:13:17.648Z"
   },
   {
    "duration": 348,
    "start_time": "2022-08-30T10:13:31.245Z"
   },
   {
    "duration": 168,
    "start_time": "2022-08-30T10:13:31.595Z"
   },
   {
    "duration": 8,
    "start_time": "2022-08-30T10:13:31.765Z"
   },
   {
    "duration": 43,
    "start_time": "2022-08-30T10:13:31.775Z"
   },
   {
    "duration": 3,
    "start_time": "2022-08-30T10:13:31.820Z"
   },
   {
    "duration": 12,
    "start_time": "2022-08-30T10:13:31.824Z"
   },
   {
    "duration": 30,
    "start_time": "2022-08-30T10:13:31.837Z"
   },
   {
    "duration": 11,
    "start_time": "2022-08-30T10:13:31.869Z"
   },
   {
    "duration": 27,
    "start_time": "2022-08-30T10:13:31.881Z"
   },
   {
    "duration": 18,
    "start_time": "2022-08-30T10:13:31.911Z"
   },
   {
    "duration": 26,
    "start_time": "2022-08-30T10:13:31.930Z"
   },
   {
    "duration": 78,
    "start_time": "2022-08-30T10:13:31.957Z"
   },
   {
    "duration": 70,
    "start_time": "2022-08-30T10:13:32.037Z"
   },
   {
    "duration": 54,
    "start_time": "2022-08-30T10:13:32.109Z"
   },
   {
    "duration": 50,
    "start_time": "2022-08-30T10:13:32.165Z"
   },
   {
    "duration": 10,
    "start_time": "2022-08-30T10:13:32.217Z"
   },
   {
    "duration": 36,
    "start_time": "2022-08-30T10:13:32.229Z"
   },
   {
    "duration": 28,
    "start_time": "2022-08-30T10:13:32.267Z"
   },
   {
    "duration": 19,
    "start_time": "2022-08-30T10:13:32.296Z"
   },
   {
    "duration": 32,
    "start_time": "2022-08-30T10:13:32.316Z"
   },
   {
    "duration": 28,
    "start_time": "2022-08-30T10:13:32.350Z"
   },
   {
    "duration": 37,
    "start_time": "2022-08-30T10:13:32.380Z"
   },
   {
    "duration": 33,
    "start_time": "2022-08-30T10:13:32.418Z"
   },
   {
    "duration": 26,
    "start_time": "2022-08-30T10:13:32.453Z"
   },
   {
    "duration": 28,
    "start_time": "2022-08-30T10:13:32.481Z"
   },
   {
    "duration": 20,
    "start_time": "2022-08-30T10:13:32.511Z"
   },
   {
    "duration": 14,
    "start_time": "2022-08-30T10:13:32.533Z"
   },
   {
    "duration": 20,
    "start_time": "2022-08-30T10:13:32.550Z"
   },
   {
    "duration": 9,
    "start_time": "2022-08-30T10:13:32.572Z"
   },
   {
    "duration": 48,
    "start_time": "2022-08-30T10:13:32.582Z"
   },
   {
    "duration": 0,
    "start_time": "2022-08-30T10:13:32.632Z"
   },
   {
    "duration": 0,
    "start_time": "2022-08-30T10:13:32.634Z"
   },
   {
    "duration": 0,
    "start_time": "2022-08-30T10:13:32.635Z"
   },
   {
    "duration": 0,
    "start_time": "2022-08-30T10:13:32.636Z"
   },
   {
    "duration": 0,
    "start_time": "2022-08-30T10:13:32.638Z"
   },
   {
    "duration": 0,
    "start_time": "2022-08-30T10:13:32.639Z"
   },
   {
    "duration": 0,
    "start_time": "2022-08-30T10:13:32.641Z"
   },
   {
    "duration": 0,
    "start_time": "2022-08-30T10:13:32.642Z"
   },
   {
    "duration": 60,
    "start_time": "2022-08-30T10:36:43.044Z"
   },
   {
    "duration": 16,
    "start_time": "2022-08-30T10:37:19.659Z"
   },
   {
    "duration": 15,
    "start_time": "2022-08-30T10:38:18.790Z"
   },
   {
    "duration": 10,
    "start_time": "2022-08-30T10:39:16.920Z"
   },
   {
    "duration": 14,
    "start_time": "2022-08-30T10:39:22.871Z"
   },
   {
    "duration": 401,
    "start_time": "2022-08-30T10:39:48.297Z"
   },
   {
    "duration": 163,
    "start_time": "2022-08-30T10:39:48.700Z"
   },
   {
    "duration": 8,
    "start_time": "2022-08-30T10:39:48.865Z"
   },
   {
    "duration": 34,
    "start_time": "2022-08-30T10:39:48.875Z"
   },
   {
    "duration": 4,
    "start_time": "2022-08-30T10:39:48.911Z"
   },
   {
    "duration": 7,
    "start_time": "2022-08-30T10:39:48.916Z"
   },
   {
    "duration": 15,
    "start_time": "2022-08-30T10:39:48.925Z"
   },
   {
    "duration": 8,
    "start_time": "2022-08-30T10:39:48.941Z"
   },
   {
    "duration": 66,
    "start_time": "2022-08-30T10:39:48.951Z"
   },
   {
    "duration": 26,
    "start_time": "2022-08-30T10:39:49.021Z"
   },
   {
    "duration": 45,
    "start_time": "2022-08-30T10:39:49.049Z"
   },
   {
    "duration": 66,
    "start_time": "2022-08-30T10:39:49.095Z"
   },
   {
    "duration": 80,
    "start_time": "2022-08-30T10:39:49.162Z"
   },
   {
    "duration": 67,
    "start_time": "2022-08-30T10:39:49.244Z"
   },
   {
    "duration": 41,
    "start_time": "2022-08-30T10:39:49.313Z"
   },
   {
    "duration": 11,
    "start_time": "2022-08-30T10:39:49.355Z"
   },
   {
    "duration": 52,
    "start_time": "2022-08-30T10:39:49.367Z"
   },
   {
    "duration": 12,
    "start_time": "2022-08-30T10:39:49.421Z"
   },
   {
    "duration": 15,
    "start_time": "2022-08-30T10:39:49.435Z"
   },
   {
    "duration": 52,
    "start_time": "2022-08-30T10:39:49.452Z"
   },
   {
    "duration": 14,
    "start_time": "2022-08-30T10:39:49.505Z"
   },
   {
    "duration": 12,
    "start_time": "2022-08-30T10:39:49.521Z"
   },
   {
    "duration": 14,
    "start_time": "2022-08-30T10:39:49.534Z"
   },
   {
    "duration": 49,
    "start_time": "2022-08-30T10:39:49.549Z"
   },
   {
    "duration": 18,
    "start_time": "2022-08-30T10:39:49.600Z"
   },
   {
    "duration": 13,
    "start_time": "2022-08-30T10:39:49.620Z"
   },
   {
    "duration": 8,
    "start_time": "2022-08-30T10:39:49.634Z"
   },
   {
    "duration": 43,
    "start_time": "2022-08-30T10:39:49.644Z"
   },
   {
    "duration": 9,
    "start_time": "2022-08-30T10:39:49.689Z"
   },
   {
    "duration": 68,
    "start_time": "2022-08-30T10:39:49.699Z"
   },
   {
    "duration": 0,
    "start_time": "2022-08-30T10:39:49.769Z"
   },
   {
    "duration": 0,
    "start_time": "2022-08-30T10:39:49.770Z"
   },
   {
    "duration": 0,
    "start_time": "2022-08-30T10:39:49.771Z"
   },
   {
    "duration": 0,
    "start_time": "2022-08-30T10:39:49.772Z"
   },
   {
    "duration": 0,
    "start_time": "2022-08-30T10:39:49.773Z"
   },
   {
    "duration": 0,
    "start_time": "2022-08-30T10:39:49.774Z"
   },
   {
    "duration": 0,
    "start_time": "2022-08-30T10:39:49.775Z"
   },
   {
    "duration": 0,
    "start_time": "2022-08-30T10:39:49.776Z"
   },
   {
    "duration": 61,
    "start_time": "2022-08-30T12:57:05.014Z"
   },
   {
    "duration": 9,
    "start_time": "2022-08-30T12:58:52.352Z"
   },
   {
    "duration": 5,
    "start_time": "2022-08-30T13:00:20.728Z"
   },
   {
    "duration": 48,
    "start_time": "2022-08-30T13:05:04.610Z"
   },
   {
    "duration": 4,
    "start_time": "2022-08-30T13:07:05.929Z"
   },
   {
    "duration": 7,
    "start_time": "2022-08-30T13:11:32.359Z"
   },
   {
    "duration": 3,
    "start_time": "2022-08-30T13:11:42.072Z"
   },
   {
    "duration": 10,
    "start_time": "2022-08-30T13:13:02.930Z"
   },
   {
    "duration": 12,
    "start_time": "2022-08-30T13:15:10.877Z"
   },
   {
    "duration": 18,
    "start_time": "2022-08-30T13:15:28.551Z"
   },
   {
    "duration": 258,
    "start_time": "2022-08-30T13:16:55.757Z"
   },
   {
    "duration": 356,
    "start_time": "2022-08-30T13:17:23.588Z"
   },
   {
    "duration": 425,
    "start_time": "2022-08-30T13:17:44.171Z"
   },
   {
    "duration": 161,
    "start_time": "2022-08-30T13:17:44.598Z"
   },
   {
    "duration": 9,
    "start_time": "2022-08-30T13:17:44.761Z"
   },
   {
    "duration": 40,
    "start_time": "2022-08-30T13:17:44.772Z"
   },
   {
    "duration": 3,
    "start_time": "2022-08-30T13:17:44.814Z"
   },
   {
    "duration": 8,
    "start_time": "2022-08-30T13:17:44.819Z"
   },
   {
    "duration": 18,
    "start_time": "2022-08-30T13:17:44.829Z"
   },
   {
    "duration": 7,
    "start_time": "2022-08-30T13:17:44.849Z"
   },
   {
    "duration": 40,
    "start_time": "2022-08-30T13:17:44.857Z"
   },
   {
    "duration": 17,
    "start_time": "2022-08-30T13:17:44.900Z"
   },
   {
    "duration": 24,
    "start_time": "2022-08-30T13:17:44.919Z"
   },
   {
    "duration": 85,
    "start_time": "2022-08-30T13:17:44.944Z"
   },
   {
    "duration": 77,
    "start_time": "2022-08-30T13:17:45.031Z"
   },
   {
    "duration": 61,
    "start_time": "2022-08-30T13:17:45.110Z"
   },
   {
    "duration": 39,
    "start_time": "2022-08-30T13:17:45.186Z"
   },
   {
    "duration": 11,
    "start_time": "2022-08-30T13:17:45.227Z"
   },
   {
    "duration": 52,
    "start_time": "2022-08-30T13:17:45.239Z"
   },
   {
    "duration": 10,
    "start_time": "2022-08-30T13:17:45.293Z"
   },
   {
    "duration": 11,
    "start_time": "2022-08-30T13:17:45.304Z"
   },
   {
    "duration": 23,
    "start_time": "2022-08-30T13:17:45.317Z"
   },
   {
    "duration": 15,
    "start_time": "2022-08-30T13:17:45.341Z"
   },
   {
    "duration": 40,
    "start_time": "2022-08-30T13:17:45.357Z"
   },
   {
    "duration": 17,
    "start_time": "2022-08-30T13:17:45.398Z"
   },
   {
    "duration": 13,
    "start_time": "2022-08-30T13:17:45.417Z"
   },
   {
    "duration": 14,
    "start_time": "2022-08-30T13:17:45.432Z"
   },
   {
    "duration": 43,
    "start_time": "2022-08-30T13:17:45.448Z"
   },
   {
    "duration": 6,
    "start_time": "2022-08-30T13:17:45.493Z"
   },
   {
    "duration": 13,
    "start_time": "2022-08-30T13:17:45.502Z"
   },
   {
    "duration": 9,
    "start_time": "2022-08-30T13:17:45.517Z"
   },
   {
    "duration": 264,
    "start_time": "2022-08-30T13:17:45.527Z"
   },
   {
    "duration": 0,
    "start_time": "2022-08-30T13:17:45.794Z"
   },
   {
    "duration": 0,
    "start_time": "2022-08-30T13:17:45.796Z"
   },
   {
    "duration": 0,
    "start_time": "2022-08-30T13:17:45.797Z"
   },
   {
    "duration": 0,
    "start_time": "2022-08-30T13:17:45.799Z"
   },
   {
    "duration": 0,
    "start_time": "2022-08-30T13:17:45.800Z"
   },
   {
    "duration": 0,
    "start_time": "2022-08-30T13:17:45.801Z"
   },
   {
    "duration": 0,
    "start_time": "2022-08-30T13:17:45.803Z"
   },
   {
    "duration": 0,
    "start_time": "2022-08-30T13:17:45.804Z"
   },
   {
    "duration": 554,
    "start_time": "2022-08-30T13:18:22.042Z"
   },
   {
    "duration": 5,
    "start_time": "2022-08-30T13:18:50.974Z"
   },
   {
    "duration": 34,
    "start_time": "2022-08-30T13:30:26.193Z"
   },
   {
    "duration": 388,
    "start_time": "2022-08-30T13:31:40.809Z"
   },
   {
    "duration": 176,
    "start_time": "2022-08-30T13:31:41.199Z"
   },
   {
    "duration": 11,
    "start_time": "2022-08-30T13:31:41.377Z"
   },
   {
    "duration": 30,
    "start_time": "2022-08-30T13:31:41.390Z"
   },
   {
    "duration": 3,
    "start_time": "2022-08-30T13:31:41.421Z"
   },
   {
    "duration": 6,
    "start_time": "2022-08-30T13:31:41.425Z"
   },
   {
    "duration": 16,
    "start_time": "2022-08-30T13:31:41.432Z"
   },
   {
    "duration": 9,
    "start_time": "2022-08-30T13:31:41.450Z"
   },
   {
    "duration": 37,
    "start_time": "2022-08-30T13:31:41.486Z"
   },
   {
    "duration": 24,
    "start_time": "2022-08-30T13:31:41.526Z"
   },
   {
    "duration": 38,
    "start_time": "2022-08-30T13:31:41.552Z"
   },
   {
    "duration": 64,
    "start_time": "2022-08-30T13:31:41.592Z"
   },
   {
    "duration": 90,
    "start_time": "2022-08-30T13:31:41.658Z"
   },
   {
    "duration": 72,
    "start_time": "2022-08-30T13:31:41.750Z"
   },
   {
    "duration": 41,
    "start_time": "2022-08-30T13:31:41.824Z"
   },
   {
    "duration": 26,
    "start_time": "2022-08-30T13:31:41.867Z"
   },
   {
    "duration": 46,
    "start_time": "2022-08-30T13:31:41.895Z"
   },
   {
    "duration": 12,
    "start_time": "2022-08-30T13:31:41.942Z"
   },
   {
    "duration": 11,
    "start_time": "2022-08-30T13:31:41.956Z"
   },
   {
    "duration": 33,
    "start_time": "2022-08-30T13:31:41.987Z"
   },
   {
    "duration": 23,
    "start_time": "2022-08-30T13:31:42.021Z"
   },
   {
    "duration": 17,
    "start_time": "2022-08-30T13:31:42.046Z"
   },
   {
    "duration": 37,
    "start_time": "2022-08-30T13:31:42.066Z"
   },
   {
    "duration": 16,
    "start_time": "2022-08-30T13:31:42.105Z"
   },
   {
    "duration": 15,
    "start_time": "2022-08-30T13:31:42.122Z"
   },
   {
    "duration": 13,
    "start_time": "2022-08-30T13:31:42.138Z"
   },
   {
    "duration": 7,
    "start_time": "2022-08-30T13:31:42.153Z"
   },
   {
    "duration": 11,
    "start_time": "2022-08-30T13:31:42.186Z"
   },
   {
    "duration": 10,
    "start_time": "2022-08-30T13:31:42.199Z"
   },
   {
    "duration": 5,
    "start_time": "2022-08-30T13:31:42.211Z"
   },
   {
    "duration": 26,
    "start_time": "2022-08-30T13:31:42.218Z"
   },
   {
    "duration": 12,
    "start_time": "2022-08-30T13:31:42.246Z"
   },
   {
    "duration": 42,
    "start_time": "2022-08-30T13:31:42.259Z"
   },
   {
    "duration": 11,
    "start_time": "2022-08-30T13:31:42.303Z"
   },
   {
    "duration": 2,
    "start_time": "2022-08-30T13:31:42.316Z"
   },
   {
    "duration": 5,
    "start_time": "2022-08-30T13:31:42.320Z"
   },
   {
    "duration": 8,
    "start_time": "2022-08-30T13:31:42.326Z"
   },
   {
    "duration": 8,
    "start_time": "2022-08-30T13:31:42.335Z"
   },
   {
    "duration": 385,
    "start_time": "2022-08-30T13:36:08.814Z"
   },
   {
    "duration": 183,
    "start_time": "2022-08-30T13:36:09.201Z"
   },
   {
    "duration": 9,
    "start_time": "2022-08-30T13:36:09.386Z"
   },
   {
    "duration": 33,
    "start_time": "2022-08-30T13:36:09.397Z"
   },
   {
    "duration": 5,
    "start_time": "2022-08-30T13:36:09.431Z"
   },
   {
    "duration": 28,
    "start_time": "2022-08-30T13:36:09.438Z"
   },
   {
    "duration": 21,
    "start_time": "2022-08-30T13:36:09.468Z"
   },
   {
    "duration": 21,
    "start_time": "2022-08-30T13:36:09.491Z"
   },
   {
    "duration": 39,
    "start_time": "2022-08-30T13:36:09.514Z"
   },
   {
    "duration": 22,
    "start_time": "2022-08-30T13:36:09.556Z"
   },
   {
    "duration": 49,
    "start_time": "2022-08-30T13:36:09.580Z"
   },
   {
    "duration": 112,
    "start_time": "2022-08-30T13:36:09.631Z"
   },
   {
    "duration": 90,
    "start_time": "2022-08-30T13:36:09.746Z"
   },
   {
    "duration": 73,
    "start_time": "2022-08-30T13:36:09.837Z"
   },
   {
    "duration": 40,
    "start_time": "2022-08-30T13:36:09.912Z"
   },
   {
    "duration": 12,
    "start_time": "2022-08-30T13:36:09.954Z"
   },
   {
    "duration": 63,
    "start_time": "2022-08-30T13:36:09.968Z"
   },
   {
    "duration": 12,
    "start_time": "2022-08-30T13:36:10.033Z"
   },
   {
    "duration": 11,
    "start_time": "2022-08-30T13:36:10.047Z"
   },
   {
    "duration": 54,
    "start_time": "2022-08-30T13:36:10.059Z"
   },
   {
    "duration": 15,
    "start_time": "2022-08-30T13:36:10.116Z"
   },
   {
    "duration": 14,
    "start_time": "2022-08-30T13:36:10.133Z"
   },
   {
    "duration": 17,
    "start_time": "2022-08-30T13:36:10.148Z"
   },
   {
    "duration": 35,
    "start_time": "2022-08-30T13:36:10.166Z"
   },
   {
    "duration": 17,
    "start_time": "2022-08-30T13:36:10.203Z"
   },
   {
    "duration": 16,
    "start_time": "2022-08-30T13:36:10.222Z"
   },
   {
    "duration": 12,
    "start_time": "2022-08-30T13:36:10.240Z"
   },
   {
    "duration": 42,
    "start_time": "2022-08-30T13:36:10.255Z"
   },
   {
    "duration": 15,
    "start_time": "2022-08-30T13:36:10.299Z"
   },
   {
    "duration": 7,
    "start_time": "2022-08-30T13:36:10.317Z"
   },
   {
    "duration": 32,
    "start_time": "2022-08-30T13:36:10.326Z"
   },
   {
    "duration": 27,
    "start_time": "2022-08-30T13:36:10.360Z"
   },
   {
    "duration": 21,
    "start_time": "2022-08-30T13:36:10.389Z"
   },
   {
    "duration": 12,
    "start_time": "2022-08-30T13:36:10.413Z"
   },
   {
    "duration": 9,
    "start_time": "2022-08-30T13:36:10.427Z"
   },
   {
    "duration": 5,
    "start_time": "2022-08-30T13:36:10.438Z"
   },
   {
    "duration": 5,
    "start_time": "2022-08-30T13:36:10.445Z"
   },
   {
    "duration": 7,
    "start_time": "2022-08-30T13:36:10.452Z"
   },
   {
    "duration": 19,
    "start_time": "2022-08-30T13:37:07.215Z"
   },
   {
    "duration": 13,
    "start_time": "2022-08-30T13:37:14.384Z"
   },
   {
    "duration": 17,
    "start_time": "2022-08-30T13:37:18.110Z"
   },
   {
    "duration": 12,
    "start_time": "2022-08-30T13:37:22.293Z"
   },
   {
    "duration": 12,
    "start_time": "2022-08-30T13:37:30.902Z"
   },
   {
    "duration": 375,
    "start_time": "2022-08-30T13:37:48.548Z"
   },
   {
    "duration": 170,
    "start_time": "2022-08-30T13:37:48.924Z"
   },
   {
    "duration": 8,
    "start_time": "2022-08-30T13:37:49.096Z"
   },
   {
    "duration": 30,
    "start_time": "2022-08-30T13:37:49.106Z"
   },
   {
    "duration": 3,
    "start_time": "2022-08-30T13:37:49.138Z"
   },
   {
    "duration": 20,
    "start_time": "2022-08-30T13:37:49.142Z"
   },
   {
    "duration": 28,
    "start_time": "2022-08-30T13:37:49.164Z"
   },
   {
    "duration": 6,
    "start_time": "2022-08-30T13:37:49.194Z"
   },
   {
    "duration": 27,
    "start_time": "2022-08-30T13:37:49.202Z"
   },
   {
    "duration": 22,
    "start_time": "2022-08-30T13:37:49.232Z"
   },
   {
    "duration": 36,
    "start_time": "2022-08-30T13:37:49.256Z"
   },
   {
    "duration": 65,
    "start_time": "2022-08-30T13:37:49.294Z"
   },
   {
    "duration": 84,
    "start_time": "2022-08-30T13:37:49.361Z"
   },
   {
    "duration": 68,
    "start_time": "2022-08-30T13:37:49.447Z"
   },
   {
    "duration": 39,
    "start_time": "2022-08-30T13:37:49.516Z"
   },
   {
    "duration": 31,
    "start_time": "2022-08-30T13:37:49.556Z"
   },
   {
    "duration": 48,
    "start_time": "2022-08-30T13:37:49.589Z"
   },
   {
    "duration": 11,
    "start_time": "2022-08-30T13:37:49.638Z"
   },
   {
    "duration": 11,
    "start_time": "2022-08-30T13:37:49.651Z"
   },
   {
    "duration": 11,
    "start_time": "2022-08-30T13:44:32.902Z"
   },
   {
    "duration": 9,
    "start_time": "2022-08-30T13:44:54.939Z"
   },
   {
    "duration": 4,
    "start_time": "2022-08-30T13:45:33.361Z"
   },
   {
    "duration": 4,
    "start_time": "2022-08-30T13:47:35.269Z"
   },
   {
    "duration": 5,
    "start_time": "2022-08-30T13:48:52.485Z"
   },
   {
    "duration": 5,
    "start_time": "2022-08-30T13:51:45.847Z"
   },
   {
    "duration": 352,
    "start_time": "2022-08-30T13:52:35.442Z"
   },
   {
    "duration": 157,
    "start_time": "2022-08-30T13:52:35.796Z"
   },
   {
    "duration": 8,
    "start_time": "2022-08-30T13:52:35.954Z"
   },
   {
    "duration": 30,
    "start_time": "2022-08-30T13:52:35.964Z"
   },
   {
    "duration": 2,
    "start_time": "2022-08-30T13:52:35.996Z"
   },
   {
    "duration": 19,
    "start_time": "2022-08-30T13:52:35.999Z"
   },
   {
    "duration": 18,
    "start_time": "2022-08-30T13:52:36.021Z"
   },
   {
    "duration": 13,
    "start_time": "2022-08-30T13:52:36.041Z"
   },
   {
    "duration": 30,
    "start_time": "2022-08-30T13:52:36.056Z"
   },
   {
    "duration": 17,
    "start_time": "2022-08-30T13:52:36.089Z"
   },
   {
    "duration": 21,
    "start_time": "2022-08-30T13:52:36.107Z"
   },
   {
    "duration": 77,
    "start_time": "2022-08-30T13:52:36.130Z"
   },
   {
    "duration": 87,
    "start_time": "2022-08-30T13:52:36.209Z"
   },
   {
    "duration": 71,
    "start_time": "2022-08-30T13:52:36.298Z"
   },
   {
    "duration": 61,
    "start_time": "2022-08-30T13:52:36.372Z"
   },
   {
    "duration": 23,
    "start_time": "2022-08-30T13:52:36.435Z"
   },
   {
    "duration": 49,
    "start_time": "2022-08-30T13:52:36.459Z"
   },
   {
    "duration": 10,
    "start_time": "2022-08-30T13:52:36.510Z"
   },
   {
    "duration": 11,
    "start_time": "2022-08-30T13:52:36.522Z"
   },
   {
    "duration": 22,
    "start_time": "2022-08-30T13:52:36.535Z"
   },
   {
    "duration": 34,
    "start_time": "2022-08-30T13:52:36.559Z"
   },
   {
    "duration": 13,
    "start_time": "2022-08-30T13:52:36.596Z"
   },
   {
    "duration": 16,
    "start_time": "2022-08-30T13:52:36.611Z"
   },
   {
    "duration": 19,
    "start_time": "2022-08-30T13:52:36.629Z"
   },
   {
    "duration": 43,
    "start_time": "2022-08-30T13:52:36.650Z"
   },
   {
    "duration": 13,
    "start_time": "2022-08-30T13:52:36.695Z"
   },
   {
    "duration": 6,
    "start_time": "2022-08-30T13:52:36.709Z"
   },
   {
    "duration": 11,
    "start_time": "2022-08-30T13:52:36.718Z"
   },
   {
    "duration": 10,
    "start_time": "2022-08-30T13:52:36.730Z"
   },
   {
    "duration": 6,
    "start_time": "2022-08-30T13:52:36.741Z"
   },
   {
    "duration": 46,
    "start_time": "2022-08-30T13:52:36.748Z"
   },
   {
    "duration": 11,
    "start_time": "2022-08-30T13:52:36.796Z"
   },
   {
    "duration": 15,
    "start_time": "2022-08-30T13:52:36.808Z"
   },
   {
    "duration": 13,
    "start_time": "2022-08-30T13:52:36.824Z"
   },
   {
    "duration": 8,
    "start_time": "2022-08-30T13:52:36.839Z"
   },
   {
    "duration": 38,
    "start_time": "2022-08-30T13:52:36.849Z"
   },
   {
    "duration": 61,
    "start_time": "2022-08-30T13:52:36.889Z"
   },
   {
    "duration": 0,
    "start_time": "2022-08-30T13:52:36.952Z"
   },
   {
    "duration": 5,
    "start_time": "2022-08-30T13:54:06.533Z"
   },
   {
    "duration": 5,
    "start_time": "2022-08-30T13:54:15.115Z"
   },
   {
    "duration": 6,
    "start_time": "2022-08-30T13:54:54.824Z"
   },
   {
    "duration": 9,
    "start_time": "2022-08-30T13:56:38.254Z"
   },
   {
    "duration": 5,
    "start_time": "2022-08-30T13:56:46.804Z"
   },
   {
    "duration": 59,
    "start_time": "2022-08-30T13:58:08.093Z"
   },
   {
    "duration": 11,
    "start_time": "2022-08-30T13:59:27.222Z"
   },
   {
    "duration": 4,
    "start_time": "2022-08-30T13:59:34.117Z"
   },
   {
    "duration": 15,
    "start_time": "2022-08-30T14:03:16.628Z"
   },
   {
    "duration": 9,
    "start_time": "2022-08-30T14:04:12.430Z"
   },
   {
    "duration": 5,
    "start_time": "2022-08-30T14:05:20.562Z"
   },
   {
    "duration": 4,
    "start_time": "2022-08-30T14:06:08.333Z"
   },
   {
    "duration": 380,
    "start_time": "2022-08-30T14:06:48.020Z"
   },
   {
    "duration": 187,
    "start_time": "2022-08-30T14:06:48.402Z"
   },
   {
    "duration": 8,
    "start_time": "2022-08-30T14:06:48.594Z"
   },
   {
    "duration": 37,
    "start_time": "2022-08-30T14:06:48.604Z"
   },
   {
    "duration": 3,
    "start_time": "2022-08-30T14:06:48.642Z"
   },
   {
    "duration": 7,
    "start_time": "2022-08-30T14:06:48.646Z"
   },
   {
    "duration": 36,
    "start_time": "2022-08-30T14:06:48.654Z"
   },
   {
    "duration": 3,
    "start_time": "2022-08-30T14:06:48.692Z"
   },
   {
    "duration": 25,
    "start_time": "2022-08-30T14:06:48.698Z"
   },
   {
    "duration": 18,
    "start_time": "2022-08-30T14:06:48.725Z"
   },
   {
    "duration": 46,
    "start_time": "2022-08-30T14:06:48.744Z"
   },
   {
    "duration": 67,
    "start_time": "2022-08-30T14:06:48.791Z"
   },
   {
    "duration": 83,
    "start_time": "2022-08-30T14:06:48.860Z"
   },
   {
    "duration": 66,
    "start_time": "2022-08-30T14:06:48.945Z"
   },
   {
    "duration": 38,
    "start_time": "2022-08-30T14:06:49.013Z"
   },
   {
    "duration": 12,
    "start_time": "2022-08-30T14:06:49.053Z"
   },
   {
    "duration": 55,
    "start_time": "2022-08-30T14:06:49.067Z"
   },
   {
    "duration": 12,
    "start_time": "2022-08-30T14:06:49.124Z"
   },
   {
    "duration": 11,
    "start_time": "2022-08-30T14:06:49.138Z"
   },
   {
    "duration": 49,
    "start_time": "2022-08-30T14:06:49.151Z"
   },
   {
    "duration": 17,
    "start_time": "2022-08-30T14:06:49.202Z"
   },
   {
    "duration": 13,
    "start_time": "2022-08-30T14:06:49.221Z"
   },
   {
    "duration": 14,
    "start_time": "2022-08-30T14:06:49.236Z"
   },
   {
    "duration": 44,
    "start_time": "2022-08-30T14:06:49.252Z"
   },
   {
    "duration": 16,
    "start_time": "2022-08-30T14:06:49.298Z"
   },
   {
    "duration": 14,
    "start_time": "2022-08-30T14:06:49.315Z"
   },
   {
    "duration": 6,
    "start_time": "2022-08-30T14:06:49.333Z"
   },
   {
    "duration": 26,
    "start_time": "2022-08-30T14:06:49.341Z"
   },
   {
    "duration": 25,
    "start_time": "2022-08-30T14:06:49.369Z"
   },
   {
    "duration": 6,
    "start_time": "2022-08-30T14:06:49.395Z"
   },
   {
    "duration": 23,
    "start_time": "2022-08-30T14:06:49.403Z"
   },
   {
    "duration": 14,
    "start_time": "2022-08-30T14:06:49.428Z"
   },
   {
    "duration": 50,
    "start_time": "2022-08-30T14:06:49.443Z"
   },
   {
    "duration": 11,
    "start_time": "2022-08-30T14:06:49.495Z"
   },
   {
    "duration": 10,
    "start_time": "2022-08-30T14:06:49.507Z"
   },
   {
    "duration": 4,
    "start_time": "2022-08-30T14:06:49.518Z"
   },
   {
    "duration": 6,
    "start_time": "2022-08-30T14:06:49.524Z"
   },
   {
    "duration": 86,
    "start_time": "2022-08-30T14:06:49.531Z"
   },
   {
    "duration": 415,
    "start_time": "2022-08-30T14:07:03.287Z"
   },
   {
    "duration": 169,
    "start_time": "2022-08-30T14:07:03.704Z"
   },
   {
    "duration": 8,
    "start_time": "2022-08-30T14:07:03.874Z"
   },
   {
    "duration": 32,
    "start_time": "2022-08-30T14:07:03.887Z"
   },
   {
    "duration": 2,
    "start_time": "2022-08-30T14:07:03.921Z"
   },
   {
    "duration": 5,
    "start_time": "2022-08-30T14:07:03.925Z"
   },
   {
    "duration": 14,
    "start_time": "2022-08-30T14:07:03.932Z"
   },
   {
    "duration": 6,
    "start_time": "2022-08-30T14:07:03.948Z"
   },
   {
    "duration": 49,
    "start_time": "2022-08-30T14:07:03.956Z"
   },
   {
    "duration": 21,
    "start_time": "2022-08-30T14:07:04.008Z"
   },
   {
    "duration": 22,
    "start_time": "2022-08-30T14:07:04.031Z"
   },
   {
    "duration": 82,
    "start_time": "2022-08-30T14:07:04.055Z"
   },
   {
    "duration": 71,
    "start_time": "2022-08-30T14:07:04.139Z"
   },
   {
    "duration": 57,
    "start_time": "2022-08-30T14:07:04.212Z"
   },
   {
    "duration": 51,
    "start_time": "2022-08-30T14:07:04.271Z"
   },
   {
    "duration": 12,
    "start_time": "2022-08-30T14:07:04.323Z"
   },
   {
    "duration": 56,
    "start_time": "2022-08-30T14:07:04.336Z"
   },
   {
    "duration": 11,
    "start_time": "2022-08-30T14:07:04.394Z"
   },
   {
    "duration": 15,
    "start_time": "2022-08-30T14:07:04.407Z"
   },
   {
    "duration": 23,
    "start_time": "2022-08-30T14:07:04.423Z"
   },
   {
    "duration": 15,
    "start_time": "2022-08-30T14:07:04.447Z"
   },
   {
    "duration": 34,
    "start_time": "2022-08-30T14:07:04.463Z"
   },
   {
    "duration": 15,
    "start_time": "2022-08-30T14:07:04.499Z"
   },
   {
    "duration": 14,
    "start_time": "2022-08-30T14:07:04.515Z"
   },
   {
    "duration": 17,
    "start_time": "2022-08-30T14:07:04.530Z"
   },
   {
    "duration": 38,
    "start_time": "2022-08-30T14:07:04.549Z"
   },
   {
    "duration": 8,
    "start_time": "2022-08-30T14:07:04.589Z"
   },
   {
    "duration": 14,
    "start_time": "2022-08-30T14:07:04.600Z"
   },
   {
    "duration": 13,
    "start_time": "2022-08-30T14:07:04.615Z"
   },
   {
    "duration": 8,
    "start_time": "2022-08-30T14:07:04.629Z"
   },
   {
    "duration": 25,
    "start_time": "2022-08-30T14:07:04.638Z"
   },
   {
    "duration": 28,
    "start_time": "2022-08-30T14:07:04.665Z"
   },
   {
    "duration": 15,
    "start_time": "2022-08-30T14:07:04.695Z"
   },
   {
    "duration": 11,
    "start_time": "2022-08-30T14:07:04.712Z"
   },
   {
    "duration": 9,
    "start_time": "2022-08-30T14:07:04.724Z"
   },
   {
    "duration": 3,
    "start_time": "2022-08-30T14:07:04.735Z"
   },
   {
    "duration": 6,
    "start_time": "2022-08-30T14:07:04.739Z"
   },
   {
    "duration": 72,
    "start_time": "2022-08-30T14:20:07.921Z"
   },
   {
    "duration": 4,
    "start_time": "2022-08-30T14:20:22.170Z"
   },
   {
    "duration": 5,
    "start_time": "2022-08-30T14:21:04.723Z"
   },
   {
    "duration": 4,
    "start_time": "2022-08-30T14:21:24.410Z"
   },
   {
    "duration": 4,
    "start_time": "2022-08-30T14:21:47.791Z"
   },
   {
    "duration": 407,
    "start_time": "2022-08-30T14:24:33.802Z"
   },
   {
    "duration": 164,
    "start_time": "2022-08-30T14:24:34.211Z"
   },
   {
    "duration": 10,
    "start_time": "2022-08-30T14:24:34.378Z"
   },
   {
    "duration": 37,
    "start_time": "2022-08-30T14:24:34.389Z"
   },
   {
    "duration": 2,
    "start_time": "2022-08-30T14:24:34.428Z"
   },
   {
    "duration": 15,
    "start_time": "2022-08-30T14:24:34.432Z"
   },
   {
    "duration": 20,
    "start_time": "2022-08-30T14:24:34.449Z"
   },
   {
    "duration": 7,
    "start_time": "2022-08-30T14:24:34.470Z"
   },
   {
    "duration": 27,
    "start_time": "2022-08-30T14:24:34.479Z"
   },
   {
    "duration": 20,
    "start_time": "2022-08-30T14:24:34.507Z"
   },
   {
    "duration": 24,
    "start_time": "2022-08-30T14:24:34.529Z"
   },
   {
    "duration": 80,
    "start_time": "2022-08-30T14:24:34.555Z"
   },
   {
    "duration": 77,
    "start_time": "2022-08-30T14:24:34.637Z"
   },
   {
    "duration": 59,
    "start_time": "2022-08-30T14:24:34.716Z"
   },
   {
    "duration": 37,
    "start_time": "2022-08-30T14:24:34.788Z"
   },
   {
    "duration": 11,
    "start_time": "2022-08-30T14:24:34.826Z"
   },
   {
    "duration": 54,
    "start_time": "2022-08-30T14:24:34.839Z"
   },
   {
    "duration": 10,
    "start_time": "2022-08-30T14:24:34.895Z"
   },
   {
    "duration": 11,
    "start_time": "2022-08-30T14:24:34.906Z"
   },
   {
    "duration": 22,
    "start_time": "2022-08-30T14:24:34.919Z"
   },
   {
    "duration": 45,
    "start_time": "2022-08-30T14:24:34.942Z"
   },
   {
    "duration": 15,
    "start_time": "2022-08-30T14:24:34.989Z"
   },
   {
    "duration": 15,
    "start_time": "2022-08-30T14:24:35.006Z"
   },
   {
    "duration": 13,
    "start_time": "2022-08-30T14:24:35.023Z"
   },
   {
    "duration": 30,
    "start_time": "2022-08-30T14:24:35.038Z"
   },
   {
    "duration": 28,
    "start_time": "2022-08-30T14:24:35.070Z"
   },
   {
    "duration": 6,
    "start_time": "2022-08-30T14:24:35.102Z"
   },
   {
    "duration": 13,
    "start_time": "2022-08-30T14:24:35.110Z"
   },
   {
    "duration": 15,
    "start_time": "2022-08-30T14:24:35.124Z"
   },
   {
    "duration": 7,
    "start_time": "2022-08-30T14:24:35.141Z"
   },
   {
    "duration": 41,
    "start_time": "2022-08-30T14:24:35.149Z"
   },
   {
    "duration": 12,
    "start_time": "2022-08-30T14:24:35.192Z"
   },
   {
    "duration": 15,
    "start_time": "2022-08-30T14:24:35.206Z"
   },
   {
    "duration": 11,
    "start_time": "2022-08-30T14:24:35.223Z"
   },
   {
    "duration": 8,
    "start_time": "2022-08-30T14:24:35.235Z"
   },
   {
    "duration": 3,
    "start_time": "2022-08-30T14:24:35.245Z"
   },
   {
    "duration": 6,
    "start_time": "2022-08-30T14:24:35.250Z"
   },
   {
    "duration": 5,
    "start_time": "2022-08-30T17:01:14.269Z"
   },
   {
    "duration": 3,
    "start_time": "2022-08-30T17:01:58.695Z"
   },
   {
    "duration": 2,
    "start_time": "2022-08-30T17:02:10.879Z"
   },
   {
    "duration": 3,
    "start_time": "2022-08-30T17:02:16.566Z"
   },
   {
    "duration": 65,
    "start_time": "2022-08-30T17:18:40.570Z"
   },
   {
    "duration": 54,
    "start_time": "2022-08-30T17:19:40.085Z"
   },
   {
    "duration": 14,
    "start_time": "2022-08-30T17:20:10.242Z"
   },
   {
    "duration": 19,
    "start_time": "2022-08-30T17:20:49.974Z"
   },
   {
    "duration": 16,
    "start_time": "2022-08-30T17:22:07.857Z"
   },
   {
    "duration": 16,
    "start_time": "2022-08-30T17:22:10.875Z"
   },
   {
    "duration": 4,
    "start_time": "2022-08-30T17:35:08.810Z"
   },
   {
    "duration": 12,
    "start_time": "2022-08-30T17:36:23.764Z"
   },
   {
    "duration": 9,
    "start_time": "2022-08-30T17:37:01.503Z"
   },
   {
    "duration": 5,
    "start_time": "2022-08-30T17:43:53.375Z"
   },
   {
    "duration": 4,
    "start_time": "2022-08-30T17:44:42.524Z"
   },
   {
    "duration": 5,
    "start_time": "2022-08-30T17:44:59.276Z"
   },
   {
    "duration": 5,
    "start_time": "2022-08-30T17:45:04.825Z"
   },
   {
    "duration": 4,
    "start_time": "2022-08-30T17:45:34.441Z"
   },
   {
    "duration": 7,
    "start_time": "2022-08-30T17:46:18.876Z"
   },
   {
    "duration": 5,
    "start_time": "2022-08-30T17:46:35.770Z"
   },
   {
    "duration": 379,
    "start_time": "2022-08-30T17:55:45.416Z"
   },
   {
    "duration": 160,
    "start_time": "2022-08-30T17:55:45.797Z"
   },
   {
    "duration": 7,
    "start_time": "2022-08-30T17:55:45.961Z"
   },
   {
    "duration": 41,
    "start_time": "2022-08-30T17:55:45.971Z"
   },
   {
    "duration": 3,
    "start_time": "2022-08-30T17:55:46.017Z"
   },
   {
    "duration": 14,
    "start_time": "2022-08-30T17:55:46.029Z"
   },
   {
    "duration": 19,
    "start_time": "2022-08-30T17:55:46.045Z"
   },
   {
    "duration": 6,
    "start_time": "2022-08-30T17:55:46.066Z"
   },
   {
    "duration": 32,
    "start_time": "2022-08-30T17:55:46.073Z"
   },
   {
    "duration": 21,
    "start_time": "2022-08-30T17:55:46.107Z"
   },
   {
    "duration": 22,
    "start_time": "2022-08-30T17:55:46.130Z"
   },
   {
    "duration": 81,
    "start_time": "2022-08-30T17:55:46.154Z"
   },
   {
    "duration": 101,
    "start_time": "2022-08-30T17:55:46.239Z"
   },
   {
    "duration": 81,
    "start_time": "2022-08-30T17:55:46.342Z"
   },
   {
    "duration": 37,
    "start_time": "2022-08-30T17:55:46.424Z"
   },
   {
    "duration": 11,
    "start_time": "2022-08-30T17:55:46.463Z"
   },
   {
    "duration": 35,
    "start_time": "2022-08-30T17:55:46.487Z"
   },
   {
    "duration": 10,
    "start_time": "2022-08-30T17:55:46.524Z"
   },
   {
    "duration": 9,
    "start_time": "2022-08-30T17:55:46.535Z"
   },
   {
    "duration": 47,
    "start_time": "2022-08-30T17:55:46.546Z"
   },
   {
    "duration": 17,
    "start_time": "2022-08-30T17:55:46.594Z"
   },
   {
    "duration": 14,
    "start_time": "2022-08-30T17:55:46.612Z"
   },
   {
    "duration": 17,
    "start_time": "2022-08-30T17:55:46.629Z"
   },
   {
    "duration": 39,
    "start_time": "2022-08-30T17:55:46.648Z"
   },
   {
    "duration": 15,
    "start_time": "2022-08-30T17:55:46.689Z"
   },
   {
    "duration": 13,
    "start_time": "2022-08-30T17:55:46.705Z"
   },
   {
    "duration": 6,
    "start_time": "2022-08-30T17:55:46.720Z"
   },
   {
    "duration": 14,
    "start_time": "2022-08-30T17:55:46.728Z"
   },
   {
    "duration": 11,
    "start_time": "2022-08-30T17:55:46.743Z"
   },
   {
    "duration": 35,
    "start_time": "2022-08-30T17:55:46.755Z"
   },
   {
    "duration": 25,
    "start_time": "2022-08-30T17:55:46.792Z"
   },
   {
    "duration": 13,
    "start_time": "2022-08-30T17:55:46.819Z"
   },
   {
    "duration": 16,
    "start_time": "2022-08-30T17:55:46.834Z"
   },
   {
    "duration": 42,
    "start_time": "2022-08-30T17:55:46.852Z"
   },
   {
    "duration": 9,
    "start_time": "2022-08-30T17:55:46.895Z"
   },
   {
    "duration": 3,
    "start_time": "2022-08-30T17:55:46.905Z"
   },
   {
    "duration": 5,
    "start_time": "2022-08-30T17:58:41.523Z"
   },
   {
    "duration": 4,
    "start_time": "2022-08-30T18:04:44.810Z"
   },
   {
    "duration": 5,
    "start_time": "2022-08-30T18:06:36.920Z"
   },
   {
    "duration": 4,
    "start_time": "2022-08-30T18:07:05.678Z"
   },
   {
    "duration": 13,
    "start_time": "2022-08-30T18:07:30.036Z"
   },
   {
    "duration": 6,
    "start_time": "2022-08-30T18:07:36.378Z"
   },
   {
    "duration": 388,
    "start_time": "2022-08-30T18:28:59.412Z"
   },
   {
    "duration": 164,
    "start_time": "2022-08-30T18:28:59.802Z"
   },
   {
    "duration": 7,
    "start_time": "2022-08-30T18:28:59.968Z"
   },
   {
    "duration": 35,
    "start_time": "2022-08-30T18:28:59.978Z"
   },
   {
    "duration": 3,
    "start_time": "2022-08-30T18:29:00.014Z"
   },
   {
    "duration": 10,
    "start_time": "2022-08-30T18:29:00.018Z"
   },
   {
    "duration": 19,
    "start_time": "2022-08-30T18:29:00.029Z"
   },
   {
    "duration": 12,
    "start_time": "2022-08-30T18:29:00.051Z"
   },
   {
    "duration": 35,
    "start_time": "2022-08-30T18:29:00.064Z"
   },
   {
    "duration": 20,
    "start_time": "2022-08-30T18:29:00.101Z"
   },
   {
    "duration": 35,
    "start_time": "2022-08-30T18:29:00.122Z"
   },
   {
    "duration": 74,
    "start_time": "2022-08-30T18:29:00.158Z"
   },
   {
    "duration": 72,
    "start_time": "2022-08-30T18:29:00.234Z"
   },
   {
    "duration": 59,
    "start_time": "2022-08-30T18:29:00.308Z"
   },
   {
    "duration": 54,
    "start_time": "2022-08-30T18:29:00.368Z"
   },
   {
    "duration": 11,
    "start_time": "2022-08-30T18:29:00.423Z"
   },
   {
    "duration": 52,
    "start_time": "2022-08-30T18:29:00.435Z"
   },
   {
    "duration": 10,
    "start_time": "2022-08-30T18:29:00.488Z"
   },
   {
    "duration": 14,
    "start_time": "2022-08-30T18:29:00.499Z"
   },
   {
    "duration": 27,
    "start_time": "2022-08-30T18:29:00.514Z"
   },
   {
    "duration": 16,
    "start_time": "2022-08-30T18:29:00.542Z"
   },
   {
    "duration": 35,
    "start_time": "2022-08-30T18:29:00.559Z"
   },
   {
    "duration": 27,
    "start_time": "2022-08-30T18:29:00.596Z"
   },
   {
    "duration": 20,
    "start_time": "2022-08-30T18:29:00.625Z"
   },
   {
    "duration": 27,
    "start_time": "2022-08-30T18:29:00.646Z"
   },
   {
    "duration": 29,
    "start_time": "2022-08-30T18:29:00.675Z"
   },
   {
    "duration": 13,
    "start_time": "2022-08-30T18:29:00.706Z"
   },
   {
    "duration": 13,
    "start_time": "2022-08-30T18:29:00.722Z"
   },
   {
    "duration": 13,
    "start_time": "2022-08-30T18:29:00.737Z"
   },
   {
    "duration": 10,
    "start_time": "2022-08-30T18:29:00.751Z"
   },
   {
    "duration": 42,
    "start_time": "2022-08-30T18:29:00.763Z"
   },
   {
    "duration": 11,
    "start_time": "2022-08-30T18:29:00.807Z"
   },
   {
    "duration": 23,
    "start_time": "2022-08-30T18:29:00.820Z"
   },
   {
    "duration": 12,
    "start_time": "2022-08-30T18:29:00.845Z"
   },
   {
    "duration": 31,
    "start_time": "2022-08-30T18:29:00.858Z"
   },
   {
    "duration": 16,
    "start_time": "2022-08-30T18:29:00.891Z"
   },
   {
    "duration": 20,
    "start_time": "2022-08-30T18:29:00.909Z"
   },
   {
    "duration": 5,
    "start_time": "2022-08-30T18:29:11.545Z"
   },
   {
    "duration": 8,
    "start_time": "2022-08-30T18:33:08.580Z"
   },
   {
    "duration": 12,
    "start_time": "2022-08-30T18:43:02.219Z"
   },
   {
    "duration": 5,
    "start_time": "2022-08-30T18:43:05.296Z"
   },
   {
    "duration": 7,
    "start_time": "2022-08-30T18:43:54.077Z"
   },
   {
    "duration": 61,
    "start_time": "2022-08-30T18:45:50.791Z"
   },
   {
    "duration": 61,
    "start_time": "2022-08-30T18:47:40.058Z"
   },
   {
    "duration": 19,
    "start_time": "2022-08-30T18:48:00.760Z"
   },
   {
    "duration": 49,
    "start_time": "2022-08-30T18:51:24.890Z"
   },
   {
    "duration": 59,
    "start_time": "2022-08-30T18:52:32.178Z"
   },
   {
    "duration": 53,
    "start_time": "2022-08-30T18:55:43.479Z"
   },
   {
    "duration": 60,
    "start_time": "2022-08-30T18:55:46.302Z"
   },
   {
    "duration": 14,
    "start_time": "2022-08-30T18:56:14.339Z"
   },
   {
    "duration": 10,
    "start_time": "2022-08-30T18:56:48.200Z"
   },
   {
    "duration": 9,
    "start_time": "2022-08-30T18:58:51.115Z"
   },
   {
    "duration": 350,
    "start_time": "2022-08-30T18:59:38.547Z"
   },
   {
    "duration": 165,
    "start_time": "2022-08-30T18:59:38.899Z"
   },
   {
    "duration": 7,
    "start_time": "2022-08-30T18:59:39.066Z"
   },
   {
    "duration": 34,
    "start_time": "2022-08-30T18:59:39.075Z"
   },
   {
    "duration": 2,
    "start_time": "2022-08-30T18:59:39.110Z"
   },
   {
    "duration": 6,
    "start_time": "2022-08-30T18:59:39.114Z"
   },
   {
    "duration": 21,
    "start_time": "2022-08-30T18:59:39.121Z"
   },
   {
    "duration": 14,
    "start_time": "2022-08-30T18:59:39.143Z"
   },
   {
    "duration": 38,
    "start_time": "2022-08-30T18:59:39.159Z"
   },
   {
    "duration": 17,
    "start_time": "2022-08-30T18:59:39.201Z"
   },
   {
    "duration": 21,
    "start_time": "2022-08-30T18:59:39.219Z"
   },
   {
    "duration": 76,
    "start_time": "2022-08-30T18:59:39.242Z"
   },
   {
    "duration": 72,
    "start_time": "2022-08-30T18:59:39.320Z"
   },
   {
    "duration": 54,
    "start_time": "2022-08-30T18:59:39.393Z"
   },
   {
    "duration": 50,
    "start_time": "2022-08-30T18:59:39.448Z"
   },
   {
    "duration": 11,
    "start_time": "2022-08-30T18:59:39.499Z"
   },
   {
    "duration": 39,
    "start_time": "2022-08-30T18:59:39.511Z"
   },
   {
    "duration": 10,
    "start_time": "2022-08-30T18:59:39.552Z"
   },
   {
    "duration": 28,
    "start_time": "2022-08-30T18:59:39.563Z"
   },
   {
    "duration": 22,
    "start_time": "2022-08-30T18:59:39.593Z"
   },
   {
    "duration": 15,
    "start_time": "2022-08-30T18:59:39.616Z"
   },
   {
    "duration": 13,
    "start_time": "2022-08-30T18:59:39.632Z"
   },
   {
    "duration": 15,
    "start_time": "2022-08-30T18:59:39.646Z"
   },
   {
    "duration": 36,
    "start_time": "2022-08-30T18:59:39.662Z"
   },
   {
    "duration": 15,
    "start_time": "2022-08-30T18:59:39.699Z"
   },
   {
    "duration": 14,
    "start_time": "2022-08-30T18:59:39.715Z"
   },
   {
    "duration": 7,
    "start_time": "2022-08-30T18:59:39.730Z"
   },
   {
    "duration": 19,
    "start_time": "2022-08-30T18:59:39.740Z"
   },
   {
    "duration": 31,
    "start_time": "2022-08-30T18:59:39.761Z"
   },
   {
    "duration": 4,
    "start_time": "2022-08-30T18:59:39.794Z"
   },
   {
    "duration": 23,
    "start_time": "2022-08-30T18:59:39.800Z"
   },
   {
    "duration": 11,
    "start_time": "2022-08-30T18:59:39.825Z"
   },
   {
    "duration": 15,
    "start_time": "2022-08-30T18:59:39.837Z"
   },
   {
    "duration": 40,
    "start_time": "2022-08-30T18:59:39.854Z"
   },
   {
    "duration": 8,
    "start_time": "2022-08-30T18:59:39.896Z"
   },
   {
    "duration": 7,
    "start_time": "2022-08-30T18:59:39.906Z"
   },
   {
    "duration": 4,
    "start_time": "2022-08-30T18:59:39.915Z"
   },
   {
    "duration": 6,
    "start_time": "2022-08-30T19:00:06.888Z"
   },
   {
    "duration": 8,
    "start_time": "2022-08-30T19:03:03.102Z"
   },
   {
    "duration": 60,
    "start_time": "2022-08-30T19:05:45.085Z"
   },
   {
    "duration": 403,
    "start_time": "2022-08-30T19:05:52.378Z"
   },
   {
    "duration": 160,
    "start_time": "2022-08-30T19:05:52.783Z"
   },
   {
    "duration": 7,
    "start_time": "2022-08-30T19:05:52.945Z"
   },
   {
    "duration": 39,
    "start_time": "2022-08-30T19:05:52.955Z"
   },
   {
    "duration": 3,
    "start_time": "2022-08-30T19:05:52.996Z"
   },
   {
    "duration": 7,
    "start_time": "2022-08-30T19:05:53.000Z"
   },
   {
    "duration": 13,
    "start_time": "2022-08-30T19:05:53.009Z"
   },
   {
    "duration": 5,
    "start_time": "2022-08-30T19:05:53.024Z"
   },
   {
    "duration": 27,
    "start_time": "2022-08-30T19:05:53.031Z"
   },
   {
    "duration": 40,
    "start_time": "2022-08-30T19:05:53.062Z"
   },
   {
    "duration": 24,
    "start_time": "2022-08-30T19:05:53.104Z"
   },
   {
    "duration": 75,
    "start_time": "2022-08-30T19:05:53.130Z"
   },
   {
    "duration": 64,
    "start_time": "2022-08-30T19:05:53.207Z"
   },
   {
    "duration": 56,
    "start_time": "2022-08-30T19:05:53.286Z"
   },
   {
    "duration": 45,
    "start_time": "2022-08-30T19:05:53.350Z"
   },
   {
    "duration": 11,
    "start_time": "2022-08-30T19:05:53.397Z"
   },
   {
    "duration": 38,
    "start_time": "2022-08-30T19:05:53.409Z"
   },
   {
    "duration": 10,
    "start_time": "2022-08-30T19:05:53.448Z"
   },
   {
    "duration": 31,
    "start_time": "2022-08-30T19:05:53.460Z"
   },
   {
    "duration": 23,
    "start_time": "2022-08-30T19:05:53.493Z"
   },
   {
    "duration": 14,
    "start_time": "2022-08-30T19:05:53.517Z"
   },
   {
    "duration": 14,
    "start_time": "2022-08-30T19:05:53.533Z"
   },
   {
    "duration": 43,
    "start_time": "2022-08-30T19:05:53.548Z"
   },
   {
    "duration": 11,
    "start_time": "2022-08-30T19:05:53.593Z"
   },
   {
    "duration": 13,
    "start_time": "2022-08-30T19:05:53.606Z"
   },
   {
    "duration": 21,
    "start_time": "2022-08-30T19:05:53.620Z"
   },
   {
    "duration": 7,
    "start_time": "2022-08-30T19:05:53.642Z"
   },
   {
    "duration": 38,
    "start_time": "2022-08-30T19:05:53.652Z"
   },
   {
    "duration": 9,
    "start_time": "2022-08-30T19:05:53.692Z"
   },
   {
    "duration": 7,
    "start_time": "2022-08-30T19:05:53.703Z"
   },
   {
    "duration": 25,
    "start_time": "2022-08-30T19:05:53.711Z"
   },
   {
    "duration": 11,
    "start_time": "2022-08-30T19:05:53.737Z"
   },
   {
    "duration": 24,
    "start_time": "2022-08-30T19:05:53.750Z"
   },
   {
    "duration": 10,
    "start_time": "2022-08-30T19:05:53.787Z"
   },
   {
    "duration": 8,
    "start_time": "2022-08-30T19:05:53.799Z"
   },
   {
    "duration": 61,
    "start_time": "2022-08-30T19:05:53.808Z"
   },
   {
    "duration": 0,
    "start_time": "2022-08-30T19:05:53.887Z"
   },
   {
    "duration": 6,
    "start_time": "2022-08-30T19:06:33.990Z"
   },
   {
    "duration": 412,
    "start_time": "2022-08-30T19:13:57.967Z"
   },
   {
    "duration": 160,
    "start_time": "2022-08-30T19:13:58.381Z"
   },
   {
    "duration": 8,
    "start_time": "2022-08-30T19:13:58.543Z"
   },
   {
    "duration": 40,
    "start_time": "2022-08-30T19:13:58.554Z"
   },
   {
    "duration": 2,
    "start_time": "2022-08-30T19:13:58.596Z"
   },
   {
    "duration": 10,
    "start_time": "2022-08-30T19:13:58.600Z"
   },
   {
    "duration": 16,
    "start_time": "2022-08-30T19:13:58.611Z"
   },
   {
    "duration": 7,
    "start_time": "2022-08-30T19:13:58.628Z"
   },
   {
    "duration": 50,
    "start_time": "2022-08-30T19:13:58.637Z"
   },
   {
    "duration": 18,
    "start_time": "2022-08-30T19:13:58.690Z"
   },
   {
    "duration": 22,
    "start_time": "2022-08-30T19:13:58.709Z"
   },
   {
    "duration": 77,
    "start_time": "2022-08-30T19:13:58.732Z"
   },
   {
    "duration": 64,
    "start_time": "2022-08-30T19:13:58.810Z"
   },
   {
    "duration": 56,
    "start_time": "2022-08-30T19:13:58.886Z"
   },
   {
    "duration": 51,
    "start_time": "2022-08-30T19:13:58.943Z"
   },
   {
    "duration": 11,
    "start_time": "2022-08-30T19:13:58.995Z"
   },
   {
    "duration": 36,
    "start_time": "2022-08-30T19:13:59.007Z"
   },
   {
    "duration": 10,
    "start_time": "2022-08-30T19:13:59.045Z"
   },
   {
    "duration": 31,
    "start_time": "2022-08-30T19:13:59.057Z"
   },
   {
    "duration": 24,
    "start_time": "2022-08-30T19:13:59.089Z"
   },
   {
    "duration": 16,
    "start_time": "2022-08-30T19:13:59.114Z"
   },
   {
    "duration": 12,
    "start_time": "2022-08-30T19:13:59.132Z"
   },
   {
    "duration": 41,
    "start_time": "2022-08-30T19:13:59.146Z"
   },
   {
    "duration": 13,
    "start_time": "2022-08-30T19:13:59.188Z"
   },
   {
    "duration": 14,
    "start_time": "2022-08-30T19:13:59.202Z"
   },
   {
    "duration": 12,
    "start_time": "2022-08-30T19:13:59.218Z"
   },
   {
    "duration": 6,
    "start_time": "2022-08-30T19:13:59.232Z"
   },
   {
    "duration": 19,
    "start_time": "2022-08-30T19:13:59.241Z"
   },
   {
    "duration": 10,
    "start_time": "2022-08-30T19:13:59.287Z"
   },
   {
    "duration": 4,
    "start_time": "2022-08-30T19:13:59.298Z"
   },
   {
    "duration": 26,
    "start_time": "2022-08-30T19:13:59.304Z"
   },
   {
    "duration": 14,
    "start_time": "2022-08-30T19:13:59.332Z"
   },
   {
    "duration": 43,
    "start_time": "2022-08-30T19:13:59.348Z"
   },
   {
    "duration": 15,
    "start_time": "2022-08-30T19:13:59.392Z"
   },
   {
    "duration": 9,
    "start_time": "2022-08-30T19:13:59.408Z"
   },
   {
    "duration": 5,
    "start_time": "2022-08-30T19:13:59.418Z"
   },
   {
    "duration": 5,
    "start_time": "2022-08-30T19:13:59.424Z"
   },
   {
    "duration": 6,
    "start_time": "2022-08-30T19:16:08.855Z"
   },
   {
    "duration": 4,
    "start_time": "2022-08-30T19:16:29.596Z"
   },
   {
    "duration": 50,
    "start_time": "2022-08-31T08:13:44.671Z"
   },
   {
    "duration": 6,
    "start_time": "2022-08-31T08:18:24.763Z"
   },
   {
    "duration": 411,
    "start_time": "2022-08-31T08:20:44.405Z"
   },
   {
    "duration": 215,
    "start_time": "2022-08-31T08:20:44.818Z"
   },
   {
    "duration": 8,
    "start_time": "2022-08-31T08:20:45.035Z"
   },
   {
    "duration": 35,
    "start_time": "2022-08-31T08:20:45.045Z"
   },
   {
    "duration": 11,
    "start_time": "2022-08-31T08:20:45.081Z"
   },
   {
    "duration": 7,
    "start_time": "2022-08-31T08:20:45.093Z"
   },
   {
    "duration": 13,
    "start_time": "2022-08-31T08:20:45.102Z"
   },
   {
    "duration": 6,
    "start_time": "2022-08-31T08:20:45.116Z"
   },
   {
    "duration": 21,
    "start_time": "2022-08-31T08:20:45.124Z"
   },
   {
    "duration": 15,
    "start_time": "2022-08-31T08:20:45.148Z"
   },
   {
    "duration": 40,
    "start_time": "2022-08-31T08:20:45.165Z"
   },
   {
    "duration": 63,
    "start_time": "2022-08-31T08:20:45.207Z"
   },
   {
    "duration": 81,
    "start_time": "2022-08-31T08:20:45.271Z"
   },
   {
    "duration": 63,
    "start_time": "2022-08-31T08:20:45.353Z"
   },
   {
    "duration": 56,
    "start_time": "2022-08-31T08:20:45.417Z"
   },
   {
    "duration": 24,
    "start_time": "2022-08-31T08:20:45.474Z"
   },
   {
    "duration": 36,
    "start_time": "2022-08-31T08:20:45.500Z"
   },
   {
    "duration": 11,
    "start_time": "2022-08-31T08:20:45.537Z"
   },
   {
    "duration": 8,
    "start_time": "2022-08-31T08:20:45.550Z"
   },
   {
    "duration": 46,
    "start_time": "2022-08-31T08:20:45.560Z"
   },
   {
    "duration": 14,
    "start_time": "2022-08-31T08:20:45.608Z"
   },
   {
    "duration": 12,
    "start_time": "2022-08-31T08:20:45.623Z"
   },
   {
    "duration": 12,
    "start_time": "2022-08-31T08:20:45.636Z"
   },
   {
    "duration": 12,
    "start_time": "2022-08-31T08:20:45.649Z"
   },
   {
    "duration": 47,
    "start_time": "2022-08-31T08:20:45.662Z"
   },
   {
    "duration": 12,
    "start_time": "2022-08-31T08:20:45.711Z"
   },
   {
    "duration": 6,
    "start_time": "2022-08-31T08:20:45.725Z"
   },
   {
    "duration": 20,
    "start_time": "2022-08-31T08:20:45.734Z"
   },
   {
    "duration": 11,
    "start_time": "2022-08-31T08:20:45.756Z"
   },
   {
    "duration": 32,
    "start_time": "2022-08-31T08:20:45.769Z"
   },
   {
    "duration": 29,
    "start_time": "2022-08-31T08:20:45.803Z"
   },
   {
    "duration": 13,
    "start_time": "2022-08-31T08:20:45.834Z"
   },
   {
    "duration": 16,
    "start_time": "2022-08-31T08:20:45.849Z"
   },
   {
    "duration": 39,
    "start_time": "2022-08-31T08:20:45.867Z"
   },
   {
    "duration": 12,
    "start_time": "2022-08-31T08:20:45.907Z"
   },
   {
    "duration": 6,
    "start_time": "2022-08-31T08:20:45.920Z"
   },
   {
    "duration": 8,
    "start_time": "2022-08-31T08:20:45.927Z"
   },
   {
    "duration": 10,
    "start_time": "2022-08-31T08:20:45.936Z"
   },
   {
    "duration": 9,
    "start_time": "2022-08-31T08:21:58.652Z"
   },
   {
    "duration": 398,
    "start_time": "2022-08-31T08:22:07.283Z"
   },
   {
    "duration": 145,
    "start_time": "2022-08-31T08:22:07.683Z"
   },
   {
    "duration": 8,
    "start_time": "2022-08-31T08:22:07.829Z"
   },
   {
    "duration": 26,
    "start_time": "2022-08-31T08:22:07.839Z"
   },
   {
    "duration": 2,
    "start_time": "2022-08-31T08:22:07.867Z"
   },
   {
    "duration": 5,
    "start_time": "2022-08-31T08:22:07.870Z"
   },
   {
    "duration": 28,
    "start_time": "2022-08-31T08:22:07.876Z"
   },
   {
    "duration": 4,
    "start_time": "2022-08-31T08:22:07.906Z"
   },
   {
    "duration": 23,
    "start_time": "2022-08-31T08:22:07.912Z"
   },
   {
    "duration": 21,
    "start_time": "2022-08-31T08:22:07.939Z"
   },
   {
    "duration": 38,
    "start_time": "2022-08-31T08:22:07.962Z"
   },
   {
    "duration": 60,
    "start_time": "2022-08-31T08:22:08.001Z"
   },
   {
    "duration": 79,
    "start_time": "2022-08-31T08:22:08.063Z"
   },
   {
    "duration": 78,
    "start_time": "2022-08-31T08:22:08.143Z"
   },
   {
    "duration": 39,
    "start_time": "2022-08-31T08:22:08.223Z"
   },
   {
    "duration": 13,
    "start_time": "2022-08-31T08:22:08.264Z"
   },
   {
    "duration": 52,
    "start_time": "2022-08-31T08:22:08.279Z"
   },
   {
    "duration": 10,
    "start_time": "2022-08-31T08:22:08.332Z"
   },
   {
    "duration": 10,
    "start_time": "2022-08-31T08:22:08.343Z"
   },
   {
    "duration": 50,
    "start_time": "2022-08-31T08:22:08.354Z"
   },
   {
    "duration": 14,
    "start_time": "2022-08-31T08:22:08.406Z"
   },
   {
    "duration": 12,
    "start_time": "2022-08-31T08:22:08.421Z"
   },
   {
    "duration": 15,
    "start_time": "2022-08-31T08:22:08.434Z"
   },
   {
    "duration": 17,
    "start_time": "2022-08-31T08:22:08.450Z"
   },
   {
    "duration": 43,
    "start_time": "2022-08-31T08:22:08.469Z"
   },
   {
    "duration": 16,
    "start_time": "2022-08-31T08:22:08.513Z"
   },
   {
    "duration": 8,
    "start_time": "2022-08-31T08:22:08.531Z"
   },
   {
    "duration": 20,
    "start_time": "2022-08-31T08:22:08.542Z"
   },
   {
    "duration": 42,
    "start_time": "2022-08-31T08:22:08.564Z"
   },
   {
    "duration": 8,
    "start_time": "2022-08-31T08:22:08.607Z"
   },
   {
    "duration": 23,
    "start_time": "2022-08-31T08:22:08.617Z"
   },
   {
    "duration": 13,
    "start_time": "2022-08-31T08:22:08.642Z"
   },
   {
    "duration": 42,
    "start_time": "2022-08-31T08:22:08.657Z"
   },
   {
    "duration": 13,
    "start_time": "2022-08-31T08:22:08.700Z"
   },
   {
    "duration": 26,
    "start_time": "2022-08-31T08:22:08.715Z"
   },
   {
    "duration": 5,
    "start_time": "2022-08-31T08:22:08.742Z"
   },
   {
    "duration": 9,
    "start_time": "2022-08-31T08:22:08.748Z"
   },
   {
    "duration": 8,
    "start_time": "2022-08-31T08:22:08.759Z"
   },
   {
    "duration": 84,
    "start_time": "2022-08-31T08:22:54.517Z"
   },
   {
    "duration": 378,
    "start_time": "2022-08-31T08:23:01.720Z"
   },
   {
    "duration": 145,
    "start_time": "2022-08-31T08:23:02.100Z"
   },
   {
    "duration": 13,
    "start_time": "2022-08-31T08:23:02.247Z"
   },
   {
    "duration": 51,
    "start_time": "2022-08-31T08:23:02.263Z"
   },
   {
    "duration": 3,
    "start_time": "2022-08-31T08:23:02.315Z"
   },
   {
    "duration": 12,
    "start_time": "2022-08-31T08:23:02.320Z"
   },
   {
    "duration": 12,
    "start_time": "2022-08-31T08:23:02.334Z"
   },
   {
    "duration": 11,
    "start_time": "2022-08-31T08:23:02.348Z"
   },
   {
    "duration": 20,
    "start_time": "2022-08-31T08:23:02.360Z"
   },
   {
    "duration": 27,
    "start_time": "2022-08-31T08:23:02.382Z"
   },
   {
    "duration": 29,
    "start_time": "2022-08-31T08:23:02.410Z"
   },
   {
    "duration": 59,
    "start_time": "2022-08-31T08:23:02.441Z"
   },
   {
    "duration": 60,
    "start_time": "2022-08-31T08:23:02.501Z"
   },
   {
    "duration": 64,
    "start_time": "2022-08-31T08:23:02.563Z"
   },
   {
    "duration": 34,
    "start_time": "2022-08-31T08:23:02.629Z"
   },
   {
    "duration": 9,
    "start_time": "2022-08-31T08:23:02.665Z"
   },
   {
    "duration": 55,
    "start_time": "2022-08-31T08:23:02.675Z"
   },
   {
    "duration": 9,
    "start_time": "2022-08-31T08:23:02.732Z"
   },
   {
    "duration": 14,
    "start_time": "2022-08-31T08:23:02.742Z"
   },
   {
    "duration": 28,
    "start_time": "2022-08-31T08:23:02.757Z"
   },
   {
    "duration": 19,
    "start_time": "2022-08-31T08:23:02.798Z"
   },
   {
    "duration": 14,
    "start_time": "2022-08-31T08:23:02.818Z"
   },
   {
    "duration": 13,
    "start_time": "2022-08-31T08:23:02.834Z"
   },
   {
    "duration": 12,
    "start_time": "2022-08-31T08:23:02.849Z"
   },
   {
    "duration": 17,
    "start_time": "2022-08-31T08:23:02.863Z"
   },
   {
    "duration": 27,
    "start_time": "2022-08-31T08:23:02.882Z"
   },
   {
    "duration": 5,
    "start_time": "2022-08-31T08:23:02.911Z"
   },
   {
    "duration": 20,
    "start_time": "2022-08-31T08:23:02.919Z"
   },
   {
    "duration": 8,
    "start_time": "2022-08-31T08:23:02.941Z"
   },
   {
    "duration": 4,
    "start_time": "2022-08-31T08:23:02.951Z"
   },
   {
    "duration": 57,
    "start_time": "2022-08-31T08:23:02.957Z"
   },
   {
    "duration": 14,
    "start_time": "2022-08-31T08:23:03.016Z"
   },
   {
    "duration": 26,
    "start_time": "2022-08-31T08:23:03.032Z"
   },
   {
    "duration": 10,
    "start_time": "2022-08-31T08:23:03.060Z"
   },
   {
    "duration": 19,
    "start_time": "2022-08-31T08:23:03.071Z"
   },
   {
    "duration": 15,
    "start_time": "2022-08-31T08:23:03.092Z"
   },
   {
    "duration": 13,
    "start_time": "2022-08-31T08:23:03.109Z"
   },
   {
    "duration": 5,
    "start_time": "2022-08-31T08:23:03.124Z"
   }
  ],
  "colab": {
   "collapsed_sections": [
    "E0vqbgi9ay0H",
    "VUC88oWjTJw2"
   ],
   "name": "automatization_template_upd4.ipynb",
   "provenance": []
  },
  "kernelspec": {
   "display_name": "Python 3 (ipykernel)",
   "language": "python",
   "name": "python3"
  },
  "language_info": {
   "codemirror_mode": {
    "name": "ipython",
    "version": 3
   },
   "file_extension": ".py",
   "mimetype": "text/x-python",
   "name": "python",
   "nbconvert_exporter": "python",
   "pygments_lexer": "ipython3",
   "version": "3.9.5"
  },
  "toc": {
   "base_numbering": 1,
   "nav_menu": {
    "height": "215px",
    "width": "403px"
   },
   "number_sections": true,
   "sideBar": true,
   "skip_h1_title": true,
   "title_cell": "Table of Contents",
   "title_sidebar": "Contents",
   "toc_cell": false,
   "toc_position": {
    "height": "calc(100% - 180px)",
    "left": "10px",
    "top": "150px",
    "width": "285.825px"
   },
   "toc_section_display": true,
   "toc_window_display": false
  }
 },
 "nbformat": 4,
 "nbformat_minor": 1
}
